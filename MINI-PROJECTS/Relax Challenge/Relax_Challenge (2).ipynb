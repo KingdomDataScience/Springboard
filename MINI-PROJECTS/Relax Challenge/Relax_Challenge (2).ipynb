{
  "nbformat": 4,
  "nbformat_minor": 0,
  "metadata": {
    "colab": {
      "name": "Relax_Challenge.ipynb",
      "provenance": [],
      "collapsed_sections": []
    },
    "kernelspec": {
      "display_name": "Python 3",
      "language": "python",
      "name": "python3"
    },
    "language_info": {
      "codemirror_mode": {
        "name": "ipython",
        "version": 3
      },
      "file_extension": ".py",
      "mimetype": "text/x-python",
      "name": "python",
      "nbconvert_exporter": "python",
      "pygments_lexer": "ipython3",
      "version": "3.7.6"
    }
  },
  "cells": [
    {
      "cell_type": "markdown",
      "metadata": {
        "id": "7dsgFRnsY9aQ"
      },
      "source": [
        "#**IMPORT THE LIBRARIES**\r\n",
        "\r\n",
        "\r\n",
        "\r\n"
      ]
    },
    {
      "cell_type": "code",
      "metadata": {
        "id": "rHrk156HZI9U"
      },
      "source": [
        "%matplotlib inline\r\n",
        "import pandas as pd\r\n",
        "import numpy as np\r\n",
        "import sklearn\r\n",
        "import matplotlib.pyplot as plt\r\n",
        "import seaborn as sns\r\n",
        "from sklearn import preprocessing\r\n",
        "from sklearn.linear_model import LogisticRegression\r\n",
        "import sklearn.metrics as metrics"
      ],
      "execution_count": null,
      "outputs": []
    },
    {
      "cell_type": "markdown",
      "metadata": {
        "id": "34qNMk0oXZjh"
      },
      "source": [
        "#**IMPORT THE DATA**\r\n"
      ]
    },
    {
      "cell_type": "code",
      "metadata": {
        "colab": {
          "resources": {
            "http://localhost:8080/nbextensions/google.colab/files.js": {
              "data": "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",
              "ok": true,
              "headers": [
                [
                  "content-type",
                  "application/javascript"
                ]
              ],
              "status": 200,
              "status_text": ""
            }
          },
          "base_uri": "https://localhost:8080/",
          "height": 72
        },
        "id": "sj3bCOa1XRoh",
        "outputId": "3da05ec1-7fa0-465a-a532-275efd462d18"
      },
      "source": [
        "from google.colab import files\r\n",
        "uploaded=files.upload()"
      ],
      "execution_count": null,
      "outputs": [
        {
          "output_type": "display_data",
          "data": {
            "text/html": [
              "\n",
              "     <input type=\"file\" id=\"files-738adf29-1dfb-47af-887f-2a593cd66147\" name=\"files[]\" multiple disabled\n",
              "        style=\"border:none\" />\n",
              "     <output id=\"result-738adf29-1dfb-47af-887f-2a593cd66147\">\n",
              "      Upload widget is only available when the cell has been executed in the\n",
              "      current browser session. Please rerun this cell to enable.\n",
              "      </output>\n",
              "      <script src=\"/nbextensions/google.colab/files.js\"></script> "
            ],
            "text/plain": [
              "<IPython.core.display.HTML object>"
            ]
          },
          "metadata": {
            "tags": []
          }
        },
        {
          "output_type": "stream",
          "text": [
            "Saving takehome_user_engagement.csv to takehome_user_engagement.csv\n"
          ],
          "name": "stdout"
        }
      ]
    },
    {
      "cell_type": "code",
      "metadata": {
        "colab": {
          "resources": {
            "http://localhost:8080/nbextensions/google.colab/files.js": {
              "data": "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",
              "ok": true,
              "headers": [
                [
                  "content-type",
                  "application/javascript"
                ]
              ],
              "status": 200,
              "status_text": ""
            }
          },
          "base_uri": "https://localhost:8080/",
          "height": 72
        },
        "id": "_Q1xHQmuh7MG",
        "outputId": "2d130d36-55b1-4b24-f496-df1311e14c60"
      },
      "source": [
        "from google.colab import files\r\n",
        "uploaded=files.upload()"
      ],
      "execution_count": null,
      "outputs": [
        {
          "output_type": "display_data",
          "data": {
            "text/html": [
              "\n",
              "     <input type=\"file\" id=\"files-3c192e3b-fca2-4dec-b23b-113302e25332\" name=\"files[]\" multiple disabled\n",
              "        style=\"border:none\" />\n",
              "     <output id=\"result-3c192e3b-fca2-4dec-b23b-113302e25332\">\n",
              "      Upload widget is only available when the cell has been executed in the\n",
              "      current browser session. Please rerun this cell to enable.\n",
              "      </output>\n",
              "      <script src=\"/nbextensions/google.colab/files.js\"></script> "
            ],
            "text/plain": [
              "<IPython.core.display.HTML object>"
            ]
          },
          "metadata": {
            "tags": []
          }
        },
        {
          "output_type": "stream",
          "text": [
            "Saving takehome_users.csv to takehome_users.csv\n"
          ],
          "name": "stdout"
        }
      ]
    },
    {
      "cell_type": "code",
      "metadata": {
        "id": "fIGjIZZ4XRr2"
      },
      "source": [
        "df=pd.read_csv('takehome_user_engagement.csv')"
      ],
      "execution_count": null,
      "outputs": []
    },
    {
      "cell_type": "code",
      "metadata": {
        "colab": {
          "base_uri": "https://localhost:8080/",
          "height": 204
        },
        "id": "dBluwYDIXRvJ",
        "outputId": "9e28e472-4099-42d6-deb8-3603e222b7a7"
      },
      "source": [
        "df.head()"
      ],
      "execution_count": null,
      "outputs": [
        {
          "output_type": "execute_result",
          "data": {
            "text/html": [
              "<div>\n",
              "<style scoped>\n",
              "    .dataframe tbody tr th:only-of-type {\n",
              "        vertical-align: middle;\n",
              "    }\n",
              "\n",
              "    .dataframe tbody tr th {\n",
              "        vertical-align: top;\n",
              "    }\n",
              "\n",
              "    .dataframe thead th {\n",
              "        text-align: right;\n",
              "    }\n",
              "</style>\n",
              "<table border=\"1\" class=\"dataframe\">\n",
              "  <thead>\n",
              "    <tr style=\"text-align: right;\">\n",
              "      <th></th>\n",
              "      <th>time_stamp</th>\n",
              "      <th>user_id</th>\n",
              "      <th>visited</th>\n",
              "    </tr>\n",
              "  </thead>\n",
              "  <tbody>\n",
              "    <tr>\n",
              "      <th>0</th>\n",
              "      <td>2014-04-22 03:53:30</td>\n",
              "      <td>1</td>\n",
              "      <td>1</td>\n",
              "    </tr>\n",
              "    <tr>\n",
              "      <th>1</th>\n",
              "      <td>2013-11-15 03:45:04</td>\n",
              "      <td>2</td>\n",
              "      <td>1</td>\n",
              "    </tr>\n",
              "    <tr>\n",
              "      <th>2</th>\n",
              "      <td>2013-11-29 03:45:04</td>\n",
              "      <td>2</td>\n",
              "      <td>1</td>\n",
              "    </tr>\n",
              "    <tr>\n",
              "      <th>3</th>\n",
              "      <td>2013-12-09 03:45:04</td>\n",
              "      <td>2</td>\n",
              "      <td>1</td>\n",
              "    </tr>\n",
              "    <tr>\n",
              "      <th>4</th>\n",
              "      <td>2013-12-25 03:45:04</td>\n",
              "      <td>2</td>\n",
              "      <td>1</td>\n",
              "    </tr>\n",
              "  </tbody>\n",
              "</table>\n",
              "</div>"
            ],
            "text/plain": [
              "            time_stamp  user_id  visited\n",
              "0  2014-04-22 03:53:30        1        1\n",
              "1  2013-11-15 03:45:04        2        1\n",
              "2  2013-11-29 03:45:04        2        1\n",
              "3  2013-12-09 03:45:04        2        1\n",
              "4  2013-12-25 03:45:04        2        1"
            ]
          },
          "metadata": {
            "tags": []
          },
          "execution_count": 5
        }
      ]
    },
    {
      "cell_type": "code",
      "metadata": {
        "colab": {
          "base_uri": "https://localhost:8080/"
        },
        "id": "YI_rrVATbXa0",
        "outputId": "2e39eaaa-700a-42a6-d471-ee29987aa5c0"
      },
      "source": [
        "#Let us check to type of time_stamp\r\n",
        "df.dtypes"
      ],
      "execution_count": null,
      "outputs": [
        {
          "output_type": "execute_result",
          "data": {
            "text/plain": [
              "time_stamp    object\n",
              "user_id        int64\n",
              "visited        int64\n",
              "dtype: object"
            ]
          },
          "metadata": {
            "tags": []
          },
          "execution_count": 6
        }
      ]
    },
    {
      "cell_type": "code",
      "metadata": {
        "colab": {
          "base_uri": "https://localhost:8080/",
          "height": 49
        },
        "id": "jpxyt7itvBT_",
        "outputId": "d235b879-71f1-46b6-ad1c-3d4be29d0af2"
      },
      "source": [
        "#Let us check if there are duplicate rows\r\n",
        "df[df.duplicated()==True]"
      ],
      "execution_count": null,
      "outputs": [
        {
          "output_type": "execute_result",
          "data": {
            "text/html": [
              "<div>\n",
              "<style scoped>\n",
              "    .dataframe tbody tr th:only-of-type {\n",
              "        vertical-align: middle;\n",
              "    }\n",
              "\n",
              "    .dataframe tbody tr th {\n",
              "        vertical-align: top;\n",
              "    }\n",
              "\n",
              "    .dataframe thead th {\n",
              "        text-align: right;\n",
              "    }\n",
              "</style>\n",
              "<table border=\"1\" class=\"dataframe\">\n",
              "  <thead>\n",
              "    <tr style=\"text-align: right;\">\n",
              "      <th></th>\n",
              "      <th>time_stamp</th>\n",
              "      <th>user_id</th>\n",
              "      <th>visited</th>\n",
              "    </tr>\n",
              "  </thead>\n",
              "  <tbody>\n",
              "  </tbody>\n",
              "</table>\n",
              "</div>"
            ],
            "text/plain": [
              "Empty DataFrame\n",
              "Columns: [time_stamp, user_id, visited]\n",
              "Index: []"
            ]
          },
          "metadata": {
            "tags": []
          },
          "execution_count": 7
        }
      ]
    },
    {
      "cell_type": "code",
      "metadata": {
        "colab": {
          "base_uri": "https://localhost:8080/"
        },
        "id": "4zQcMwkhXRyQ",
        "outputId": "4f353110-8f29-4b85-d826-47fdbe5de9a2"
      },
      "source": [
        "#Let us convert \"time_stamp\" to date_time\r\n",
        "df['time_stamp']=pd.to_datetime(df['time_stamp'])\r\n",
        "df.set_index('time_stamp', inplace=True)\r\n",
        "df.dtypes"
      ],
      "execution_count": null,
      "outputs": [
        {
          "output_type": "execute_result",
          "data": {
            "text/plain": [
              "user_id    int64\n",
              "visited    int64\n",
              "dtype: object"
            ]
          },
          "metadata": {
            "tags": []
          },
          "execution_count": 8
        }
      ]
    },
    {
      "cell_type": "code",
      "metadata": {
        "colab": {
          "base_uri": "https://localhost:8080/"
        },
        "id": "7DllI9bKXR1b",
        "outputId": "d361ca9d-40da-4465-b46d-fcaa69b51c2f"
      },
      "source": [
        "\r\n",
        "df.dtypes"
      ],
      "execution_count": null,
      "outputs": [
        {
          "output_type": "execute_result",
          "data": {
            "text/plain": [
              "user_id    int64\n",
              "visited    int64\n",
              "dtype: object"
            ]
          },
          "metadata": {
            "tags": []
          },
          "execution_count": 9
        }
      ]
    },
    {
      "cell_type": "code",
      "metadata": {
        "colab": {
          "base_uri": "https://localhost:8080/"
        },
        "id": "O-mcxd5kczYI",
        "outputId": "2eca1998-12d4-4ccc-9a0e-f55a8d94bfe8"
      },
      "source": [
        "df.shape"
      ],
      "execution_count": null,
      "outputs": [
        {
          "output_type": "execute_result",
          "data": {
            "text/plain": [
              "(207917, 2)"
            ]
          },
          "metadata": {
            "tags": []
          },
          "execution_count": 10
        }
      ]
    },
    {
      "cell_type": "code",
      "metadata": {
        "colab": {
          "base_uri": "https://localhost:8080/",
          "height": 235
        },
        "id": "BOCzArxwXR4l",
        "outputId": "b248516a-41a6-492e-8fdb-3068718f6caa"
      },
      "source": [
        "#We will sort the value by 'time_stamp'\r\n",
        "df=df.sort_values(by=['time_stamp'])\r\n",
        "df.head()"
      ],
      "execution_count": null,
      "outputs": [
        {
          "output_type": "execute_result",
          "data": {
            "text/html": [
              "<div>\n",
              "<style scoped>\n",
              "    .dataframe tbody tr th:only-of-type {\n",
              "        vertical-align: middle;\n",
              "    }\n",
              "\n",
              "    .dataframe tbody tr th {\n",
              "        vertical-align: top;\n",
              "    }\n",
              "\n",
              "    .dataframe thead th {\n",
              "        text-align: right;\n",
              "    }\n",
              "</style>\n",
              "<table border=\"1\" class=\"dataframe\">\n",
              "  <thead>\n",
              "    <tr style=\"text-align: right;\">\n",
              "      <th></th>\n",
              "      <th>user_id</th>\n",
              "      <th>visited</th>\n",
              "    </tr>\n",
              "    <tr>\n",
              "      <th>time_stamp</th>\n",
              "      <th></th>\n",
              "      <th></th>\n",
              "    </tr>\n",
              "  </thead>\n",
              "  <tbody>\n",
              "    <tr>\n",
              "      <th>2012-05-31 08:20:06</th>\n",
              "      <td>10012</td>\n",
              "      <td>1</td>\n",
              "    </tr>\n",
              "    <tr>\n",
              "      <th>2012-05-31 15:47:36</th>\n",
              "      <td>3428</td>\n",
              "      <td>1</td>\n",
              "    </tr>\n",
              "    <tr>\n",
              "      <th>2012-05-31 17:19:37</th>\n",
              "      <td>9899</td>\n",
              "      <td>1</td>\n",
              "    </tr>\n",
              "    <tr>\n",
              "      <th>2012-05-31 21:58:33</th>\n",
              "      <td>1693</td>\n",
              "      <td>1</td>\n",
              "    </tr>\n",
              "    <tr>\n",
              "      <th>2012-06-01 00:17:30</th>\n",
              "      <td>6102</td>\n",
              "      <td>1</td>\n",
              "    </tr>\n",
              "  </tbody>\n",
              "</table>\n",
              "</div>"
            ],
            "text/plain": [
              "                     user_id  visited\n",
              "time_stamp                           \n",
              "2012-05-31 08:20:06    10012        1\n",
              "2012-05-31 15:47:36     3428        1\n",
              "2012-05-31 17:19:37     9899        1\n",
              "2012-05-31 21:58:33     1693        1\n",
              "2012-06-01 00:17:30     6102        1"
            ]
          },
          "metadata": {
            "tags": []
          },
          "execution_count": 11
        }
      ]
    },
    {
      "cell_type": "code",
      "metadata": {
        "colab": {
          "base_uri": "https://localhost:8080/",
          "height": 450
        },
        "id": "wwrm_-BSv_RB",
        "outputId": "280bcda2-f30b-494c-d83e-b85fce7093c7"
      },
      "source": [
        "#Let us check if there are duplicate rows\r\n",
        "df[df.duplicated()==True]"
      ],
      "execution_count": null,
      "outputs": [
        {
          "output_type": "execute_result",
          "data": {
            "text/html": [
              "<div>\n",
              "<style scoped>\n",
              "    .dataframe tbody tr th:only-of-type {\n",
              "        vertical-align: middle;\n",
              "    }\n",
              "\n",
              "    .dataframe tbody tr th {\n",
              "        vertical-align: top;\n",
              "    }\n",
              "\n",
              "    .dataframe thead th {\n",
              "        text-align: right;\n",
              "    }\n",
              "</style>\n",
              "<table border=\"1\" class=\"dataframe\">\n",
              "  <thead>\n",
              "    <tr style=\"text-align: right;\">\n",
              "      <th></th>\n",
              "      <th>user_id</th>\n",
              "      <th>visited</th>\n",
              "    </tr>\n",
              "    <tr>\n",
              "      <th>time_stamp</th>\n",
              "      <th></th>\n",
              "      <th></th>\n",
              "    </tr>\n",
              "  </thead>\n",
              "  <tbody>\n",
              "    <tr>\n",
              "      <th>2012-06-04 00:28:47</th>\n",
              "      <td>3514</td>\n",
              "      <td>1</td>\n",
              "    </tr>\n",
              "    <tr>\n",
              "      <th>2012-06-04 06:23:51</th>\n",
              "      <td>7170</td>\n",
              "      <td>1</td>\n",
              "    </tr>\n",
              "    <tr>\n",
              "      <th>2012-06-05 16:44:54</th>\n",
              "      <td>2568</td>\n",
              "      <td>1</td>\n",
              "    </tr>\n",
              "    <tr>\n",
              "      <th>2012-06-05 21:58:33</th>\n",
              "      <td>1693</td>\n",
              "      <td>1</td>\n",
              "    </tr>\n",
              "    <tr>\n",
              "      <th>2012-06-06 20:33:31</th>\n",
              "      <td>6047</td>\n",
              "      <td>1</td>\n",
              "    </tr>\n",
              "    <tr>\n",
              "      <th>...</th>\n",
              "      <td>...</td>\n",
              "      <td>...</td>\n",
              "    </tr>\n",
              "    <tr>\n",
              "      <th>2014-06-04 23:30:50</th>\n",
              "      <td>7859</td>\n",
              "      <td>1</td>\n",
              "    </tr>\n",
              "    <tr>\n",
              "      <th>2014-06-04 23:32:13</th>\n",
              "      <td>4625</td>\n",
              "      <td>1</td>\n",
              "    </tr>\n",
              "    <tr>\n",
              "      <th>2014-06-04 23:34:04</th>\n",
              "      <td>9325</td>\n",
              "      <td>1</td>\n",
              "    </tr>\n",
              "    <tr>\n",
              "      <th>2014-06-04 23:46:31</th>\n",
              "      <td>9558</td>\n",
              "      <td>1</td>\n",
              "    </tr>\n",
              "    <tr>\n",
              "      <th>2014-06-04 23:56:26</th>\n",
              "      <td>341</td>\n",
              "      <td>1</td>\n",
              "    </tr>\n",
              "  </tbody>\n",
              "</table>\n",
              "<p>199094 rows × 2 columns</p>\n",
              "</div>"
            ],
            "text/plain": [
              "                     user_id  visited\n",
              "time_stamp                           \n",
              "2012-06-04 00:28:47     3514        1\n",
              "2012-06-04 06:23:51     7170        1\n",
              "2012-06-05 16:44:54     2568        1\n",
              "2012-06-05 21:58:33     1693        1\n",
              "2012-06-06 20:33:31     6047        1\n",
              "...                      ...      ...\n",
              "2014-06-04 23:30:50     7859        1\n",
              "2014-06-04 23:32:13     4625        1\n",
              "2014-06-04 23:34:04     9325        1\n",
              "2014-06-04 23:46:31     9558        1\n",
              "2014-06-04 23:56:26      341        1\n",
              "\n",
              "[199094 rows x 2 columns]"
            ]
          },
          "metadata": {
            "tags": []
          },
          "execution_count": 12
        }
      ]
    },
    {
      "cell_type": "markdown",
      "metadata": {
        "id": "o_CEH3M_wR6m"
      },
      "source": [
        "It looks like the data have a lot of duplicated values, but as we can see there are not identical rows in this data."
      ]
    },
    {
      "cell_type": "code",
      "metadata": {
        "id": "dftz7qsEX30Q"
      },
      "source": [
        "#We group our data by 'user_id' and group rows by week (Here we use resample() to do that.). This will gives us the weekly number of visit of each user.\r\n",
        "df_group= df.groupby('user_id').resample('1W').sum()"
      ],
      "execution_count": null,
      "outputs": []
    },
    {
      "cell_type": "code",
      "metadata": {
        "colab": {
          "base_uri": "https://localhost:8080/",
          "height": 1000
        },
        "id": "4PKz9HniX331",
        "outputId": "1216b3d4-d093-463d-f811-d755ee4d0156"
      },
      "source": [
        "df_group.head(40)"
      ],
      "execution_count": null,
      "outputs": [
        {
          "output_type": "execute_result",
          "data": {
            "text/html": [
              "<div>\n",
              "<style scoped>\n",
              "    .dataframe tbody tr th:only-of-type {\n",
              "        vertical-align: middle;\n",
              "    }\n",
              "\n",
              "    .dataframe tbody tr th {\n",
              "        vertical-align: top;\n",
              "    }\n",
              "\n",
              "    .dataframe thead th {\n",
              "        text-align: right;\n",
              "    }\n",
              "</style>\n",
              "<table border=\"1\" class=\"dataframe\">\n",
              "  <thead>\n",
              "    <tr style=\"text-align: right;\">\n",
              "      <th></th>\n",
              "      <th></th>\n",
              "      <th>user_id</th>\n",
              "      <th>visited</th>\n",
              "    </tr>\n",
              "    <tr>\n",
              "      <th>user_id</th>\n",
              "      <th>time_stamp</th>\n",
              "      <th></th>\n",
              "      <th></th>\n",
              "    </tr>\n",
              "  </thead>\n",
              "  <tbody>\n",
              "    <tr>\n",
              "      <th>1</th>\n",
              "      <th>2014-04-27</th>\n",
              "      <td>1</td>\n",
              "      <td>1</td>\n",
              "    </tr>\n",
              "    <tr>\n",
              "      <th rowspan=\"21\" valign=\"top\">2</th>\n",
              "      <th>2013-11-17</th>\n",
              "      <td>2</td>\n",
              "      <td>1</td>\n",
              "    </tr>\n",
              "    <tr>\n",
              "      <th>2013-11-24</th>\n",
              "      <td>0</td>\n",
              "      <td>0</td>\n",
              "    </tr>\n",
              "    <tr>\n",
              "      <th>2013-12-01</th>\n",
              "      <td>2</td>\n",
              "      <td>1</td>\n",
              "    </tr>\n",
              "    <tr>\n",
              "      <th>2013-12-08</th>\n",
              "      <td>0</td>\n",
              "      <td>0</td>\n",
              "    </tr>\n",
              "    <tr>\n",
              "      <th>2013-12-15</th>\n",
              "      <td>2</td>\n",
              "      <td>1</td>\n",
              "    </tr>\n",
              "    <tr>\n",
              "      <th>2013-12-22</th>\n",
              "      <td>0</td>\n",
              "      <td>0</td>\n",
              "    </tr>\n",
              "    <tr>\n",
              "      <th>2013-12-29</th>\n",
              "      <td>2</td>\n",
              "      <td>1</td>\n",
              "    </tr>\n",
              "    <tr>\n",
              "      <th>2014-01-05</th>\n",
              "      <td>2</td>\n",
              "      <td>1</td>\n",
              "    </tr>\n",
              "    <tr>\n",
              "      <th>2014-01-12</th>\n",
              "      <td>2</td>\n",
              "      <td>1</td>\n",
              "    </tr>\n",
              "    <tr>\n",
              "      <th>2014-01-19</th>\n",
              "      <td>0</td>\n",
              "      <td>0</td>\n",
              "    </tr>\n",
              "    <tr>\n",
              "      <th>2014-01-26</th>\n",
              "      <td>0</td>\n",
              "      <td>0</td>\n",
              "    </tr>\n",
              "    <tr>\n",
              "      <th>2014-02-02</th>\n",
              "      <td>0</td>\n",
              "      <td>0</td>\n",
              "    </tr>\n",
              "    <tr>\n",
              "      <th>2014-02-09</th>\n",
              "      <td>6</td>\n",
              "      <td>3</td>\n",
              "    </tr>\n",
              "    <tr>\n",
              "      <th>2014-02-16</th>\n",
              "      <td>4</td>\n",
              "      <td>2</td>\n",
              "    </tr>\n",
              "    <tr>\n",
              "      <th>2014-02-23</th>\n",
              "      <td>0</td>\n",
              "      <td>0</td>\n",
              "    </tr>\n",
              "    <tr>\n",
              "      <th>2014-03-02</th>\n",
              "      <td>0</td>\n",
              "      <td>0</td>\n",
              "    </tr>\n",
              "    <tr>\n",
              "      <th>2014-03-09</th>\n",
              "      <td>2</td>\n",
              "      <td>1</td>\n",
              "    </tr>\n",
              "    <tr>\n",
              "      <th>2014-03-16</th>\n",
              "      <td>2</td>\n",
              "      <td>1</td>\n",
              "    </tr>\n",
              "    <tr>\n",
              "      <th>2014-03-23</th>\n",
              "      <td>0</td>\n",
              "      <td>0</td>\n",
              "    </tr>\n",
              "    <tr>\n",
              "      <th>2014-03-30</th>\n",
              "      <td>0</td>\n",
              "      <td>0</td>\n",
              "    </tr>\n",
              "    <tr>\n",
              "      <th>2014-04-06</th>\n",
              "      <td>2</td>\n",
              "      <td>1</td>\n",
              "    </tr>\n",
              "    <tr>\n",
              "      <th>3</th>\n",
              "      <th>2013-03-24</th>\n",
              "      <td>3</td>\n",
              "      <td>1</td>\n",
              "    </tr>\n",
              "    <tr>\n",
              "      <th>4</th>\n",
              "      <th>2013-05-26</th>\n",
              "      <td>4</td>\n",
              "      <td>1</td>\n",
              "    </tr>\n",
              "    <tr>\n",
              "      <th>5</th>\n",
              "      <th>2013-01-27</th>\n",
              "      <td>5</td>\n",
              "      <td>1</td>\n",
              "    </tr>\n",
              "    <tr>\n",
              "      <th>6</th>\n",
              "      <th>2013-12-22</th>\n",
              "      <td>6</td>\n",
              "      <td>1</td>\n",
              "    </tr>\n",
              "    <tr>\n",
              "      <th>7</th>\n",
              "      <th>2012-12-23</th>\n",
              "      <td>7</td>\n",
              "      <td>1</td>\n",
              "    </tr>\n",
              "    <tr>\n",
              "      <th rowspan=\"13\" valign=\"top\">10</th>\n",
              "      <th>2013-01-20</th>\n",
              "      <td>10</td>\n",
              "      <td>1</td>\n",
              "    </tr>\n",
              "    <tr>\n",
              "      <th>2013-01-27</th>\n",
              "      <td>10</td>\n",
              "      <td>1</td>\n",
              "    </tr>\n",
              "    <tr>\n",
              "      <th>2013-02-03</th>\n",
              "      <td>10</td>\n",
              "      <td>1</td>\n",
              "    </tr>\n",
              "    <tr>\n",
              "      <th>2013-02-10</th>\n",
              "      <td>20</td>\n",
              "      <td>2</td>\n",
              "    </tr>\n",
              "    <tr>\n",
              "      <th>2013-02-17</th>\n",
              "      <td>20</td>\n",
              "      <td>2</td>\n",
              "    </tr>\n",
              "    <tr>\n",
              "      <th>2013-02-24</th>\n",
              "      <td>10</td>\n",
              "      <td>1</td>\n",
              "    </tr>\n",
              "    <tr>\n",
              "      <th>2013-03-03</th>\n",
              "      <td>30</td>\n",
              "      <td>3</td>\n",
              "    </tr>\n",
              "    <tr>\n",
              "      <th>2013-03-10</th>\n",
              "      <td>20</td>\n",
              "      <td>2</td>\n",
              "    </tr>\n",
              "    <tr>\n",
              "      <th>2013-03-17</th>\n",
              "      <td>20</td>\n",
              "      <td>2</td>\n",
              "    </tr>\n",
              "    <tr>\n",
              "      <th>2013-03-24</th>\n",
              "      <td>20</td>\n",
              "      <td>2</td>\n",
              "    </tr>\n",
              "    <tr>\n",
              "      <th>2013-03-31</th>\n",
              "      <td>10</td>\n",
              "      <td>1</td>\n",
              "    </tr>\n",
              "    <tr>\n",
              "      <th>2013-04-07</th>\n",
              "      <td>10</td>\n",
              "      <td>1</td>\n",
              "    </tr>\n",
              "    <tr>\n",
              "      <th>2013-04-14</th>\n",
              "      <td>30</td>\n",
              "      <td>3</td>\n",
              "    </tr>\n",
              "  </tbody>\n",
              "</table>\n",
              "</div>"
            ],
            "text/plain": [
              "                    user_id  visited\n",
              "user_id time_stamp                  \n",
              "1       2014-04-27        1        1\n",
              "2       2013-11-17        2        1\n",
              "        2013-11-24        0        0\n",
              "        2013-12-01        2        1\n",
              "        2013-12-08        0        0\n",
              "        2013-12-15        2        1\n",
              "        2013-12-22        0        0\n",
              "        2013-12-29        2        1\n",
              "        2014-01-05        2        1\n",
              "        2014-01-12        2        1\n",
              "        2014-01-19        0        0\n",
              "        2014-01-26        0        0\n",
              "        2014-02-02        0        0\n",
              "        2014-02-09        6        3\n",
              "        2014-02-16        4        2\n",
              "        2014-02-23        0        0\n",
              "        2014-03-02        0        0\n",
              "        2014-03-09        2        1\n",
              "        2014-03-16        2        1\n",
              "        2014-03-23        0        0\n",
              "        2014-03-30        0        0\n",
              "        2014-04-06        2        1\n",
              "3       2013-03-24        3        1\n",
              "4       2013-05-26        4        1\n",
              "5       2013-01-27        5        1\n",
              "6       2013-12-22        6        1\n",
              "7       2012-12-23        7        1\n",
              "10      2013-01-20       10        1\n",
              "        2013-01-27       10        1\n",
              "        2013-02-03       10        1\n",
              "        2013-02-10       20        2\n",
              "        2013-02-17       20        2\n",
              "        2013-02-24       10        1\n",
              "        2013-03-03       30        3\n",
              "        2013-03-10       20        2\n",
              "        2013-03-17       20        2\n",
              "        2013-03-24       20        2\n",
              "        2013-03-31       10        1\n",
              "        2013-04-07       10        1\n",
              "        2013-04-14       30        3"
            ]
          },
          "metadata": {
            "tags": []
          },
          "execution_count": 15
        }
      ]
    },
    {
      "cell_type": "code",
      "metadata": {
        "colab": {
          "base_uri": "https://localhost:8080/"
        },
        "id": "GUH7OSIwcrvn",
        "outputId": "2a37e07a-0cf5-40f2-f5b6-d941556fb29b"
      },
      "source": [
        "df_group.shape\r\n",
        "len(df_group)"
      ],
      "execution_count": null,
      "outputs": [
        {
          "output_type": "execute_result",
          "data": {
            "text/plain": [
              "82282"
            ]
          },
          "metadata": {
            "tags": []
          },
          "execution_count": 16
        }
      ]
    },
    {
      "cell_type": "code",
      "metadata": {
        "id": "KPfEynfhX3_I"
      },
      "source": [
        "#let us drop 'user_id'\r\n",
        "df_group=df_group.drop(columns='user_id', axis=1)"
      ],
      "execution_count": null,
      "outputs": []
    },
    {
      "cell_type": "code",
      "metadata": {
        "colab": {
          "base_uri": "https://localhost:8080/",
          "height": 235
        },
        "id": "1qyM4rjLX4B6",
        "outputId": "273938f4-625d-4c88-ebcc-3ccd1abbf638"
      },
      "source": [
        "df_group.head()"
      ],
      "execution_count": null,
      "outputs": [
        {
          "output_type": "execute_result",
          "data": {
            "text/html": [
              "<div>\n",
              "<style scoped>\n",
              "    .dataframe tbody tr th:only-of-type {\n",
              "        vertical-align: middle;\n",
              "    }\n",
              "\n",
              "    .dataframe tbody tr th {\n",
              "        vertical-align: top;\n",
              "    }\n",
              "\n",
              "    .dataframe thead th {\n",
              "        text-align: right;\n",
              "    }\n",
              "</style>\n",
              "<table border=\"1\" class=\"dataframe\">\n",
              "  <thead>\n",
              "    <tr style=\"text-align: right;\">\n",
              "      <th></th>\n",
              "      <th></th>\n",
              "      <th>visited</th>\n",
              "    </tr>\n",
              "    <tr>\n",
              "      <th>user_id</th>\n",
              "      <th>time_stamp</th>\n",
              "      <th></th>\n",
              "    </tr>\n",
              "  </thead>\n",
              "  <tbody>\n",
              "    <tr>\n",
              "      <th>1</th>\n",
              "      <th>2014-04-27</th>\n",
              "      <td>1</td>\n",
              "    </tr>\n",
              "    <tr>\n",
              "      <th rowspan=\"4\" valign=\"top\">2</th>\n",
              "      <th>2013-11-17</th>\n",
              "      <td>1</td>\n",
              "    </tr>\n",
              "    <tr>\n",
              "      <th>2013-11-24</th>\n",
              "      <td>0</td>\n",
              "    </tr>\n",
              "    <tr>\n",
              "      <th>2013-12-01</th>\n",
              "      <td>1</td>\n",
              "    </tr>\n",
              "    <tr>\n",
              "      <th>2013-12-08</th>\n",
              "      <td>0</td>\n",
              "    </tr>\n",
              "  </tbody>\n",
              "</table>\n",
              "</div>"
            ],
            "text/plain": [
              "                    visited\n",
              "user_id time_stamp         \n",
              "1       2014-04-27        1\n",
              "2       2013-11-17        1\n",
              "        2013-11-24        0\n",
              "        2013-12-01        1\n",
              "        2013-12-08        0"
            ]
          },
          "metadata": {
            "tags": []
          },
          "execution_count": 18
        }
      ]
    },
    {
      "cell_type": "code",
      "metadata": {
        "id": "9QkZtmoAfPgw"
      },
      "source": [
        "#Let us create a column called 'adopted_user' and set it to zero\r\n",
        "df_group['adopted_user']=0"
      ],
      "execution_count": null,
      "outputs": []
    },
    {
      "cell_type": "code",
      "metadata": {
        "colab": {
          "base_uri": "https://localhost:8080/",
          "height": 235
        },
        "id": "1QzcPJRnfh_5",
        "outputId": "18b4d83d-37da-4bb4-8388-ebf4a9d4786a"
      },
      "source": [
        "df_group.head()"
      ],
      "execution_count": null,
      "outputs": [
        {
          "output_type": "execute_result",
          "data": {
            "text/html": [
              "<div>\n",
              "<style scoped>\n",
              "    .dataframe tbody tr th:only-of-type {\n",
              "        vertical-align: middle;\n",
              "    }\n",
              "\n",
              "    .dataframe tbody tr th {\n",
              "        vertical-align: top;\n",
              "    }\n",
              "\n",
              "    .dataframe thead th {\n",
              "        text-align: right;\n",
              "    }\n",
              "</style>\n",
              "<table border=\"1\" class=\"dataframe\">\n",
              "  <thead>\n",
              "    <tr style=\"text-align: right;\">\n",
              "      <th></th>\n",
              "      <th></th>\n",
              "      <th>visited</th>\n",
              "      <th>adopted_user</th>\n",
              "    </tr>\n",
              "    <tr>\n",
              "      <th>user_id</th>\n",
              "      <th>time_stamp</th>\n",
              "      <th></th>\n",
              "      <th></th>\n",
              "    </tr>\n",
              "  </thead>\n",
              "  <tbody>\n",
              "    <tr>\n",
              "      <th>1</th>\n",
              "      <th>2014-04-27</th>\n",
              "      <td>1</td>\n",
              "      <td>0</td>\n",
              "    </tr>\n",
              "    <tr>\n",
              "      <th rowspan=\"4\" valign=\"top\">2</th>\n",
              "      <th>2013-11-17</th>\n",
              "      <td>1</td>\n",
              "      <td>0</td>\n",
              "    </tr>\n",
              "    <tr>\n",
              "      <th>2013-11-24</th>\n",
              "      <td>0</td>\n",
              "      <td>0</td>\n",
              "    </tr>\n",
              "    <tr>\n",
              "      <th>2013-12-01</th>\n",
              "      <td>1</td>\n",
              "      <td>0</td>\n",
              "    </tr>\n",
              "    <tr>\n",
              "      <th>2013-12-08</th>\n",
              "      <td>0</td>\n",
              "      <td>0</td>\n",
              "    </tr>\n",
              "  </tbody>\n",
              "</table>\n",
              "</div>"
            ],
            "text/plain": [
              "                    visited  adopted_user\n",
              "user_id time_stamp                       \n",
              "1       2014-04-27        1             0\n",
              "2       2013-11-17        1             0\n",
              "        2013-11-24        0             0\n",
              "        2013-12-01        1             0\n",
              "        2013-12-08        0             0"
            ]
          },
          "metadata": {
            "tags": []
          },
          "execution_count": 20
        }
      ]
    },
    {
      "cell_type": "code",
      "metadata": {
        "id": "yD7trhiuXR7y"
      },
      "source": [
        "#Let put the correct value into the 'adopted_user' column\r\n",
        "for i in range(len(df_group)-1):\r\n",
        "  if df_group['visited'].iloc[i]<3:\r\n",
        "    df_group['adopted_user'].iloc[i]=0\r\n",
        "  else:\r\n",
        "    df_group['adopted_user'].iloc[i]=1"
      ],
      "execution_count": null,
      "outputs": []
    },
    {
      "cell_type": "code",
      "metadata": {
        "colab": {
          "base_uri": "https://localhost:8080/",
          "height": 1000
        },
        "id": "hnWd29ZFXR_H",
        "outputId": "cce37acd-0b36-454d-a0d3-f662b5c9719c"
      },
      "source": [
        "df_group.head(40)"
      ],
      "execution_count": null,
      "outputs": [
        {
          "output_type": "execute_result",
          "data": {
            "text/html": [
              "<div>\n",
              "<style scoped>\n",
              "    .dataframe tbody tr th:only-of-type {\n",
              "        vertical-align: middle;\n",
              "    }\n",
              "\n",
              "    .dataframe tbody tr th {\n",
              "        vertical-align: top;\n",
              "    }\n",
              "\n",
              "    .dataframe thead th {\n",
              "        text-align: right;\n",
              "    }\n",
              "</style>\n",
              "<table border=\"1\" class=\"dataframe\">\n",
              "  <thead>\n",
              "    <tr style=\"text-align: right;\">\n",
              "      <th></th>\n",
              "      <th></th>\n",
              "      <th>visited</th>\n",
              "      <th>adopted_user</th>\n",
              "    </tr>\n",
              "    <tr>\n",
              "      <th>user_id</th>\n",
              "      <th>time_stamp</th>\n",
              "      <th></th>\n",
              "      <th></th>\n",
              "    </tr>\n",
              "  </thead>\n",
              "  <tbody>\n",
              "    <tr>\n",
              "      <th>1</th>\n",
              "      <th>2014-04-27</th>\n",
              "      <td>1</td>\n",
              "      <td>0</td>\n",
              "    </tr>\n",
              "    <tr>\n",
              "      <th rowspan=\"21\" valign=\"top\">2</th>\n",
              "      <th>2013-11-17</th>\n",
              "      <td>1</td>\n",
              "      <td>0</td>\n",
              "    </tr>\n",
              "    <tr>\n",
              "      <th>2013-11-24</th>\n",
              "      <td>0</td>\n",
              "      <td>0</td>\n",
              "    </tr>\n",
              "    <tr>\n",
              "      <th>2013-12-01</th>\n",
              "      <td>1</td>\n",
              "      <td>0</td>\n",
              "    </tr>\n",
              "    <tr>\n",
              "      <th>2013-12-08</th>\n",
              "      <td>0</td>\n",
              "      <td>0</td>\n",
              "    </tr>\n",
              "    <tr>\n",
              "      <th>2013-12-15</th>\n",
              "      <td>1</td>\n",
              "      <td>0</td>\n",
              "    </tr>\n",
              "    <tr>\n",
              "      <th>2013-12-22</th>\n",
              "      <td>0</td>\n",
              "      <td>0</td>\n",
              "    </tr>\n",
              "    <tr>\n",
              "      <th>2013-12-29</th>\n",
              "      <td>1</td>\n",
              "      <td>0</td>\n",
              "    </tr>\n",
              "    <tr>\n",
              "      <th>2014-01-05</th>\n",
              "      <td>1</td>\n",
              "      <td>0</td>\n",
              "    </tr>\n",
              "    <tr>\n",
              "      <th>2014-01-12</th>\n",
              "      <td>1</td>\n",
              "      <td>0</td>\n",
              "    </tr>\n",
              "    <tr>\n",
              "      <th>2014-01-19</th>\n",
              "      <td>0</td>\n",
              "      <td>0</td>\n",
              "    </tr>\n",
              "    <tr>\n",
              "      <th>2014-01-26</th>\n",
              "      <td>0</td>\n",
              "      <td>0</td>\n",
              "    </tr>\n",
              "    <tr>\n",
              "      <th>2014-02-02</th>\n",
              "      <td>0</td>\n",
              "      <td>0</td>\n",
              "    </tr>\n",
              "    <tr>\n",
              "      <th>2014-02-09</th>\n",
              "      <td>3</td>\n",
              "      <td>1</td>\n",
              "    </tr>\n",
              "    <tr>\n",
              "      <th>2014-02-16</th>\n",
              "      <td>2</td>\n",
              "      <td>0</td>\n",
              "    </tr>\n",
              "    <tr>\n",
              "      <th>2014-02-23</th>\n",
              "      <td>0</td>\n",
              "      <td>0</td>\n",
              "    </tr>\n",
              "    <tr>\n",
              "      <th>2014-03-02</th>\n",
              "      <td>0</td>\n",
              "      <td>0</td>\n",
              "    </tr>\n",
              "    <tr>\n",
              "      <th>2014-03-09</th>\n",
              "      <td>1</td>\n",
              "      <td>0</td>\n",
              "    </tr>\n",
              "    <tr>\n",
              "      <th>2014-03-16</th>\n",
              "      <td>1</td>\n",
              "      <td>0</td>\n",
              "    </tr>\n",
              "    <tr>\n",
              "      <th>2014-03-23</th>\n",
              "      <td>0</td>\n",
              "      <td>0</td>\n",
              "    </tr>\n",
              "    <tr>\n",
              "      <th>2014-03-30</th>\n",
              "      <td>0</td>\n",
              "      <td>0</td>\n",
              "    </tr>\n",
              "    <tr>\n",
              "      <th>2014-04-06</th>\n",
              "      <td>1</td>\n",
              "      <td>0</td>\n",
              "    </tr>\n",
              "    <tr>\n",
              "      <th>3</th>\n",
              "      <th>2013-03-24</th>\n",
              "      <td>1</td>\n",
              "      <td>0</td>\n",
              "    </tr>\n",
              "    <tr>\n",
              "      <th>4</th>\n",
              "      <th>2013-05-26</th>\n",
              "      <td>1</td>\n",
              "      <td>0</td>\n",
              "    </tr>\n",
              "    <tr>\n",
              "      <th>5</th>\n",
              "      <th>2013-01-27</th>\n",
              "      <td>1</td>\n",
              "      <td>0</td>\n",
              "    </tr>\n",
              "    <tr>\n",
              "      <th>6</th>\n",
              "      <th>2013-12-22</th>\n",
              "      <td>1</td>\n",
              "      <td>0</td>\n",
              "    </tr>\n",
              "    <tr>\n",
              "      <th>7</th>\n",
              "      <th>2012-12-23</th>\n",
              "      <td>1</td>\n",
              "      <td>0</td>\n",
              "    </tr>\n",
              "    <tr>\n",
              "      <th rowspan=\"13\" valign=\"top\">10</th>\n",
              "      <th>2013-01-20</th>\n",
              "      <td>1</td>\n",
              "      <td>0</td>\n",
              "    </tr>\n",
              "    <tr>\n",
              "      <th>2013-01-27</th>\n",
              "      <td>1</td>\n",
              "      <td>0</td>\n",
              "    </tr>\n",
              "    <tr>\n",
              "      <th>2013-02-03</th>\n",
              "      <td>1</td>\n",
              "      <td>0</td>\n",
              "    </tr>\n",
              "    <tr>\n",
              "      <th>2013-02-10</th>\n",
              "      <td>2</td>\n",
              "      <td>0</td>\n",
              "    </tr>\n",
              "    <tr>\n",
              "      <th>2013-02-17</th>\n",
              "      <td>2</td>\n",
              "      <td>0</td>\n",
              "    </tr>\n",
              "    <tr>\n",
              "      <th>2013-02-24</th>\n",
              "      <td>1</td>\n",
              "      <td>0</td>\n",
              "    </tr>\n",
              "    <tr>\n",
              "      <th>2013-03-03</th>\n",
              "      <td>3</td>\n",
              "      <td>1</td>\n",
              "    </tr>\n",
              "    <tr>\n",
              "      <th>2013-03-10</th>\n",
              "      <td>2</td>\n",
              "      <td>0</td>\n",
              "    </tr>\n",
              "    <tr>\n",
              "      <th>2013-03-17</th>\n",
              "      <td>2</td>\n",
              "      <td>0</td>\n",
              "    </tr>\n",
              "    <tr>\n",
              "      <th>2013-03-24</th>\n",
              "      <td>2</td>\n",
              "      <td>0</td>\n",
              "    </tr>\n",
              "    <tr>\n",
              "      <th>2013-03-31</th>\n",
              "      <td>1</td>\n",
              "      <td>0</td>\n",
              "    </tr>\n",
              "    <tr>\n",
              "      <th>2013-04-07</th>\n",
              "      <td>1</td>\n",
              "      <td>0</td>\n",
              "    </tr>\n",
              "    <tr>\n",
              "      <th>2013-04-14</th>\n",
              "      <td>3</td>\n",
              "      <td>1</td>\n",
              "    </tr>\n",
              "  </tbody>\n",
              "</table>\n",
              "</div>"
            ],
            "text/plain": [
              "                    visited  adopted_user\n",
              "user_id time_stamp                       \n",
              "1       2014-04-27        1             0\n",
              "2       2013-11-17        1             0\n",
              "        2013-11-24        0             0\n",
              "        2013-12-01        1             0\n",
              "        2013-12-08        0             0\n",
              "        2013-12-15        1             0\n",
              "        2013-12-22        0             0\n",
              "        2013-12-29        1             0\n",
              "        2014-01-05        1             0\n",
              "        2014-01-12        1             0\n",
              "        2014-01-19        0             0\n",
              "        2014-01-26        0             0\n",
              "        2014-02-02        0             0\n",
              "        2014-02-09        3             1\n",
              "        2014-02-16        2             0\n",
              "        2014-02-23        0             0\n",
              "        2014-03-02        0             0\n",
              "        2014-03-09        1             0\n",
              "        2014-03-16        1             0\n",
              "        2014-03-23        0             0\n",
              "        2014-03-30        0             0\n",
              "        2014-04-06        1             0\n",
              "3       2013-03-24        1             0\n",
              "4       2013-05-26        1             0\n",
              "5       2013-01-27        1             0\n",
              "6       2013-12-22        1             0\n",
              "7       2012-12-23        1             0\n",
              "10      2013-01-20        1             0\n",
              "        2013-01-27        1             0\n",
              "        2013-02-03        1             0\n",
              "        2013-02-10        2             0\n",
              "        2013-02-17        2             0\n",
              "        2013-02-24        1             0\n",
              "        2013-03-03        3             1\n",
              "        2013-03-10        2             0\n",
              "        2013-03-17        2             0\n",
              "        2013-03-24        2             0\n",
              "        2013-03-31        1             0\n",
              "        2013-04-07        1             0\n",
              "        2013-04-14        3             1"
            ]
          },
          "metadata": {
            "tags": []
          },
          "execution_count": 22
        }
      ]
    },
    {
      "cell_type": "code",
      "metadata": {
        "id": "gTOPQh3Uod8T"
      },
      "source": [
        "#We delete the time_stamp index\r\n",
        "df_group=df_group.reset_index(level=1, drop=True)"
      ],
      "execution_count": null,
      "outputs": []
    },
    {
      "cell_type": "code",
      "metadata": {
        "id": "buZJu40YqeoG"
      },
      "source": [
        "#we create a column named 'object_id' which is the same as the index\r\n",
        "#The goal of this is to have a column in this table that will match which the column 'object_id' in the other table we are about to load\r\n",
        "#This will help us merge the two data easily\r\n",
        "df_index=df_group\r\n",
        "df_index['object_id']=df_group.index"
      ],
      "execution_count": null,
      "outputs": []
    },
    {
      "cell_type": "code",
      "metadata": {
        "colab": {
          "base_uri": "https://localhost:8080/",
          "height": 235
        },
        "id": "AiiYpsqoqkHc",
        "outputId": "e695a86a-fbc0-4a6f-e8e2-89ae2b38cdee"
      },
      "source": [
        "df_index.head()"
      ],
      "execution_count": null,
      "outputs": [
        {
          "output_type": "execute_result",
          "data": {
            "text/html": [
              "<div>\n",
              "<style scoped>\n",
              "    .dataframe tbody tr th:only-of-type {\n",
              "        vertical-align: middle;\n",
              "    }\n",
              "\n",
              "    .dataframe tbody tr th {\n",
              "        vertical-align: top;\n",
              "    }\n",
              "\n",
              "    .dataframe thead th {\n",
              "        text-align: right;\n",
              "    }\n",
              "</style>\n",
              "<table border=\"1\" class=\"dataframe\">\n",
              "  <thead>\n",
              "    <tr style=\"text-align: right;\">\n",
              "      <th></th>\n",
              "      <th>visited</th>\n",
              "      <th>adopted_user</th>\n",
              "      <th>object_id</th>\n",
              "    </tr>\n",
              "    <tr>\n",
              "      <th>user_id</th>\n",
              "      <th></th>\n",
              "      <th></th>\n",
              "      <th></th>\n",
              "    </tr>\n",
              "  </thead>\n",
              "  <tbody>\n",
              "    <tr>\n",
              "      <th>1</th>\n",
              "      <td>1</td>\n",
              "      <td>0</td>\n",
              "      <td>1</td>\n",
              "    </tr>\n",
              "    <tr>\n",
              "      <th>2</th>\n",
              "      <td>1</td>\n",
              "      <td>0</td>\n",
              "      <td>2</td>\n",
              "    </tr>\n",
              "    <tr>\n",
              "      <th>2</th>\n",
              "      <td>0</td>\n",
              "      <td>0</td>\n",
              "      <td>2</td>\n",
              "    </tr>\n",
              "    <tr>\n",
              "      <th>2</th>\n",
              "      <td>1</td>\n",
              "      <td>0</td>\n",
              "      <td>2</td>\n",
              "    </tr>\n",
              "    <tr>\n",
              "      <th>2</th>\n",
              "      <td>0</td>\n",
              "      <td>0</td>\n",
              "      <td>2</td>\n",
              "    </tr>\n",
              "  </tbody>\n",
              "</table>\n",
              "</div>"
            ],
            "text/plain": [
              "         visited  adopted_user  object_id\n",
              "user_id                                  \n",
              "1              1             0          1\n",
              "2              1             0          2\n",
              "2              0             0          2\n",
              "2              1             0          2\n",
              "2              0             0          2"
            ]
          },
          "metadata": {
            "tags": []
          },
          "execution_count": 25
        }
      ]
    },
    {
      "cell_type": "code",
      "metadata": {
        "id": "apGoiEzkgURf"
      },
      "source": [
        "#Let us put the column 'adopted_user' we have created into the 'takehome_users' table\r\n",
        "#But before doing that let us load the data for that table"
      ],
      "execution_count": null,
      "outputs": []
    },
    {
      "cell_type": "code",
      "metadata": {
        "id": "lQhWj6ywiMhq"
      },
      "source": [
        "data=pd.read_csv('takehome_users.csv', engine='python')"
      ],
      "execution_count": null,
      "outputs": []
    },
    {
      "cell_type": "code",
      "metadata": {
        "colab": {
          "base_uri": "https://localhost:8080/",
          "height": 204
        },
        "id": "51HPuBvbiMky",
        "outputId": "0aef53f5-c7d9-4964-b873-5ab8bd6090a7"
      },
      "source": [
        "data.head()"
      ],
      "execution_count": null,
      "outputs": [
        {
          "output_type": "execute_result",
          "data": {
            "text/html": [
              "<div>\n",
              "<style scoped>\n",
              "    .dataframe tbody tr th:only-of-type {\n",
              "        vertical-align: middle;\n",
              "    }\n",
              "\n",
              "    .dataframe tbody tr th {\n",
              "        vertical-align: top;\n",
              "    }\n",
              "\n",
              "    .dataframe thead th {\n",
              "        text-align: right;\n",
              "    }\n",
              "</style>\n",
              "<table border=\"1\" class=\"dataframe\">\n",
              "  <thead>\n",
              "    <tr style=\"text-align: right;\">\n",
              "      <th></th>\n",
              "      <th>object_id</th>\n",
              "      <th>creation_time</th>\n",
              "      <th>name</th>\n",
              "      <th>email</th>\n",
              "      <th>creation_source</th>\n",
              "      <th>last_session_creation_time</th>\n",
              "      <th>opted_in_to_mailing_list</th>\n",
              "      <th>enabled_for_marketing_drip</th>\n",
              "      <th>org_id</th>\n",
              "      <th>invited_by_user_id</th>\n",
              "    </tr>\n",
              "  </thead>\n",
              "  <tbody>\n",
              "    <tr>\n",
              "      <th>0</th>\n",
              "      <td>1</td>\n",
              "      <td>4/22/2014 3:53</td>\n",
              "      <td>Clausen August</td>\n",
              "      <td>AugustCClausen@yahoo.com</td>\n",
              "      <td>GUEST_INVITE</td>\n",
              "      <td>1.398139e+09</td>\n",
              "      <td>1</td>\n",
              "      <td>0</td>\n",
              "      <td>11</td>\n",
              "      <td>10803.0</td>\n",
              "    </tr>\n",
              "    <tr>\n",
              "      <th>1</th>\n",
              "      <td>2</td>\n",
              "      <td>11/15/2013 3:45</td>\n",
              "      <td>Poole Matthew</td>\n",
              "      <td>MatthewPoole@gustr.com</td>\n",
              "      <td>ORG_INVITE</td>\n",
              "      <td>1.396238e+09</td>\n",
              "      <td>0</td>\n",
              "      <td>0</td>\n",
              "      <td>1</td>\n",
              "      <td>316.0</td>\n",
              "    </tr>\n",
              "    <tr>\n",
              "      <th>2</th>\n",
              "      <td>3</td>\n",
              "      <td>3/19/2013 23:14</td>\n",
              "      <td>Bottrill Mitchell</td>\n",
              "      <td>MitchellBottrill@gustr.com</td>\n",
              "      <td>ORG_INVITE</td>\n",
              "      <td>1.363735e+09</td>\n",
              "      <td>0</td>\n",
              "      <td>0</td>\n",
              "      <td>94</td>\n",
              "      <td>1525.0</td>\n",
              "    </tr>\n",
              "    <tr>\n",
              "      <th>3</th>\n",
              "      <td>4</td>\n",
              "      <td>5/21/2013 8:09</td>\n",
              "      <td>Clausen Nicklas</td>\n",
              "      <td>NicklasSClausen@yahoo.com</td>\n",
              "      <td>GUEST_INVITE</td>\n",
              "      <td>1.369210e+09</td>\n",
              "      <td>0</td>\n",
              "      <td>0</td>\n",
              "      <td>1</td>\n",
              "      <td>5151.0</td>\n",
              "    </tr>\n",
              "    <tr>\n",
              "      <th>4</th>\n",
              "      <td>5</td>\n",
              "      <td>1/17/2013 10:14</td>\n",
              "      <td>Raw Grace</td>\n",
              "      <td>GraceRaw@yahoo.com</td>\n",
              "      <td>GUEST_INVITE</td>\n",
              "      <td>1.358850e+09</td>\n",
              "      <td>0</td>\n",
              "      <td>0</td>\n",
              "      <td>193</td>\n",
              "      <td>5240.0</td>\n",
              "    </tr>\n",
              "  </tbody>\n",
              "</table>\n",
              "</div>"
            ],
            "text/plain": [
              "   object_id    creation_time  ... org_id invited_by_user_id\n",
              "0          1   4/22/2014 3:53  ...     11            10803.0\n",
              "1          2  11/15/2013 3:45  ...      1              316.0\n",
              "2          3  3/19/2013 23:14  ...     94             1525.0\n",
              "3          4   5/21/2013 8:09  ...      1             5151.0\n",
              "4          5  1/17/2013 10:14  ...    193             5240.0\n",
              "\n",
              "[5 rows x 10 columns]"
            ]
          },
          "metadata": {
            "tags": []
          },
          "execution_count": 27
        }
      ]
    },
    {
      "cell_type": "code",
      "metadata": {
        "id": "COCnJdgCiMn-"
      },
      "source": [
        "#Let us merge our two table\r\n",
        "df_merge=pd.merge(df_group, data, on='object_id', how='left')"
      ],
      "execution_count": 222,
      "outputs": []
    },
    {
      "cell_type": "code",
      "metadata": {
        "colab": {
          "base_uri": "https://localhost:8080/",
          "height": 204
        },
        "id": "t3ckK2sDiMrW",
        "outputId": "4f3bb74d-e9a6-4f37-91a7-41ac0061b977"
      },
      "source": [
        "df_merge.head()"
      ],
      "execution_count": 223,
      "outputs": [
        {
          "output_type": "execute_result",
          "data": {
            "text/html": [
              "<div>\n",
              "<style scoped>\n",
              "    .dataframe tbody tr th:only-of-type {\n",
              "        vertical-align: middle;\n",
              "    }\n",
              "\n",
              "    .dataframe tbody tr th {\n",
              "        vertical-align: top;\n",
              "    }\n",
              "\n",
              "    .dataframe thead th {\n",
              "        text-align: right;\n",
              "    }\n",
              "</style>\n",
              "<table border=\"1\" class=\"dataframe\">\n",
              "  <thead>\n",
              "    <tr style=\"text-align: right;\">\n",
              "      <th></th>\n",
              "      <th>visited</th>\n",
              "      <th>adopted_user</th>\n",
              "      <th>object_id</th>\n",
              "      <th>creation_time</th>\n",
              "      <th>name</th>\n",
              "      <th>email</th>\n",
              "      <th>creation_source</th>\n",
              "      <th>last_session_creation_time</th>\n",
              "      <th>opted_in_to_mailing_list</th>\n",
              "      <th>enabled_for_marketing_drip</th>\n",
              "      <th>org_id</th>\n",
              "      <th>invited_by_user_id</th>\n",
              "    </tr>\n",
              "  </thead>\n",
              "  <tbody>\n",
              "    <tr>\n",
              "      <th>0</th>\n",
              "      <td>1</td>\n",
              "      <td>0</td>\n",
              "      <td>1</td>\n",
              "      <td>4/22/2014 3:53</td>\n",
              "      <td>Clausen August</td>\n",
              "      <td>AugustCClausen@yahoo.com</td>\n",
              "      <td>GUEST_INVITE</td>\n",
              "      <td>1.398139e+09</td>\n",
              "      <td>1</td>\n",
              "      <td>0</td>\n",
              "      <td>11</td>\n",
              "      <td>10803.0</td>\n",
              "    </tr>\n",
              "    <tr>\n",
              "      <th>1</th>\n",
              "      <td>1</td>\n",
              "      <td>0</td>\n",
              "      <td>2</td>\n",
              "      <td>11/15/2013 3:45</td>\n",
              "      <td>Poole Matthew</td>\n",
              "      <td>MatthewPoole@gustr.com</td>\n",
              "      <td>ORG_INVITE</td>\n",
              "      <td>1.396238e+09</td>\n",
              "      <td>0</td>\n",
              "      <td>0</td>\n",
              "      <td>1</td>\n",
              "      <td>316.0</td>\n",
              "    </tr>\n",
              "    <tr>\n",
              "      <th>2</th>\n",
              "      <td>0</td>\n",
              "      <td>0</td>\n",
              "      <td>2</td>\n",
              "      <td>11/15/2013 3:45</td>\n",
              "      <td>Poole Matthew</td>\n",
              "      <td>MatthewPoole@gustr.com</td>\n",
              "      <td>ORG_INVITE</td>\n",
              "      <td>1.396238e+09</td>\n",
              "      <td>0</td>\n",
              "      <td>0</td>\n",
              "      <td>1</td>\n",
              "      <td>316.0</td>\n",
              "    </tr>\n",
              "    <tr>\n",
              "      <th>3</th>\n",
              "      <td>1</td>\n",
              "      <td>0</td>\n",
              "      <td>2</td>\n",
              "      <td>11/15/2013 3:45</td>\n",
              "      <td>Poole Matthew</td>\n",
              "      <td>MatthewPoole@gustr.com</td>\n",
              "      <td>ORG_INVITE</td>\n",
              "      <td>1.396238e+09</td>\n",
              "      <td>0</td>\n",
              "      <td>0</td>\n",
              "      <td>1</td>\n",
              "      <td>316.0</td>\n",
              "    </tr>\n",
              "    <tr>\n",
              "      <th>4</th>\n",
              "      <td>0</td>\n",
              "      <td>0</td>\n",
              "      <td>2</td>\n",
              "      <td>11/15/2013 3:45</td>\n",
              "      <td>Poole Matthew</td>\n",
              "      <td>MatthewPoole@gustr.com</td>\n",
              "      <td>ORG_INVITE</td>\n",
              "      <td>1.396238e+09</td>\n",
              "      <td>0</td>\n",
              "      <td>0</td>\n",
              "      <td>1</td>\n",
              "      <td>316.0</td>\n",
              "    </tr>\n",
              "  </tbody>\n",
              "</table>\n",
              "</div>"
            ],
            "text/plain": [
              "   visited  adopted_user  ...  org_id invited_by_user_id\n",
              "0        1             0  ...      11            10803.0\n",
              "1        1             0  ...       1              316.0\n",
              "2        0             0  ...       1              316.0\n",
              "3        1             0  ...       1              316.0\n",
              "4        0             0  ...       1              316.0\n",
              "\n",
              "[5 rows x 12 columns]"
            ]
          },
          "metadata": {
            "tags": []
          },
          "execution_count": 223
        }
      ]
    },
    {
      "cell_type": "code",
      "metadata": {
        "colab": {
          "base_uri": "https://localhost:8080/"
        },
        "id": "_8-J31UUiMvK",
        "outputId": "b96a0937-fa59-4361-c6f2-f4355cc40292"
      },
      "source": [
        "df_merge.dtypes"
      ],
      "execution_count": 224,
      "outputs": [
        {
          "output_type": "execute_result",
          "data": {
            "text/plain": [
              "visited                         int64\n",
              "adopted_user                    int64\n",
              "object_id                       int64\n",
              "creation_time                  object\n",
              "name                           object\n",
              "email                          object\n",
              "creation_source                object\n",
              "last_session_creation_time    float64\n",
              "opted_in_to_mailing_list        int64\n",
              "enabled_for_marketing_drip      int64\n",
              "org_id                          int64\n",
              "invited_by_user_id            float64\n",
              "dtype: object"
            ]
          },
          "metadata": {
            "tags": []
          },
          "execution_count": 224
        }
      ]
    },
    {
      "cell_type": "markdown",
      "metadata": {
        "id": "7T_DAnVSxs1P"
      },
      "source": [
        "# **DATA WRANGLING**"
      ]
    },
    {
      "cell_type": "code",
      "metadata": {
        "colab": {
          "base_uri": "https://localhost:8080/"
        },
        "id": "phhlAMa5iM1P",
        "outputId": "7df8beb1-b9a0-4232-a2b9-209bbde427b8"
      },
      "source": [
        "#we check the name of the columns\r\n",
        "df_merge.columns"
      ],
      "execution_count": 225,
      "outputs": [
        {
          "output_type": "execute_result",
          "data": {
            "text/plain": [
              "Index(['visited', 'adopted_user', 'object_id', 'creation_time', 'name',\n",
              "       'email', 'creation_source', 'last_session_creation_time',\n",
              "       'opted_in_to_mailing_list', 'enabled_for_marketing_drip', 'org_id',\n",
              "       'invited_by_user_id'],\n",
              "      dtype='object')"
            ]
          },
          "metadata": {
            "tags": []
          },
          "execution_count": 225
        }
      ]
    },
    {
      "cell_type": "code",
      "metadata": {
        "colab": {
          "base_uri": "https://localhost:8080/"
        },
        "id": "WmeM8AiwiM4v",
        "outputId": "564b9ead-69a6-4d86-daa2-557d5c4cb655"
      },
      "source": [
        "#We check the columns type\r\n",
        "df_merge.dtypes"
      ],
      "execution_count": 226,
      "outputs": [
        {
          "output_type": "execute_result",
          "data": {
            "text/plain": [
              "visited                         int64\n",
              "adopted_user                    int64\n",
              "object_id                       int64\n",
              "creation_time                  object\n",
              "name                           object\n",
              "email                          object\n",
              "creation_source                object\n",
              "last_session_creation_time    float64\n",
              "opted_in_to_mailing_list        int64\n",
              "enabled_for_marketing_drip      int64\n",
              "org_id                          int64\n",
              "invited_by_user_id            float64\n",
              "dtype: object"
            ]
          },
          "metadata": {
            "tags": []
          },
          "execution_count": 226
        }
      ]
    },
    {
      "cell_type": "code",
      "metadata": {
        "colab": {
          "base_uri": "https://localhost:8080/"
        },
        "id": "Ytb-rYkwiM8B",
        "outputId": "e48fd1d6-6cbf-44e9-bcae-abaeffa2d4cf"
      },
      "source": [
        "#Let us find more information about our columns\r\n",
        "df_merge.info()"
      ],
      "execution_count": 227,
      "outputs": [
        {
          "output_type": "stream",
          "text": [
            "<class 'pandas.core.frame.DataFrame'>\n",
            "Int64Index: 82282 entries, 0 to 82281\n",
            "Data columns (total 12 columns):\n",
            " #   Column                      Non-Null Count  Dtype  \n",
            "---  ------                      --------------  -----  \n",
            " 0   visited                     82282 non-null  int64  \n",
            " 1   adopted_user                82282 non-null  int64  \n",
            " 2   object_id                   82282 non-null  int64  \n",
            " 3   creation_time               82282 non-null  object \n",
            " 4   name                        82282 non-null  object \n",
            " 5   email                       82282 non-null  object \n",
            " 6   creation_source             82282 non-null  object \n",
            " 7   last_session_creation_time  82282 non-null  float64\n",
            " 8   opted_in_to_mailing_list    82282 non-null  int64  \n",
            " 9   enabled_for_marketing_drip  82282 non-null  int64  \n",
            " 10  org_id                      82282 non-null  int64  \n",
            " 11  invited_by_user_id          46274 non-null  float64\n",
            "dtypes: float64(2), int64(6), object(4)\n",
            "memory usage: 8.2+ MB\n"
          ],
          "name": "stdout"
        }
      ]
    },
    {
      "cell_type": "code",
      "metadata": {
        "colab": {
          "base_uri": "https://localhost:8080/",
          "height": 80
        },
        "id": "lQThKb36iM-8",
        "outputId": "a9abc657-31e5-4e44-ebc1-015b80a195da"
      },
      "source": [
        "#Let us print the percent of each feature that is missing\r\n",
        "nas=pd.DataFrame(df_merge.isnull().sum().sort_values(ascending=False)/len(df_merge),columns = ['percent'])\r\n",
        "pos = nas['percent'] > 0\r\n",
        "nas[pos]"
      ],
      "execution_count": 228,
      "outputs": [
        {
          "output_type": "execute_result",
          "data": {
            "text/html": [
              "<div>\n",
              "<style scoped>\n",
              "    .dataframe tbody tr th:only-of-type {\n",
              "        vertical-align: middle;\n",
              "    }\n",
              "\n",
              "    .dataframe tbody tr th {\n",
              "        vertical-align: top;\n",
              "    }\n",
              "\n",
              "    .dataframe thead th {\n",
              "        text-align: right;\n",
              "    }\n",
              "</style>\n",
              "<table border=\"1\" class=\"dataframe\">\n",
              "  <thead>\n",
              "    <tr style=\"text-align: right;\">\n",
              "      <th></th>\n",
              "      <th>percent</th>\n",
              "    </tr>\n",
              "  </thead>\n",
              "  <tbody>\n",
              "    <tr>\n",
              "      <th>invited_by_user_id</th>\n",
              "      <td>0.437617</td>\n",
              "    </tr>\n",
              "  </tbody>\n",
              "</table>\n",
              "</div>"
            ],
            "text/plain": [
              "                     percent\n",
              "invited_by_user_id  0.437617"
            ]
          },
          "metadata": {
            "tags": []
          },
          "execution_count": 228
        }
      ]
    },
    {
      "cell_type": "code",
      "metadata": {
        "colab": {
          "base_uri": "https://localhost:8080/",
          "height": 204
        },
        "id": "xfwAUYeJiNBu",
        "outputId": "f6acde09-56c9-46cd-8a19-963130360af3"
      },
      "source": [
        "#SInce we cannot really identify which user invited the subject user to join, we will drop the column 'invited_by_user_id'\r\n",
        "df_merge=df_merge.drop('invited_by_user_id', axis=1)\r\n",
        "df_merge.head()"
      ],
      "execution_count": 229,
      "outputs": [
        {
          "output_type": "execute_result",
          "data": {
            "text/html": [
              "<div>\n",
              "<style scoped>\n",
              "    .dataframe tbody tr th:only-of-type {\n",
              "        vertical-align: middle;\n",
              "    }\n",
              "\n",
              "    .dataframe tbody tr th {\n",
              "        vertical-align: top;\n",
              "    }\n",
              "\n",
              "    .dataframe thead th {\n",
              "        text-align: right;\n",
              "    }\n",
              "</style>\n",
              "<table border=\"1\" class=\"dataframe\">\n",
              "  <thead>\n",
              "    <tr style=\"text-align: right;\">\n",
              "      <th></th>\n",
              "      <th>visited</th>\n",
              "      <th>adopted_user</th>\n",
              "      <th>object_id</th>\n",
              "      <th>creation_time</th>\n",
              "      <th>name</th>\n",
              "      <th>email</th>\n",
              "      <th>creation_source</th>\n",
              "      <th>last_session_creation_time</th>\n",
              "      <th>opted_in_to_mailing_list</th>\n",
              "      <th>enabled_for_marketing_drip</th>\n",
              "      <th>org_id</th>\n",
              "    </tr>\n",
              "  </thead>\n",
              "  <tbody>\n",
              "    <tr>\n",
              "      <th>0</th>\n",
              "      <td>1</td>\n",
              "      <td>0</td>\n",
              "      <td>1</td>\n",
              "      <td>4/22/2014 3:53</td>\n",
              "      <td>Clausen August</td>\n",
              "      <td>AugustCClausen@yahoo.com</td>\n",
              "      <td>GUEST_INVITE</td>\n",
              "      <td>1.398139e+09</td>\n",
              "      <td>1</td>\n",
              "      <td>0</td>\n",
              "      <td>11</td>\n",
              "    </tr>\n",
              "    <tr>\n",
              "      <th>1</th>\n",
              "      <td>1</td>\n",
              "      <td>0</td>\n",
              "      <td>2</td>\n",
              "      <td>11/15/2013 3:45</td>\n",
              "      <td>Poole Matthew</td>\n",
              "      <td>MatthewPoole@gustr.com</td>\n",
              "      <td>ORG_INVITE</td>\n",
              "      <td>1.396238e+09</td>\n",
              "      <td>0</td>\n",
              "      <td>0</td>\n",
              "      <td>1</td>\n",
              "    </tr>\n",
              "    <tr>\n",
              "      <th>2</th>\n",
              "      <td>0</td>\n",
              "      <td>0</td>\n",
              "      <td>2</td>\n",
              "      <td>11/15/2013 3:45</td>\n",
              "      <td>Poole Matthew</td>\n",
              "      <td>MatthewPoole@gustr.com</td>\n",
              "      <td>ORG_INVITE</td>\n",
              "      <td>1.396238e+09</td>\n",
              "      <td>0</td>\n",
              "      <td>0</td>\n",
              "      <td>1</td>\n",
              "    </tr>\n",
              "    <tr>\n",
              "      <th>3</th>\n",
              "      <td>1</td>\n",
              "      <td>0</td>\n",
              "      <td>2</td>\n",
              "      <td>11/15/2013 3:45</td>\n",
              "      <td>Poole Matthew</td>\n",
              "      <td>MatthewPoole@gustr.com</td>\n",
              "      <td>ORG_INVITE</td>\n",
              "      <td>1.396238e+09</td>\n",
              "      <td>0</td>\n",
              "      <td>0</td>\n",
              "      <td>1</td>\n",
              "    </tr>\n",
              "    <tr>\n",
              "      <th>4</th>\n",
              "      <td>0</td>\n",
              "      <td>0</td>\n",
              "      <td>2</td>\n",
              "      <td>11/15/2013 3:45</td>\n",
              "      <td>Poole Matthew</td>\n",
              "      <td>MatthewPoole@gustr.com</td>\n",
              "      <td>ORG_INVITE</td>\n",
              "      <td>1.396238e+09</td>\n",
              "      <td>0</td>\n",
              "      <td>0</td>\n",
              "      <td>1</td>\n",
              "    </tr>\n",
              "  </tbody>\n",
              "</table>\n",
              "</div>"
            ],
            "text/plain": [
              "   visited  adopted_user  ...  enabled_for_marketing_drip org_id\n",
              "0        1             0  ...                           0     11\n",
              "1        1             0  ...                           0      1\n",
              "2        0             0  ...                           0      1\n",
              "3        1             0  ...                           0      1\n",
              "4        0             0  ...                           0      1\n",
              "\n",
              "[5 rows x 11 columns]"
            ]
          },
          "metadata": {
            "tags": []
          },
          "execution_count": 229
        }
      ]
    },
    {
      "cell_type": "code",
      "metadata": {
        "colab": {
          "base_uri": "https://localhost:8080/"
        },
        "id": "iOoxT8eyiNE9",
        "outputId": "c9f0d54f-eed6-4bba-ad21-173553fb06b4"
      },
      "source": [
        "#Let us recheck again to see if there is any missing data\r\n",
        "df_merge.isnull().sum()"
      ],
      "execution_count": 230,
      "outputs": [
        {
          "output_type": "execute_result",
          "data": {
            "text/plain": [
              "visited                       0\n",
              "adopted_user                  0\n",
              "object_id                     0\n",
              "creation_time                 0\n",
              "name                          0\n",
              "email                         0\n",
              "creation_source               0\n",
              "last_session_creation_time    0\n",
              "opted_in_to_mailing_list      0\n",
              "enabled_for_marketing_drip    0\n",
              "org_id                        0\n",
              "dtype: int64"
            ]
          },
          "metadata": {
            "tags": []
          },
          "execution_count": 230
        }
      ]
    },
    {
      "cell_type": "code",
      "metadata": {
        "id": "CpXzw4gP1yBS"
      },
      "source": [
        "#Let us convert the column 'creation_time' to datetime\r\n",
        "df_merge['creation_time']=pd.to_datetime(df_merge['creation_time'])"
      ],
      "execution_count": 231,
      "outputs": []
    },
    {
      "cell_type": "code",
      "metadata": {
        "colab": {
          "base_uri": "https://localhost:8080/",
          "height": 204
        },
        "id": "_cd5mXDfM4X-",
        "outputId": "c7cb084e-7dfc-4acc-9c7e-18b7b236faf4"
      },
      "source": [
        "#We sort the data by 'creation_time'\r\n",
        "df_merge=df_merge.sort_values(by=['creation_time'])\r\n",
        "df_merge.head()"
      ],
      "execution_count": 232,
      "outputs": [
        {
          "output_type": "execute_result",
          "data": {
            "text/html": [
              "<div>\n",
              "<style scoped>\n",
              "    .dataframe tbody tr th:only-of-type {\n",
              "        vertical-align: middle;\n",
              "    }\n",
              "\n",
              "    .dataframe tbody tr th {\n",
              "        vertical-align: top;\n",
              "    }\n",
              "\n",
              "    .dataframe thead th {\n",
              "        text-align: right;\n",
              "    }\n",
              "</style>\n",
              "<table border=\"1\" class=\"dataframe\">\n",
              "  <thead>\n",
              "    <tr style=\"text-align: right;\">\n",
              "      <th></th>\n",
              "      <th>visited</th>\n",
              "      <th>adopted_user</th>\n",
              "      <th>object_id</th>\n",
              "      <th>creation_time</th>\n",
              "      <th>name</th>\n",
              "      <th>email</th>\n",
              "      <th>creation_source</th>\n",
              "      <th>last_session_creation_time</th>\n",
              "      <th>opted_in_to_mailing_list</th>\n",
              "      <th>enabled_for_marketing_drip</th>\n",
              "      <th>org_id</th>\n",
              "    </tr>\n",
              "  </thead>\n",
              "  <tbody>\n",
              "    <tr>\n",
              "      <th>26520</th>\n",
              "      <td>1</td>\n",
              "      <td>0</td>\n",
              "      <td>3861</td>\n",
              "      <td>2012-05-31 00:43:00</td>\n",
              "      <td>Jensen Stine</td>\n",
              "      <td>StineAJensen@yahoo.com</td>\n",
              "      <td>ORG_INVITE</td>\n",
              "      <td>1.338684e+09</td>\n",
              "      <td>0</td>\n",
              "      <td>0</td>\n",
              "      <td>115</td>\n",
              "    </tr>\n",
              "    <tr>\n",
              "      <th>78854</th>\n",
              "      <td>1</td>\n",
              "      <td>0</td>\n",
              "      <td>11430</td>\n",
              "      <td>2012-05-31 01:42:00</td>\n",
              "      <td>Wood Levi</td>\n",
              "      <td>LeviWood@hotmail.com</td>\n",
              "      <td>ORG_INVITE</td>\n",
              "      <td>1.338515e+09</td>\n",
              "      <td>0</td>\n",
              "      <td>0</td>\n",
              "      <td>239</td>\n",
              "    </tr>\n",
              "    <tr>\n",
              "      <th>49626</th>\n",
              "      <td>1</td>\n",
              "      <td>0</td>\n",
              "      <td>7170</td>\n",
              "      <td>2012-05-31 06:23:00</td>\n",
              "      <td>Cavalcanti Leonardo</td>\n",
              "      <td>LeonardoPereiraCavalcanti@hotmail.com</td>\n",
              "      <td>ORG_INVITE</td>\n",
              "      <td>1.345444e+09</td>\n",
              "      <td>0</td>\n",
              "      <td>0</td>\n",
              "      <td>145</td>\n",
              "    </tr>\n",
              "    <tr>\n",
              "      <th>49632</th>\n",
              "      <td>0</td>\n",
              "      <td>0</td>\n",
              "      <td>7170</td>\n",
              "      <td>2012-05-31 06:23:00</td>\n",
              "      <td>Cavalcanti Leonardo</td>\n",
              "      <td>LeonardoPereiraCavalcanti@hotmail.com</td>\n",
              "      <td>ORG_INVITE</td>\n",
              "      <td>1.345444e+09</td>\n",
              "      <td>0</td>\n",
              "      <td>0</td>\n",
              "      <td>145</td>\n",
              "    </tr>\n",
              "    <tr>\n",
              "      <th>49631</th>\n",
              "      <td>0</td>\n",
              "      <td>0</td>\n",
              "      <td>7170</td>\n",
              "      <td>2012-05-31 06:23:00</td>\n",
              "      <td>Cavalcanti Leonardo</td>\n",
              "      <td>LeonardoPereiraCavalcanti@hotmail.com</td>\n",
              "      <td>ORG_INVITE</td>\n",
              "      <td>1.345444e+09</td>\n",
              "      <td>0</td>\n",
              "      <td>0</td>\n",
              "      <td>145</td>\n",
              "    </tr>\n",
              "  </tbody>\n",
              "</table>\n",
              "</div>"
            ],
            "text/plain": [
              "       visited  adopted_user  ...  enabled_for_marketing_drip org_id\n",
              "26520        1             0  ...                           0    115\n",
              "78854        1             0  ...                           0    239\n",
              "49626        1             0  ...                           0    145\n",
              "49632        0             0  ...                           0    145\n",
              "49631        0             0  ...                           0    145\n",
              "\n",
              "[5 rows x 11 columns]"
            ]
          },
          "metadata": {
            "tags": []
          },
          "execution_count": 232
        }
      ]
    },
    {
      "cell_type": "code",
      "metadata": {
        "colab": {
          "base_uri": "https://localhost:8080/",
          "height": 419
        },
        "id": "tuDXUAxaRBKT",
        "outputId": "b91542f0-7888-47d0-a1a6-d3dfcc48b2ef"
      },
      "source": [
        "#We reset the index\r\n",
        "df_merge=df_merge.reset_index(drop=True)\r\n",
        "df_merge "
      ],
      "execution_count": 233,
      "outputs": [
        {
          "output_type": "execute_result",
          "data": {
            "text/html": [
              "<div>\n",
              "<style scoped>\n",
              "    .dataframe tbody tr th:only-of-type {\n",
              "        vertical-align: middle;\n",
              "    }\n",
              "\n",
              "    .dataframe tbody tr th {\n",
              "        vertical-align: top;\n",
              "    }\n",
              "\n",
              "    .dataframe thead th {\n",
              "        text-align: right;\n",
              "    }\n",
              "</style>\n",
              "<table border=\"1\" class=\"dataframe\">\n",
              "  <thead>\n",
              "    <tr style=\"text-align: right;\">\n",
              "      <th></th>\n",
              "      <th>visited</th>\n",
              "      <th>adopted_user</th>\n",
              "      <th>object_id</th>\n",
              "      <th>creation_time</th>\n",
              "      <th>name</th>\n",
              "      <th>email</th>\n",
              "      <th>creation_source</th>\n",
              "      <th>last_session_creation_time</th>\n",
              "      <th>opted_in_to_mailing_list</th>\n",
              "      <th>enabled_for_marketing_drip</th>\n",
              "      <th>org_id</th>\n",
              "    </tr>\n",
              "  </thead>\n",
              "  <tbody>\n",
              "    <tr>\n",
              "      <th>0</th>\n",
              "      <td>1</td>\n",
              "      <td>0</td>\n",
              "      <td>3861</td>\n",
              "      <td>2012-05-31 00:43:00</td>\n",
              "      <td>Jensen Stine</td>\n",
              "      <td>StineAJensen@yahoo.com</td>\n",
              "      <td>ORG_INVITE</td>\n",
              "      <td>1.338684e+09</td>\n",
              "      <td>0</td>\n",
              "      <td>0</td>\n",
              "      <td>115</td>\n",
              "    </tr>\n",
              "    <tr>\n",
              "      <th>1</th>\n",
              "      <td>1</td>\n",
              "      <td>0</td>\n",
              "      <td>11430</td>\n",
              "      <td>2012-05-31 01:42:00</td>\n",
              "      <td>Wood Levi</td>\n",
              "      <td>LeviWood@hotmail.com</td>\n",
              "      <td>ORG_INVITE</td>\n",
              "      <td>1.338515e+09</td>\n",
              "      <td>0</td>\n",
              "      <td>0</td>\n",
              "      <td>239</td>\n",
              "    </tr>\n",
              "    <tr>\n",
              "      <th>2</th>\n",
              "      <td>1</td>\n",
              "      <td>0</td>\n",
              "      <td>7170</td>\n",
              "      <td>2012-05-31 06:23:00</td>\n",
              "      <td>Cavalcanti Leonardo</td>\n",
              "      <td>LeonardoPereiraCavalcanti@hotmail.com</td>\n",
              "      <td>ORG_INVITE</td>\n",
              "      <td>1.345444e+09</td>\n",
              "      <td>0</td>\n",
              "      <td>0</td>\n",
              "      <td>145</td>\n",
              "    </tr>\n",
              "    <tr>\n",
              "      <th>3</th>\n",
              "      <td>0</td>\n",
              "      <td>0</td>\n",
              "      <td>7170</td>\n",
              "      <td>2012-05-31 06:23:00</td>\n",
              "      <td>Cavalcanti Leonardo</td>\n",
              "      <td>LeonardoPereiraCavalcanti@hotmail.com</td>\n",
              "      <td>ORG_INVITE</td>\n",
              "      <td>1.345444e+09</td>\n",
              "      <td>0</td>\n",
              "      <td>0</td>\n",
              "      <td>145</td>\n",
              "    </tr>\n",
              "    <tr>\n",
              "      <th>4</th>\n",
              "      <td>0</td>\n",
              "      <td>0</td>\n",
              "      <td>7170</td>\n",
              "      <td>2012-05-31 06:23:00</td>\n",
              "      <td>Cavalcanti Leonardo</td>\n",
              "      <td>LeonardoPereiraCavalcanti@hotmail.com</td>\n",
              "      <td>ORG_INVITE</td>\n",
              "      <td>1.345444e+09</td>\n",
              "      <td>0</td>\n",
              "      <td>0</td>\n",
              "      <td>145</td>\n",
              "    </tr>\n",
              "    <tr>\n",
              "      <th>...</th>\n",
              "      <td>...</td>\n",
              "      <td>...</td>\n",
              "      <td>...</td>\n",
              "      <td>...</td>\n",
              "      <td>...</td>\n",
              "      <td>...</td>\n",
              "      <td>...</td>\n",
              "      <td>...</td>\n",
              "      <td>...</td>\n",
              "      <td>...</td>\n",
              "      <td>...</td>\n",
              "    </tr>\n",
              "    <tr>\n",
              "      <th>82277</th>\n",
              "      <td>1</td>\n",
              "      <td>0</td>\n",
              "      <td>6945</td>\n",
              "      <td>2014-05-30 23:10:00</td>\n",
              "      <td>Sandoval Matthew</td>\n",
              "      <td>MatthewKSandoval@cuvox.de</td>\n",
              "      <td>SIGNUP</td>\n",
              "      <td>1.401578e+09</td>\n",
              "      <td>0</td>\n",
              "      <td>0</td>\n",
              "      <td>5</td>\n",
              "    </tr>\n",
              "    <tr>\n",
              "      <th>82278</th>\n",
              "      <td>1</td>\n",
              "      <td>0</td>\n",
              "      <td>9688</td>\n",
              "      <td>2014-05-30 23:12:00</td>\n",
              "      <td>Coveny Taj</td>\n",
              "      <td>TajCoveny@yahoo.com</td>\n",
              "      <td>GUEST_INVITE</td>\n",
              "      <td>1.401664e+09</td>\n",
              "      <td>0</td>\n",
              "      <td>0</td>\n",
              "      <td>93</td>\n",
              "    </tr>\n",
              "    <tr>\n",
              "      <th>82279</th>\n",
              "      <td>1</td>\n",
              "      <td>0</td>\n",
              "      <td>10164</td>\n",
              "      <td>2014-05-30 23:27:00</td>\n",
              "      <td>Walsh Sam</td>\n",
              "      <td>SamWalsh@jourrapide.com</td>\n",
              "      <td>GUEST_INVITE</td>\n",
              "      <td>1.401492e+09</td>\n",
              "      <td>0</td>\n",
              "      <td>0</td>\n",
              "      <td>302</td>\n",
              "    </tr>\n",
              "    <tr>\n",
              "      <th>82280</th>\n",
              "      <td>1</td>\n",
              "      <td>0</td>\n",
              "      <td>3490</td>\n",
              "      <td>2014-05-30 23:45:00</td>\n",
              "      <td>Oliveira Estevan</td>\n",
              "      <td>EstevanRochaOliveira@gmail.com</td>\n",
              "      <td>PERSONAL_PROJECTS</td>\n",
              "      <td>1.401580e+09</td>\n",
              "      <td>0</td>\n",
              "      <td>0</td>\n",
              "      <td>31</td>\n",
              "    </tr>\n",
              "    <tr>\n",
              "      <th>82281</th>\n",
              "      <td>1</td>\n",
              "      <td>0</td>\n",
              "      <td>6053</td>\n",
              "      <td>2014-05-30 23:59:00</td>\n",
              "      <td>Armbruster Kandace</td>\n",
              "      <td>KandacePArmbruster@hotmail.com</td>\n",
              "      <td>GUEST_INVITE</td>\n",
              "      <td>1.401494e+09</td>\n",
              "      <td>1</td>\n",
              "      <td>0</td>\n",
              "      <td>7</td>\n",
              "    </tr>\n",
              "  </tbody>\n",
              "</table>\n",
              "<p>82282 rows × 11 columns</p>\n",
              "</div>"
            ],
            "text/plain": [
              "       visited  adopted_user  ...  enabled_for_marketing_drip org_id\n",
              "0            1             0  ...                           0    115\n",
              "1            1             0  ...                           0    239\n",
              "2            1             0  ...                           0    145\n",
              "3            0             0  ...                           0    145\n",
              "4            0             0  ...                           0    145\n",
              "...        ...           ...  ...                         ...    ...\n",
              "82277        1             0  ...                           0      5\n",
              "82278        1             0  ...                           0     93\n",
              "82279        1             0  ...                           0    302\n",
              "82280        1             0  ...                           0     31\n",
              "82281        1             0  ...                           0      7\n",
              "\n",
              "[82282 rows x 11 columns]"
            ]
          },
          "metadata": {
            "tags": []
          },
          "execution_count": 233
        }
      ]
    },
    {
      "cell_type": "code",
      "metadata": {
        "id": "85kZk8EARkG2"
      },
      "source": [
        "#Let us create a column called 'days' which capture the number of days from the first 'creation_time'\r\n",
        "#df_merge['days']=0\r\n",
        "df_merge['days']=df_merge['creation_time']-df_merge['creation_time'].iloc[0]"
      ],
      "execution_count": 234,
      "outputs": []
    },
    {
      "cell_type": "code",
      "metadata": {
        "colab": {
          "base_uri": "https://localhost:8080/",
          "height": 204
        },
        "id": "M9EkCzweT_j8",
        "outputId": "86ed73d5-0eb2-41a4-b81d-def3fb776557"
      },
      "source": [
        "df_merge.head()"
      ],
      "execution_count": 235,
      "outputs": [
        {
          "output_type": "execute_result",
          "data": {
            "text/html": [
              "<div>\n",
              "<style scoped>\n",
              "    .dataframe tbody tr th:only-of-type {\n",
              "        vertical-align: middle;\n",
              "    }\n",
              "\n",
              "    .dataframe tbody tr th {\n",
              "        vertical-align: top;\n",
              "    }\n",
              "\n",
              "    .dataframe thead th {\n",
              "        text-align: right;\n",
              "    }\n",
              "</style>\n",
              "<table border=\"1\" class=\"dataframe\">\n",
              "  <thead>\n",
              "    <tr style=\"text-align: right;\">\n",
              "      <th></th>\n",
              "      <th>visited</th>\n",
              "      <th>adopted_user</th>\n",
              "      <th>object_id</th>\n",
              "      <th>creation_time</th>\n",
              "      <th>name</th>\n",
              "      <th>email</th>\n",
              "      <th>creation_source</th>\n",
              "      <th>last_session_creation_time</th>\n",
              "      <th>opted_in_to_mailing_list</th>\n",
              "      <th>enabled_for_marketing_drip</th>\n",
              "      <th>org_id</th>\n",
              "      <th>days</th>\n",
              "    </tr>\n",
              "  </thead>\n",
              "  <tbody>\n",
              "    <tr>\n",
              "      <th>0</th>\n",
              "      <td>1</td>\n",
              "      <td>0</td>\n",
              "      <td>3861</td>\n",
              "      <td>2012-05-31 00:43:00</td>\n",
              "      <td>Jensen Stine</td>\n",
              "      <td>StineAJensen@yahoo.com</td>\n",
              "      <td>ORG_INVITE</td>\n",
              "      <td>1.338684e+09</td>\n",
              "      <td>0</td>\n",
              "      <td>0</td>\n",
              "      <td>115</td>\n",
              "      <td>0 days 00:00:00</td>\n",
              "    </tr>\n",
              "    <tr>\n",
              "      <th>1</th>\n",
              "      <td>1</td>\n",
              "      <td>0</td>\n",
              "      <td>11430</td>\n",
              "      <td>2012-05-31 01:42:00</td>\n",
              "      <td>Wood Levi</td>\n",
              "      <td>LeviWood@hotmail.com</td>\n",
              "      <td>ORG_INVITE</td>\n",
              "      <td>1.338515e+09</td>\n",
              "      <td>0</td>\n",
              "      <td>0</td>\n",
              "      <td>239</td>\n",
              "      <td>0 days 00:59:00</td>\n",
              "    </tr>\n",
              "    <tr>\n",
              "      <th>2</th>\n",
              "      <td>1</td>\n",
              "      <td>0</td>\n",
              "      <td>7170</td>\n",
              "      <td>2012-05-31 06:23:00</td>\n",
              "      <td>Cavalcanti Leonardo</td>\n",
              "      <td>LeonardoPereiraCavalcanti@hotmail.com</td>\n",
              "      <td>ORG_INVITE</td>\n",
              "      <td>1.345444e+09</td>\n",
              "      <td>0</td>\n",
              "      <td>0</td>\n",
              "      <td>145</td>\n",
              "      <td>0 days 05:40:00</td>\n",
              "    </tr>\n",
              "    <tr>\n",
              "      <th>3</th>\n",
              "      <td>0</td>\n",
              "      <td>0</td>\n",
              "      <td>7170</td>\n",
              "      <td>2012-05-31 06:23:00</td>\n",
              "      <td>Cavalcanti Leonardo</td>\n",
              "      <td>LeonardoPereiraCavalcanti@hotmail.com</td>\n",
              "      <td>ORG_INVITE</td>\n",
              "      <td>1.345444e+09</td>\n",
              "      <td>0</td>\n",
              "      <td>0</td>\n",
              "      <td>145</td>\n",
              "      <td>0 days 05:40:00</td>\n",
              "    </tr>\n",
              "    <tr>\n",
              "      <th>4</th>\n",
              "      <td>0</td>\n",
              "      <td>0</td>\n",
              "      <td>7170</td>\n",
              "      <td>2012-05-31 06:23:00</td>\n",
              "      <td>Cavalcanti Leonardo</td>\n",
              "      <td>LeonardoPereiraCavalcanti@hotmail.com</td>\n",
              "      <td>ORG_INVITE</td>\n",
              "      <td>1.345444e+09</td>\n",
              "      <td>0</td>\n",
              "      <td>0</td>\n",
              "      <td>145</td>\n",
              "      <td>0 days 05:40:00</td>\n",
              "    </tr>\n",
              "  </tbody>\n",
              "</table>\n",
              "</div>"
            ],
            "text/plain": [
              "   visited  adopted_user  ...  org_id            days\n",
              "0        1             0  ...     115 0 days 00:00:00\n",
              "1        1             0  ...     239 0 days 00:59:00\n",
              "2        1             0  ...     145 0 days 05:40:00\n",
              "3        0             0  ...     145 0 days 05:40:00\n",
              "4        0             0  ...     145 0 days 05:40:00\n",
              "\n",
              "[5 rows x 12 columns]"
            ]
          },
          "metadata": {
            "tags": []
          },
          "execution_count": 235
        }
      ]
    },
    {
      "cell_type": "code",
      "metadata": {
        "colab": {
          "base_uri": "https://localhost:8080/"
        },
        "id": "O40tP7J-XOsg",
        "outputId": "92407e1e-c9c8-4193-8d3e-4f846b032f0f"
      },
      "source": [
        "df_merge.info()"
      ],
      "execution_count": 236,
      "outputs": [
        {
          "output_type": "stream",
          "text": [
            "<class 'pandas.core.frame.DataFrame'>\n",
            "RangeIndex: 82282 entries, 0 to 82281\n",
            "Data columns (total 12 columns):\n",
            " #   Column                      Non-Null Count  Dtype          \n",
            "---  ------                      --------------  -----          \n",
            " 0   visited                     82282 non-null  int64          \n",
            " 1   adopted_user                82282 non-null  int64          \n",
            " 2   object_id                   82282 non-null  int64          \n",
            " 3   creation_time               82282 non-null  datetime64[ns] \n",
            " 4   name                        82282 non-null  object         \n",
            " 5   email                       82282 non-null  object         \n",
            " 6   creation_source             82282 non-null  object         \n",
            " 7   last_session_creation_time  82282 non-null  float64        \n",
            " 8   opted_in_to_mailing_list    82282 non-null  int64          \n",
            " 9   enabled_for_marketing_drip  82282 non-null  int64          \n",
            " 10  org_id                      82282 non-null  int64          \n",
            " 11  days                        82282 non-null  timedelta64[ns]\n",
            "dtypes: datetime64[ns](1), float64(1), int64(6), object(3), timedelta64[ns](1)\n",
            "memory usage: 7.5+ MB\n"
          ],
          "name": "stdout"
        }
      ]
    },
    {
      "cell_type": "code",
      "metadata": {
        "id": "ysmjkcYVXOwG"
      },
      "source": [
        "#convert the column 'days' type into timedelta\r\n",
        "df_merge['days']= df_merge['days'].astype('timedelta64[D]')"
      ],
      "execution_count": 237,
      "outputs": []
    },
    {
      "cell_type": "code",
      "metadata": {
        "colab": {
          "base_uri": "https://localhost:8080/",
          "height": 204
        },
        "id": "9iL95eDiXO0H",
        "outputId": "758deb27-ca7b-4d53-a6e8-2214249ace6a"
      },
      "source": [
        "df_merge.head()"
      ],
      "execution_count": 238,
      "outputs": [
        {
          "output_type": "execute_result",
          "data": {
            "text/html": [
              "<div>\n",
              "<style scoped>\n",
              "    .dataframe tbody tr th:only-of-type {\n",
              "        vertical-align: middle;\n",
              "    }\n",
              "\n",
              "    .dataframe tbody tr th {\n",
              "        vertical-align: top;\n",
              "    }\n",
              "\n",
              "    .dataframe thead th {\n",
              "        text-align: right;\n",
              "    }\n",
              "</style>\n",
              "<table border=\"1\" class=\"dataframe\">\n",
              "  <thead>\n",
              "    <tr style=\"text-align: right;\">\n",
              "      <th></th>\n",
              "      <th>visited</th>\n",
              "      <th>adopted_user</th>\n",
              "      <th>object_id</th>\n",
              "      <th>creation_time</th>\n",
              "      <th>name</th>\n",
              "      <th>email</th>\n",
              "      <th>creation_source</th>\n",
              "      <th>last_session_creation_time</th>\n",
              "      <th>opted_in_to_mailing_list</th>\n",
              "      <th>enabled_for_marketing_drip</th>\n",
              "      <th>org_id</th>\n",
              "      <th>days</th>\n",
              "    </tr>\n",
              "  </thead>\n",
              "  <tbody>\n",
              "    <tr>\n",
              "      <th>0</th>\n",
              "      <td>1</td>\n",
              "      <td>0</td>\n",
              "      <td>3861</td>\n",
              "      <td>2012-05-31 00:43:00</td>\n",
              "      <td>Jensen Stine</td>\n",
              "      <td>StineAJensen@yahoo.com</td>\n",
              "      <td>ORG_INVITE</td>\n",
              "      <td>1.338684e+09</td>\n",
              "      <td>0</td>\n",
              "      <td>0</td>\n",
              "      <td>115</td>\n",
              "      <td>0.0</td>\n",
              "    </tr>\n",
              "    <tr>\n",
              "      <th>1</th>\n",
              "      <td>1</td>\n",
              "      <td>0</td>\n",
              "      <td>11430</td>\n",
              "      <td>2012-05-31 01:42:00</td>\n",
              "      <td>Wood Levi</td>\n",
              "      <td>LeviWood@hotmail.com</td>\n",
              "      <td>ORG_INVITE</td>\n",
              "      <td>1.338515e+09</td>\n",
              "      <td>0</td>\n",
              "      <td>0</td>\n",
              "      <td>239</td>\n",
              "      <td>0.0</td>\n",
              "    </tr>\n",
              "    <tr>\n",
              "      <th>2</th>\n",
              "      <td>1</td>\n",
              "      <td>0</td>\n",
              "      <td>7170</td>\n",
              "      <td>2012-05-31 06:23:00</td>\n",
              "      <td>Cavalcanti Leonardo</td>\n",
              "      <td>LeonardoPereiraCavalcanti@hotmail.com</td>\n",
              "      <td>ORG_INVITE</td>\n",
              "      <td>1.345444e+09</td>\n",
              "      <td>0</td>\n",
              "      <td>0</td>\n",
              "      <td>145</td>\n",
              "      <td>0.0</td>\n",
              "    </tr>\n",
              "    <tr>\n",
              "      <th>3</th>\n",
              "      <td>0</td>\n",
              "      <td>0</td>\n",
              "      <td>7170</td>\n",
              "      <td>2012-05-31 06:23:00</td>\n",
              "      <td>Cavalcanti Leonardo</td>\n",
              "      <td>LeonardoPereiraCavalcanti@hotmail.com</td>\n",
              "      <td>ORG_INVITE</td>\n",
              "      <td>1.345444e+09</td>\n",
              "      <td>0</td>\n",
              "      <td>0</td>\n",
              "      <td>145</td>\n",
              "      <td>0.0</td>\n",
              "    </tr>\n",
              "    <tr>\n",
              "      <th>4</th>\n",
              "      <td>0</td>\n",
              "      <td>0</td>\n",
              "      <td>7170</td>\n",
              "      <td>2012-05-31 06:23:00</td>\n",
              "      <td>Cavalcanti Leonardo</td>\n",
              "      <td>LeonardoPereiraCavalcanti@hotmail.com</td>\n",
              "      <td>ORG_INVITE</td>\n",
              "      <td>1.345444e+09</td>\n",
              "      <td>0</td>\n",
              "      <td>0</td>\n",
              "      <td>145</td>\n",
              "      <td>0.0</td>\n",
              "    </tr>\n",
              "  </tbody>\n",
              "</table>\n",
              "</div>"
            ],
            "text/plain": [
              "   visited  adopted_user  object_id  ... enabled_for_marketing_drip org_id days\n",
              "0        1             0       3861  ...                          0    115  0.0\n",
              "1        1             0      11430  ...                          0    239  0.0\n",
              "2        1             0       7170  ...                          0    145  0.0\n",
              "3        0             0       7170  ...                          0    145  0.0\n",
              "4        0             0       7170  ...                          0    145  0.0\n",
              "\n",
              "[5 rows x 12 columns]"
            ]
          },
          "metadata": {
            "tags": []
          },
          "execution_count": 238
        }
      ]
    },
    {
      "cell_type": "code",
      "metadata": {
        "colab": {
          "base_uri": "https://localhost:8080/"
        },
        "id": "0mgdxDZRstP_",
        "outputId": "f45e8980-e323-4e9f-87ae-99dba14194ac"
      },
      "source": [
        "df_merge['days']"
      ],
      "execution_count": 239,
      "outputs": [
        {
          "output_type": "execute_result",
          "data": {
            "text/plain": [
              "0          0.0\n",
              "1          0.0\n",
              "2          0.0\n",
              "3          0.0\n",
              "4          0.0\n",
              "         ...  \n",
              "82277    729.0\n",
              "82278    729.0\n",
              "82279    729.0\n",
              "82280    729.0\n",
              "82281    729.0\n",
              "Name: days, Length: 82282, dtype: float64"
            ]
          },
          "metadata": {
            "tags": []
          },
          "execution_count": 239
        }
      ]
    },
    {
      "cell_type": "code",
      "metadata": {
        "colab": {
          "base_uri": "https://localhost:8080/"
        },
        "id": "fCKLlvgR3Hln",
        "outputId": "9e02de50-69ea-439b-9d2d-d219c81db5d6"
      },
      "source": [
        "df_merge.info()"
      ],
      "execution_count": 240,
      "outputs": [
        {
          "output_type": "stream",
          "text": [
            "<class 'pandas.core.frame.DataFrame'>\n",
            "RangeIndex: 82282 entries, 0 to 82281\n",
            "Data columns (total 12 columns):\n",
            " #   Column                      Non-Null Count  Dtype         \n",
            "---  ------                      --------------  -----         \n",
            " 0   visited                     82282 non-null  int64         \n",
            " 1   adopted_user                82282 non-null  int64         \n",
            " 2   object_id                   82282 non-null  int64         \n",
            " 3   creation_time               82282 non-null  datetime64[ns]\n",
            " 4   name                        82282 non-null  object        \n",
            " 5   email                       82282 non-null  object        \n",
            " 6   creation_source             82282 non-null  object        \n",
            " 7   last_session_creation_time  82282 non-null  float64       \n",
            " 8   opted_in_to_mailing_list    82282 non-null  int64         \n",
            " 9   enabled_for_marketing_drip  82282 non-null  int64         \n",
            " 10  org_id                      82282 non-null  int64         \n",
            " 11  days                        82282 non-null  float64       \n",
            "dtypes: datetime64[ns](1), float64(2), int64(6), object(3)\n",
            "memory usage: 7.5+ MB\n"
          ],
          "name": "stdout"
        }
      ]
    },
    {
      "cell_type": "code",
      "metadata": {
        "id": "fBD_04hbSOPh"
      },
      "source": [
        "#Let us create another column called 'days_since_creation' which is the number of days since account creation and now\r\n",
        "from datetime import datetime\r\n",
        "#df_merge['days_since_log']=0\r\n",
        "df_merge['days_since_creation']=max(df_merge['creation_time'])-df_merge['creation_time']"
      ],
      "execution_count": 241,
      "outputs": []
    },
    {
      "cell_type": "code",
      "metadata": {
        "id": "MR_Lj1ICSSBh"
      },
      "source": [
        "#Let us create another column called 'days_since_creation' which is the number of days since account creation and now\r\n",
        "#from datetime import datetime\r\n",
        "#df_merge['days_since_log']=0\r\n",
        "#for i in range(len(df_merge)):\r\n",
        "    #df_merge['days_since_log'].iloc[i]=max(df_merge['creation_time'])-df_merge['creation_time'].iloc[0]"
      ],
      "execution_count": null,
      "outputs": []
    },
    {
      "cell_type": "code",
      "metadata": {
        "id": "mCh1kYDmKkKn"
      },
      "source": [
        "#Convert 'last_session_creation_time' into datetime\r\n",
        "#df_merge['last_session_creation_time'] = pd.to_datetime(\r\n",
        "    #df_merge['last_session_creation_time'], unit='s')\r\n"
      ],
      "execution_count": null,
      "outputs": []
    },
    {
      "cell_type": "code",
      "metadata": {
        "id": "nVb5FstMM8-K"
      },
      "source": [
        "# calculate account age, defined as number of days since account creation and now\r\n",
        "# I don't know when this dataset was collected. Let's use the latest date in creation_time\r\n",
        "#latest = max(users['creation_time'])\r\n",
        "#users['account_age'] = max(users['creation_time']) - users['creation_time']\r\n",
        "#users['account_age'] = users['account_age'].dt.days\r\n",
        "# drop the two original columns\r\n",
        "#users = users.drop(['creation_time', 'last_session_creation_time'], axis=1)"
      ],
      "execution_count": null,
      "outputs": []
    },
    {
      "cell_type": "code",
      "metadata": {
        "id": "0vK_AoOiM6PM"
      },
      "source": [
        ""
      ],
      "execution_count": null,
      "outputs": []
    },
    {
      "cell_type": "code",
      "metadata": {
        "colab": {
          "base_uri": "https://localhost:8080/",
          "height": 289
        },
        "id": "GQOE3LhT4eli",
        "outputId": "7117b1ed-976c-478a-c069-7883fea31783"
      },
      "source": [
        "df_merge.head()"
      ],
      "execution_count": 242,
      "outputs": [
        {
          "output_type": "execute_result",
          "data": {
            "text/html": [
              "<div>\n",
              "<style scoped>\n",
              "    .dataframe tbody tr th:only-of-type {\n",
              "        vertical-align: middle;\n",
              "    }\n",
              "\n",
              "    .dataframe tbody tr th {\n",
              "        vertical-align: top;\n",
              "    }\n",
              "\n",
              "    .dataframe thead th {\n",
              "        text-align: right;\n",
              "    }\n",
              "</style>\n",
              "<table border=\"1\" class=\"dataframe\">\n",
              "  <thead>\n",
              "    <tr style=\"text-align: right;\">\n",
              "      <th></th>\n",
              "      <th>visited</th>\n",
              "      <th>adopted_user</th>\n",
              "      <th>object_id</th>\n",
              "      <th>creation_time</th>\n",
              "      <th>name</th>\n",
              "      <th>email</th>\n",
              "      <th>creation_source</th>\n",
              "      <th>last_session_creation_time</th>\n",
              "      <th>opted_in_to_mailing_list</th>\n",
              "      <th>enabled_for_marketing_drip</th>\n",
              "      <th>org_id</th>\n",
              "      <th>days</th>\n",
              "      <th>days_since_creation</th>\n",
              "    </tr>\n",
              "  </thead>\n",
              "  <tbody>\n",
              "    <tr>\n",
              "      <th>0</th>\n",
              "      <td>1</td>\n",
              "      <td>0</td>\n",
              "      <td>3861</td>\n",
              "      <td>2012-05-31 00:43:00</td>\n",
              "      <td>Jensen Stine</td>\n",
              "      <td>StineAJensen@yahoo.com</td>\n",
              "      <td>ORG_INVITE</td>\n",
              "      <td>1.338684e+09</td>\n",
              "      <td>0</td>\n",
              "      <td>0</td>\n",
              "      <td>115</td>\n",
              "      <td>0.0</td>\n",
              "      <td>729 days 23:16:00</td>\n",
              "    </tr>\n",
              "    <tr>\n",
              "      <th>1</th>\n",
              "      <td>1</td>\n",
              "      <td>0</td>\n",
              "      <td>11430</td>\n",
              "      <td>2012-05-31 01:42:00</td>\n",
              "      <td>Wood Levi</td>\n",
              "      <td>LeviWood@hotmail.com</td>\n",
              "      <td>ORG_INVITE</td>\n",
              "      <td>1.338515e+09</td>\n",
              "      <td>0</td>\n",
              "      <td>0</td>\n",
              "      <td>239</td>\n",
              "      <td>0.0</td>\n",
              "      <td>729 days 22:17:00</td>\n",
              "    </tr>\n",
              "    <tr>\n",
              "      <th>2</th>\n",
              "      <td>1</td>\n",
              "      <td>0</td>\n",
              "      <td>7170</td>\n",
              "      <td>2012-05-31 06:23:00</td>\n",
              "      <td>Cavalcanti Leonardo</td>\n",
              "      <td>LeonardoPereiraCavalcanti@hotmail.com</td>\n",
              "      <td>ORG_INVITE</td>\n",
              "      <td>1.345444e+09</td>\n",
              "      <td>0</td>\n",
              "      <td>0</td>\n",
              "      <td>145</td>\n",
              "      <td>0.0</td>\n",
              "      <td>729 days 17:36:00</td>\n",
              "    </tr>\n",
              "    <tr>\n",
              "      <th>3</th>\n",
              "      <td>0</td>\n",
              "      <td>0</td>\n",
              "      <td>7170</td>\n",
              "      <td>2012-05-31 06:23:00</td>\n",
              "      <td>Cavalcanti Leonardo</td>\n",
              "      <td>LeonardoPereiraCavalcanti@hotmail.com</td>\n",
              "      <td>ORG_INVITE</td>\n",
              "      <td>1.345444e+09</td>\n",
              "      <td>0</td>\n",
              "      <td>0</td>\n",
              "      <td>145</td>\n",
              "      <td>0.0</td>\n",
              "      <td>729 days 17:36:00</td>\n",
              "    </tr>\n",
              "    <tr>\n",
              "      <th>4</th>\n",
              "      <td>0</td>\n",
              "      <td>0</td>\n",
              "      <td>7170</td>\n",
              "      <td>2012-05-31 06:23:00</td>\n",
              "      <td>Cavalcanti Leonardo</td>\n",
              "      <td>LeonardoPereiraCavalcanti@hotmail.com</td>\n",
              "      <td>ORG_INVITE</td>\n",
              "      <td>1.345444e+09</td>\n",
              "      <td>0</td>\n",
              "      <td>0</td>\n",
              "      <td>145</td>\n",
              "      <td>0.0</td>\n",
              "      <td>729 days 17:36:00</td>\n",
              "    </tr>\n",
              "  </tbody>\n",
              "</table>\n",
              "</div>"
            ],
            "text/plain": [
              "   visited  adopted_user  object_id  ... org_id days days_since_creation\n",
              "0        1             0       3861  ...    115  0.0   729 days 23:16:00\n",
              "1        1             0      11430  ...    239  0.0   729 days 22:17:00\n",
              "2        1             0       7170  ...    145  0.0   729 days 17:36:00\n",
              "3        0             0       7170  ...    145  0.0   729 days 17:36:00\n",
              "4        0             0       7170  ...    145  0.0   729 days 17:36:00\n",
              "\n",
              "[5 rows x 13 columns]"
            ]
          },
          "metadata": {
            "tags": []
          },
          "execution_count": 242
        }
      ]
    },
    {
      "cell_type": "code",
      "metadata": {
        "colab": {
          "base_uri": "https://localhost:8080/"
        },
        "id": "Z6F1620n4mFk",
        "outputId": "eed80573-67cd-448a-b7eb-99faf64de1a0"
      },
      "source": [
        "df_merge.info()"
      ],
      "execution_count": 243,
      "outputs": [
        {
          "output_type": "stream",
          "text": [
            "<class 'pandas.core.frame.DataFrame'>\n",
            "RangeIndex: 82282 entries, 0 to 82281\n",
            "Data columns (total 13 columns):\n",
            " #   Column                      Non-Null Count  Dtype          \n",
            "---  ------                      --------------  -----          \n",
            " 0   visited                     82282 non-null  int64          \n",
            " 1   adopted_user                82282 non-null  int64          \n",
            " 2   object_id                   82282 non-null  int64          \n",
            " 3   creation_time               82282 non-null  datetime64[ns] \n",
            " 4   name                        82282 non-null  object         \n",
            " 5   email                       82282 non-null  object         \n",
            " 6   creation_source             82282 non-null  object         \n",
            " 7   last_session_creation_time  82282 non-null  float64        \n",
            " 8   opted_in_to_mailing_list    82282 non-null  int64          \n",
            " 9   enabled_for_marketing_drip  82282 non-null  int64          \n",
            " 10  org_id                      82282 non-null  int64          \n",
            " 11  days                        82282 non-null  float64        \n",
            " 12  days_since_creation         82282 non-null  timedelta64[ns]\n",
            "dtypes: datetime64[ns](1), float64(2), int64(6), object(3), timedelta64[ns](1)\n",
            "memory usage: 8.2+ MB\n"
          ],
          "name": "stdout"
        }
      ]
    },
    {
      "cell_type": "code",
      "metadata": {
        "colab": {
          "base_uri": "https://localhost:8080/"
        },
        "id": "PwavzNTt_kve",
        "outputId": "c9e1f3ec-0b8b-456e-a107-1e33eceb4253"
      },
      "source": [
        "df_merge['days_since_creation'].value_counts()"
      ],
      "execution_count": 244,
      "outputs": [
        {
          "output_type": "execute_result",
          "data": {
            "text/plain": [
              "727 days 07:15:00    106\n",
              "728 days 03:57:00    105\n",
              "720 days 10:20:00    105\n",
              "722 days 09:22:00    105\n",
              "722 days 10:00:00    105\n",
              "                    ... \n",
              "1 days 05:23:00        1\n",
              "343 days 21:46:00      1\n",
              "279 days 08:49:00      1\n",
              "143 days 18:23:00      1\n",
              "0 days 00:00:00        1\n",
              "Name: days_since_creation, Length: 8788, dtype: int64"
            ]
          },
          "metadata": {
            "tags": []
          },
          "execution_count": 244
        }
      ]
    },
    {
      "cell_type": "code",
      "metadata": {
        "id": "gJ_vDRQF5BeJ"
      },
      "source": [
        "#Convert 'days_since_creation' into timedelta\r\n",
        "df_merge['days_since_creation']= df_merge['days_since_creation'].astype('timedelta64[D]')\r\n",
        "#df_merge['days_since_creation'].astype('timedelta64[D]')"
      ],
      "execution_count": 245,
      "outputs": []
    },
    {
      "cell_type": "code",
      "metadata": {
        "colab": {
          "base_uri": "https://localhost:8080/",
          "height": 289
        },
        "id": "3baGsqBX5Blj",
        "outputId": "0593e659-a8c9-4111-8085-18a4ee80dd38"
      },
      "source": [
        "df_merge.head()"
      ],
      "execution_count": 246,
      "outputs": [
        {
          "output_type": "execute_result",
          "data": {
            "text/html": [
              "<div>\n",
              "<style scoped>\n",
              "    .dataframe tbody tr th:only-of-type {\n",
              "        vertical-align: middle;\n",
              "    }\n",
              "\n",
              "    .dataframe tbody tr th {\n",
              "        vertical-align: top;\n",
              "    }\n",
              "\n",
              "    .dataframe thead th {\n",
              "        text-align: right;\n",
              "    }\n",
              "</style>\n",
              "<table border=\"1\" class=\"dataframe\">\n",
              "  <thead>\n",
              "    <tr style=\"text-align: right;\">\n",
              "      <th></th>\n",
              "      <th>visited</th>\n",
              "      <th>adopted_user</th>\n",
              "      <th>object_id</th>\n",
              "      <th>creation_time</th>\n",
              "      <th>name</th>\n",
              "      <th>email</th>\n",
              "      <th>creation_source</th>\n",
              "      <th>last_session_creation_time</th>\n",
              "      <th>opted_in_to_mailing_list</th>\n",
              "      <th>enabled_for_marketing_drip</th>\n",
              "      <th>org_id</th>\n",
              "      <th>days</th>\n",
              "      <th>days_since_creation</th>\n",
              "    </tr>\n",
              "  </thead>\n",
              "  <tbody>\n",
              "    <tr>\n",
              "      <th>0</th>\n",
              "      <td>1</td>\n",
              "      <td>0</td>\n",
              "      <td>3861</td>\n",
              "      <td>2012-05-31 00:43:00</td>\n",
              "      <td>Jensen Stine</td>\n",
              "      <td>StineAJensen@yahoo.com</td>\n",
              "      <td>ORG_INVITE</td>\n",
              "      <td>1.338684e+09</td>\n",
              "      <td>0</td>\n",
              "      <td>0</td>\n",
              "      <td>115</td>\n",
              "      <td>0.0</td>\n",
              "      <td>729.0</td>\n",
              "    </tr>\n",
              "    <tr>\n",
              "      <th>1</th>\n",
              "      <td>1</td>\n",
              "      <td>0</td>\n",
              "      <td>11430</td>\n",
              "      <td>2012-05-31 01:42:00</td>\n",
              "      <td>Wood Levi</td>\n",
              "      <td>LeviWood@hotmail.com</td>\n",
              "      <td>ORG_INVITE</td>\n",
              "      <td>1.338515e+09</td>\n",
              "      <td>0</td>\n",
              "      <td>0</td>\n",
              "      <td>239</td>\n",
              "      <td>0.0</td>\n",
              "      <td>729.0</td>\n",
              "    </tr>\n",
              "    <tr>\n",
              "      <th>2</th>\n",
              "      <td>1</td>\n",
              "      <td>0</td>\n",
              "      <td>7170</td>\n",
              "      <td>2012-05-31 06:23:00</td>\n",
              "      <td>Cavalcanti Leonardo</td>\n",
              "      <td>LeonardoPereiraCavalcanti@hotmail.com</td>\n",
              "      <td>ORG_INVITE</td>\n",
              "      <td>1.345444e+09</td>\n",
              "      <td>0</td>\n",
              "      <td>0</td>\n",
              "      <td>145</td>\n",
              "      <td>0.0</td>\n",
              "      <td>729.0</td>\n",
              "    </tr>\n",
              "    <tr>\n",
              "      <th>3</th>\n",
              "      <td>0</td>\n",
              "      <td>0</td>\n",
              "      <td>7170</td>\n",
              "      <td>2012-05-31 06:23:00</td>\n",
              "      <td>Cavalcanti Leonardo</td>\n",
              "      <td>LeonardoPereiraCavalcanti@hotmail.com</td>\n",
              "      <td>ORG_INVITE</td>\n",
              "      <td>1.345444e+09</td>\n",
              "      <td>0</td>\n",
              "      <td>0</td>\n",
              "      <td>145</td>\n",
              "      <td>0.0</td>\n",
              "      <td>729.0</td>\n",
              "    </tr>\n",
              "    <tr>\n",
              "      <th>4</th>\n",
              "      <td>0</td>\n",
              "      <td>0</td>\n",
              "      <td>7170</td>\n",
              "      <td>2012-05-31 06:23:00</td>\n",
              "      <td>Cavalcanti Leonardo</td>\n",
              "      <td>LeonardoPereiraCavalcanti@hotmail.com</td>\n",
              "      <td>ORG_INVITE</td>\n",
              "      <td>1.345444e+09</td>\n",
              "      <td>0</td>\n",
              "      <td>0</td>\n",
              "      <td>145</td>\n",
              "      <td>0.0</td>\n",
              "      <td>729.0</td>\n",
              "    </tr>\n",
              "  </tbody>\n",
              "</table>\n",
              "</div>"
            ],
            "text/plain": [
              "   visited  adopted_user  object_id  ... org_id days days_since_creation\n",
              "0        1             0       3861  ...    115  0.0               729.0\n",
              "1        1             0      11430  ...    239  0.0               729.0\n",
              "2        1             0       7170  ...    145  0.0               729.0\n",
              "3        0             0       7170  ...    145  0.0               729.0\n",
              "4        0             0       7170  ...    145  0.0               729.0\n",
              "\n",
              "[5 rows x 13 columns]"
            ]
          },
          "metadata": {
            "tags": []
          },
          "execution_count": 246
        }
      ]
    },
    {
      "cell_type": "code",
      "metadata": {
        "colab": {
          "base_uri": "https://localhost:8080/"
        },
        "id": "NehsKiqM5zVG",
        "outputId": "5f7bf822-eadb-40fd-c587-083e991c3a95"
      },
      "source": [
        "df_merge.info()"
      ],
      "execution_count": 247,
      "outputs": [
        {
          "output_type": "stream",
          "text": [
            "<class 'pandas.core.frame.DataFrame'>\n",
            "RangeIndex: 82282 entries, 0 to 82281\n",
            "Data columns (total 13 columns):\n",
            " #   Column                      Non-Null Count  Dtype         \n",
            "---  ------                      --------------  -----         \n",
            " 0   visited                     82282 non-null  int64         \n",
            " 1   adopted_user                82282 non-null  int64         \n",
            " 2   object_id                   82282 non-null  int64         \n",
            " 3   creation_time               82282 non-null  datetime64[ns]\n",
            " 4   name                        82282 non-null  object        \n",
            " 5   email                       82282 non-null  object        \n",
            " 6   creation_source             82282 non-null  object        \n",
            " 7   last_session_creation_time  82282 non-null  float64       \n",
            " 8   opted_in_to_mailing_list    82282 non-null  int64         \n",
            " 9   enabled_for_marketing_drip  82282 non-null  int64         \n",
            " 10  org_id                      82282 non-null  int64         \n",
            " 11  days                        82282 non-null  float64       \n",
            " 12  days_since_creation         82282 non-null  float64       \n",
            "dtypes: datetime64[ns](1), float64(3), int64(6), object(3)\n",
            "memory usage: 8.2+ MB\n"
          ],
          "name": "stdout"
        }
      ]
    },
    {
      "cell_type": "code",
      "metadata": {
        "colab": {
          "base_uri": "https://localhost:8080/"
        },
        "id": "hLg8gscX6Uc6",
        "outputId": "b6eb5c6e-0720-4d59-de2d-152d4dd67091"
      },
      "source": [
        "#Let us count the number of distinct values for each column and let us focus just on binary and categorical variable.\r\n",
        "df_merge.nunique()"
      ],
      "execution_count": 248,
      "outputs": [
        {
          "output_type": "execute_result",
          "data": {
            "text/plain": [
              "visited                          8\n",
              "adopted_user                     2\n",
              "object_id                     8823\n",
              "creation_time                 8788\n",
              "name                          8450\n",
              "email                         8810\n",
              "creation_source                  5\n",
              "last_session_creation_time    8821\n",
              "opted_in_to_mailing_list         2\n",
              "enabled_for_marketing_drip       2\n",
              "org_id                         417\n",
              "days                           730\n",
              "days_since_creation            730\n",
              "dtype: int64"
            ]
          },
          "metadata": {
            "tags": []
          },
          "execution_count": 248
        }
      ]
    },
    {
      "cell_type": "code",
      "metadata": {
        "id": "YADumWN0lNtU"
      },
      "source": [
        "# create a feature called 'duration' defined as number of days between account creation and last use.\r\n",
        "# convert both time features into datetime\r\n",
        "#users['creation_time'] = pd.to_datetime(\r\n",
        "    #users['creation_time'], format='%Y-%m-%d %H:%M:%S')\r\n",
        "df_merge['last_session_creation_time'] = pd.to_datetime(df_merge['last_session_creation_time'], unit='s')\r\n",
        "# calculate user history, defined as number of days between account creation and last use\r\n",
        "df_merge['duration'] = (df_merge['last_session_creation_time'] - df_merge['creation_time']).astype('timedelta64[D]')\r\n",
        "#users['history'] = users['history'].dt.days"
      ],
      "execution_count": 253,
      "outputs": []
    },
    {
      "cell_type": "code",
      "metadata": {
        "colab": {
          "base_uri": "https://localhost:8080/"
        },
        "id": "sp4hFLdumE4K",
        "outputId": "ad66d526-aade-4833-b243-7a62b73fcd0f"
      },
      "source": [
        "df_merge.info()"
      ],
      "execution_count": 254,
      "outputs": [
        {
          "output_type": "stream",
          "text": [
            "<class 'pandas.core.frame.DataFrame'>\n",
            "RangeIndex: 82282 entries, 0 to 82281\n",
            "Data columns (total 14 columns):\n",
            " #   Column                      Non-Null Count  Dtype         \n",
            "---  ------                      --------------  -----         \n",
            " 0   visited                     82282 non-null  int64         \n",
            " 1   adopted_user                82282 non-null  int64         \n",
            " 2   object_id                   82282 non-null  int64         \n",
            " 3   creation_time               82282 non-null  datetime64[ns]\n",
            " 4   name                        82282 non-null  object        \n",
            " 5   email                       82282 non-null  object        \n",
            " 6   creation_source             82282 non-null  object        \n",
            " 7   last_session_creation_time  82282 non-null  datetime64[ns]\n",
            " 8   opted_in_to_mailing_list    82282 non-null  int64         \n",
            " 9   enabled_for_marketing_drip  82282 non-null  int64         \n",
            " 10  org_id                      82282 non-null  int64         \n",
            " 11  days                        82282 non-null  float64       \n",
            " 12  days_since_creation         82282 non-null  float64       \n",
            " 13  duration                    82282 non-null  float64       \n",
            "dtypes: datetime64[ns](2), float64(3), int64(6), object(3)\n",
            "memory usage: 8.8+ MB\n"
          ],
          "name": "stdout"
        }
      ]
    },
    {
      "cell_type": "code",
      "metadata": {
        "id": "CUPLD6q4Uhzt"
      },
      "source": [
        "#Let us drop the column 'creation_time', 'org_id', 'object_id', 'email', 'name', 'creation_source', 'last_session_creation_time'\r\n",
        "df_merge=df_merge.drop(['creation_time', 'org_id', 'object_id', 'email', 'name', 'creation_source', 'last_session_creation_time'], axis=1)"
      ],
      "execution_count": 255,
      "outputs": []
    },
    {
      "cell_type": "code",
      "metadata": {
        "colab": {
          "base_uri": "https://localhost:8080/"
        },
        "id": "oif0jJiW83CQ",
        "outputId": "9a57afd4-f214-4a53-8d72-18863546044c"
      },
      "source": [
        "df_merge.info()"
      ],
      "execution_count": 256,
      "outputs": [
        {
          "output_type": "stream",
          "text": [
            "<class 'pandas.core.frame.DataFrame'>\n",
            "RangeIndex: 82282 entries, 0 to 82281\n",
            "Data columns (total 7 columns):\n",
            " #   Column                      Non-Null Count  Dtype  \n",
            "---  ------                      --------------  -----  \n",
            " 0   visited                     82282 non-null  int64  \n",
            " 1   adopted_user                82282 non-null  int64  \n",
            " 2   opted_in_to_mailing_list    82282 non-null  int64  \n",
            " 3   enabled_for_marketing_drip  82282 non-null  int64  \n",
            " 4   days                        82282 non-null  float64\n",
            " 5   days_since_creation         82282 non-null  float64\n",
            " 6   duration                    82282 non-null  float64\n",
            "dtypes: float64(3), int64(4)\n",
            "memory usage: 4.4 MB\n"
          ],
          "name": "stdout"
        }
      ]
    },
    {
      "cell_type": "markdown",
      "metadata": {
        "id": "VmJuBFbChQ4K"
      },
      "source": [
        "#**EXPLORATORY DATA ANALYSIS**"
      ]
    },
    {
      "cell_type": "code",
      "metadata": {
        "colab": {
          "base_uri": "https://localhost:8080/",
          "height": 266
        },
        "id": "fJuOFusZ1yNA",
        "outputId": "c9e96140-f190-446a-8453-b2b156b4c487"
      },
      "source": [
        "#Let us print the summary statistic\r\n",
        "df_merge.describe().T"
      ],
      "execution_count": 257,
      "outputs": [
        {
          "output_type": "execute_result",
          "data": {
            "text/html": [
              "<div>\n",
              "<style scoped>\n",
              "    .dataframe tbody tr th:only-of-type {\n",
              "        vertical-align: middle;\n",
              "    }\n",
              "\n",
              "    .dataframe tbody tr th {\n",
              "        vertical-align: top;\n",
              "    }\n",
              "\n",
              "    .dataframe thead th {\n",
              "        text-align: right;\n",
              "    }\n",
              "</style>\n",
              "<table border=\"1\" class=\"dataframe\">\n",
              "  <thead>\n",
              "    <tr style=\"text-align: right;\">\n",
              "      <th></th>\n",
              "      <th>count</th>\n",
              "      <th>mean</th>\n",
              "      <th>std</th>\n",
              "      <th>min</th>\n",
              "      <th>25%</th>\n",
              "      <th>50%</th>\n",
              "      <th>75%</th>\n",
              "      <th>max</th>\n",
              "    </tr>\n",
              "  </thead>\n",
              "  <tbody>\n",
              "    <tr>\n",
              "      <th>visited</th>\n",
              "      <td>82282.0</td>\n",
              "      <td>2.526883</td>\n",
              "      <td>2.167316</td>\n",
              "      <td>0.0</td>\n",
              "      <td>1.0</td>\n",
              "      <td>2.0</td>\n",
              "      <td>4.0</td>\n",
              "      <td>7.0</td>\n",
              "    </tr>\n",
              "    <tr>\n",
              "      <th>adopted_user</th>\n",
              "      <td>82282.0</td>\n",
              "      <td>0.411499</td>\n",
              "      <td>0.492108</td>\n",
              "      <td>0.0</td>\n",
              "      <td>0.0</td>\n",
              "      <td>0.0</td>\n",
              "      <td>1.0</td>\n",
              "      <td>1.0</td>\n",
              "    </tr>\n",
              "    <tr>\n",
              "      <th>opted_in_to_mailing_list</th>\n",
              "      <td>82282.0</td>\n",
              "      <td>0.257529</td>\n",
              "      <td>0.437276</td>\n",
              "      <td>0.0</td>\n",
              "      <td>0.0</td>\n",
              "      <td>0.0</td>\n",
              "      <td>1.0</td>\n",
              "      <td>1.0</td>\n",
              "    </tr>\n",
              "    <tr>\n",
              "      <th>enabled_for_marketing_drip</th>\n",
              "      <td>82282.0</td>\n",
              "      <td>0.157799</td>\n",
              "      <td>0.364554</td>\n",
              "      <td>0.0</td>\n",
              "      <td>0.0</td>\n",
              "      <td>0.0</td>\n",
              "      <td>0.0</td>\n",
              "      <td>1.0</td>\n",
              "    </tr>\n",
              "    <tr>\n",
              "      <th>days</th>\n",
              "      <td>82282.0</td>\n",
              "      <td>287.980676</td>\n",
              "      <td>194.601924</td>\n",
              "      <td>0.0</td>\n",
              "      <td>120.0</td>\n",
              "      <td>262.0</td>\n",
              "      <td>439.0</td>\n",
              "      <td>729.0</td>\n",
              "    </tr>\n",
              "    <tr>\n",
              "      <th>days_since_creation</th>\n",
              "      <td>82282.0</td>\n",
              "      <td>440.993133</td>\n",
              "      <td>194.602371</td>\n",
              "      <td>0.0</td>\n",
              "      <td>290.0</td>\n",
              "      <td>467.0</td>\n",
              "      <td>609.0</td>\n",
              "      <td>729.0</td>\n",
              "    </tr>\n",
              "    <tr>\n",
              "      <th>duration</th>\n",
              "      <td>82282.0</td>\n",
              "      <td>377.997436</td>\n",
              "      <td>230.537222</td>\n",
              "      <td>0.0</td>\n",
              "      <td>183.0</td>\n",
              "      <td>392.0</td>\n",
              "      <td>587.0</td>\n",
              "      <td>729.0</td>\n",
              "    </tr>\n",
              "  </tbody>\n",
              "</table>\n",
              "</div>"
            ],
            "text/plain": [
              "                              count        mean  ...    75%    max\n",
              "visited                     82282.0    2.526883  ...    4.0    7.0\n",
              "adopted_user                82282.0    0.411499  ...    1.0    1.0\n",
              "opted_in_to_mailing_list    82282.0    0.257529  ...    1.0    1.0\n",
              "enabled_for_marketing_drip  82282.0    0.157799  ...    0.0    1.0\n",
              "days                        82282.0  287.980676  ...  439.0  729.0\n",
              "days_since_creation         82282.0  440.993133  ...  609.0  729.0\n",
              "duration                    82282.0  377.997436  ...  587.0  729.0\n",
              "\n",
              "[7 rows x 8 columns]"
            ]
          },
          "metadata": {
            "tags": []
          },
          "execution_count": 257
        }
      ]
    },
    {
      "cell_type": "code",
      "metadata": {
        "colab": {
          "base_uri": "https://localhost:8080/",
          "height": 777
        },
        "id": "4yk6iRlJ1yQJ",
        "outputId": "64e75059-df0e-41ee-a217-dcbe09ec63b9"
      },
      "source": [
        "#Let us print histograms for each numeric features in our data\r\n",
        "df_merge.hist(bins=25, figsize=(20,10))"
      ],
      "execution_count": 258,
      "outputs": [
        {
          "output_type": "execute_result",
          "data": {
            "text/plain": [
              "array([[<matplotlib.axes._subplots.AxesSubplot object at 0x7f0fec0efa20>,\n",
              "        <matplotlib.axes._subplots.AxesSubplot object at 0x7f0fec1210b8>,\n",
              "        <matplotlib.axes._subplots.AxesSubplot object at 0x7f0fed0a6908>],\n",
              "       [<matplotlib.axes._subplots.AxesSubplot object at 0x7f0fec15e470>,\n",
              "        <matplotlib.axes._subplots.AxesSubplot object at 0x7f0ff86b6da0>,\n",
              "        <matplotlib.axes._subplots.AxesSubplot object at 0x7f0ff93cbbe0>],\n",
              "       [<matplotlib.axes._subplots.AxesSubplot object at 0x7f0ffc04c198>,\n",
              "        <matplotlib.axes._subplots.AxesSubplot object at 0x7f0ff87814e0>,\n",
              "        <matplotlib.axes._subplots.AxesSubplot object at 0x7f0ff87817b8>]],\n",
              "      dtype=object)"
            ]
          },
          "metadata": {
            "tags": []
          },
          "execution_count": 258
        },
        {
          "output_type": "display_data",
          "data": {
            "image/png": "[encoded data removed]",
            "text/plain": [
              "<Figure size 1440x720 with 9 Axes>"
            ]
          },
          "metadata": {
            "tags": [],
            "needs_background": "light"
          }
        }
      ]
    },
    {
      "cell_type": "code",
      "metadata": {
        "colab": {
          "base_uri": "https://localhost:8080/",
          "height": 1000
        },
        "id": "BXxsaXGn1yWq",
        "outputId": "fd40b63f-3bb8-40ef-a3f0-26244a0e8d95"
      },
      "source": [
        "pplots=sns.pairplot(df_merge)"
      ],
      "execution_count": 259,
      "outputs": [
        {
          "output_type": "display_data",
          "data": {
            "image/png": "[encoded data removed]",
            "text/plain": [
              "<Figure size 1260x1260 with 56 Axes>"
            ]
          },
          "metadata": {
            "tags": [],
            "needs_background": "light"
          }
        }
      ]
    },
    {
      "cell_type": "code",
      "metadata": {
        "colab": {
          "base_uri": "https://localhost:8080/",
          "height": 187
        },
        "id": "Gu1322zB1yaR",
        "outputId": "e0bc1901-3ff3-4ee3-bc6c-502cbef58207"
      },
      "source": [
        "#Calculate the correlation coefficients\r\n",
        "corr =df_merge.corr(method='pearson')\r\n",
        "#plot it in the next line\r\n",
        "corr.round(2).style.background_gradient(cmap='coolwarm')"
      ],
      "execution_count": 260,
      "outputs": [
        {
          "output_type": "execute_result",
          "data": {
            "text/html": [
              "<style  type=\"text/css\" >\n",
              "#T_7f316e26_5410_11eb_b526_0242ac1c0002row0_col0,#T_7f316e26_5410_11eb_b526_0242ac1c0002row1_col1,#T_7f316e26_5410_11eb_b526_0242ac1c0002row2_col2,#T_7f316e26_5410_11eb_b526_0242ac1c0002row3_col3,#T_7f316e26_5410_11eb_b526_0242ac1c0002row4_col4,#T_7f316e26_5410_11eb_b526_0242ac1c0002row5_col5,#T_7f316e26_5410_11eb_b526_0242ac1c0002row6_col6{\n",
              "            background-color:  #b40426;\n",
              "            color:  #f1f1f1;\n",
              "        }#T_7f316e26_5410_11eb_b526_0242ac1c0002row0_col1{\n",
              "            background-color:  #d85646;\n",
              "            color:  #000000;\n",
              "        }#T_7f316e26_5410_11eb_b526_0242ac1c0002row0_col2,#T_7f316e26_5410_11eb_b526_0242ac1c0002row1_col2,#T_7f316e26_5410_11eb_b526_0242ac1c0002row1_col3,#T_7f316e26_5410_11eb_b526_0242ac1c0002row4_col0,#T_7f316e26_5410_11eb_b526_0242ac1c0002row4_col1,#T_7f316e26_5410_11eb_b526_0242ac1c0002row4_col2,#T_7f316e26_5410_11eb_b526_0242ac1c0002row4_col3,#T_7f316e26_5410_11eb_b526_0242ac1c0002row4_col5,#T_7f316e26_5410_11eb_b526_0242ac1c0002row4_col6,#T_7f316e26_5410_11eb_b526_0242ac1c0002row5_col2,#T_7f316e26_5410_11eb_b526_0242ac1c0002row5_col4,#T_7f316e26_5410_11eb_b526_0242ac1c0002row6_col2{\n",
              "            background-color:  #3b4cc0;\n",
              "            color:  #f1f1f1;\n",
              "        }#T_7f316e26_5410_11eb_b526_0242ac1c0002row0_col3{\n",
              "            background-color:  #3d50c3;\n",
              "            color:  #f1f1f1;\n",
              "        }#T_7f316e26_5410_11eb_b526_0242ac1c0002row0_col4{\n",
              "            background-color:  #a7c5fe;\n",
              "            color:  #000000;\n",
              "        }#T_7f316e26_5410_11eb_b526_0242ac1c0002row0_col5{\n",
              "            background-color:  #f7b599;\n",
              "            color:  #000000;\n",
              "        }#T_7f316e26_5410_11eb_b526_0242ac1c0002row0_col6{\n",
              "            background-color:  #f7a688;\n",
              "            color:  #000000;\n",
              "        }#T_7f316e26_5410_11eb_b526_0242ac1c0002row1_col0{\n",
              "            background-color:  #d75445;\n",
              "            color:  #000000;\n",
              "        }#T_7f316e26_5410_11eb_b526_0242ac1c0002row1_col4{\n",
              "            background-color:  #aec9fc;\n",
              "            color:  #000000;\n",
              "        }#T_7f316e26_5410_11eb_b526_0242ac1c0002row1_col5{\n",
              "            background-color:  #f7bca1;\n",
              "            color:  #000000;\n",
              "        }#T_7f316e26_5410_11eb_b526_0242ac1c0002row1_col6{\n",
              "            background-color:  #f7ac8e;\n",
              "            color:  #000000;\n",
              "        }#T_7f316e26_5410_11eb_b526_0242ac1c0002row2_col0{\n",
              "            background-color:  #90b2fe;\n",
              "            color:  #000000;\n",
              "        }#T_7f316e26_5410_11eb_b526_0242ac1c0002row2_col1{\n",
              "            background-color:  #88abfd;\n",
              "            color:  #000000;\n",
              "        }#T_7f316e26_5410_11eb_b526_0242ac1c0002row2_col3,#T_7f316e26_5410_11eb_b526_0242ac1c0002row3_col5{\n",
              "            background-color:  #dfdbd9;\n",
              "            color:  #000000;\n",
              "        }#T_7f316e26_5410_11eb_b526_0242ac1c0002row2_col4,#T_7f316e26_5410_11eb_b526_0242ac1c0002row2_col5,#T_7f316e26_5410_11eb_b526_0242ac1c0002row3_col2{\n",
              "            background-color:  #dddcdc;\n",
              "            color:  #000000;\n",
              "        }#T_7f316e26_5410_11eb_b526_0242ac1c0002row2_col6{\n",
              "            background-color:  #cbd8ee;\n",
              "            color:  #000000;\n",
              "        }#T_7f316e26_5410_11eb_b526_0242ac1c0002row3_col0{\n",
              "            background-color:  #8db0fe;\n",
              "            color:  #000000;\n",
              "        }#T_7f316e26_5410_11eb_b526_0242ac1c0002row3_col1{\n",
              "            background-color:  #82a6fb;\n",
              "            color:  #000000;\n",
              "        }#T_7f316e26_5410_11eb_b526_0242ac1c0002row3_col4{\n",
              "            background-color:  #dadce0;\n",
              "            color:  #000000;\n",
              "        }#T_7f316e26_5410_11eb_b526_0242ac1c0002row3_col6{\n",
              "            background-color:  #cedaeb;\n",
              "            color:  #000000;\n",
              "        }#T_7f316e26_5410_11eb_b526_0242ac1c0002row5_col0{\n",
              "            background-color:  #e1dad6;\n",
              "            color:  #000000;\n",
              "        }#T_7f316e26_5410_11eb_b526_0242ac1c0002row5_col1{\n",
              "            background-color:  #d6dce4;\n",
              "            color:  #000000;\n",
              "        }#T_7f316e26_5410_11eb_b526_0242ac1c0002row5_col3,#T_7f316e26_5410_11eb_b526_0242ac1c0002row6_col3{\n",
              "            background-color:  #465ecf;\n",
              "            color:  #f1f1f1;\n",
              "        }#T_7f316e26_5410_11eb_b526_0242ac1c0002row5_col6{\n",
              "            background-color:  #df634e;\n",
              "            color:  #000000;\n",
              "        }#T_7f316e26_5410_11eb_b526_0242ac1c0002row6_col0{\n",
              "            background-color:  #f5c2aa;\n",
              "            color:  #000000;\n",
              "        }#T_7f316e26_5410_11eb_b526_0242ac1c0002row6_col1{\n",
              "            background-color:  #f1ccb8;\n",
              "            color:  #000000;\n",
              "        }#T_7f316e26_5410_11eb_b526_0242ac1c0002row6_col4{\n",
              "            background-color:  #5e7de7;\n",
              "            color:  #000000;\n",
              "        }#T_7f316e26_5410_11eb_b526_0242ac1c0002row6_col5{\n",
              "            background-color:  #da5a49;\n",
              "            color:  #000000;\n",
              "        }</style><table id=\"T_7f316e26_5410_11eb_b526_0242ac1c0002\" ><thead>    <tr>        <th class=\"blank level0\" ></th>        <th class=\"col_heading level0 col0\" >visited</th>        <th class=\"col_heading level0 col1\" >adopted_user</th>        <th class=\"col_heading level0 col2\" >opted_in_to_mailing_list</th>        <th class=\"col_heading level0 col3\" >enabled_for_marketing_drip</th>        <th class=\"col_heading level0 col4\" >days</th>        <th class=\"col_heading level0 col5\" >days_since_creation</th>        <th class=\"col_heading level0 col6\" >duration</th>    </tr></thead><tbody>\n",
              "                <tr>\n",
              "                        <th id=\"T_7f316e26_5410_11eb_b526_0242ac1c0002level0_row0\" class=\"row_heading level0 row0\" >visited</th>\n",
              "                        <td id=\"T_7f316e26_5410_11eb_b526_0242ac1c0002row0_col0\" class=\"data row0 col0\" >1.000000</td>\n",
              "                        <td id=\"T_7f316e26_5410_11eb_b526_0242ac1c0002row0_col1\" class=\"data row0 col1\" >0.860000</td>\n",
              "                        <td id=\"T_7f316e26_5410_11eb_b526_0242ac1c0002row0_col2\" class=\"data row0 col2\" >0.000000</td>\n",
              "                        <td id=\"T_7f316e26_5410_11eb_b526_0242ac1c0002row0_col3\" class=\"data row0 col3\" >-0.010000</td>\n",
              "                        <td id=\"T_7f316e26_5410_11eb_b526_0242ac1c0002row0_col4\" class=\"data row0 col4\" >-0.350000</td>\n",
              "                        <td id=\"T_7f316e26_5410_11eb_b526_0242ac1c0002row0_col5\" class=\"data row0 col5\" >0.350000</td>\n",
              "                        <td id=\"T_7f316e26_5410_11eb_b526_0242ac1c0002row0_col6\" class=\"data row0 col6\" >0.500000</td>\n",
              "            </tr>\n",
              "            <tr>\n",
              "                        <th id=\"T_7f316e26_5410_11eb_b526_0242ac1c0002level0_row1\" class=\"row_heading level0 row1\" >adopted_user</th>\n",
              "                        <td id=\"T_7f316e26_5410_11eb_b526_0242ac1c0002row1_col0\" class=\"data row1 col0\" >0.860000</td>\n",
              "                        <td id=\"T_7f316e26_5410_11eb_b526_0242ac1c0002row1_col1\" class=\"data row1 col1\" >1.000000</td>\n",
              "                        <td id=\"T_7f316e26_5410_11eb_b526_0242ac1c0002row1_col2\" class=\"data row1 col2\" >0.000000</td>\n",
              "                        <td id=\"T_7f316e26_5410_11eb_b526_0242ac1c0002row1_col3\" class=\"data row1 col3\" >-0.020000</td>\n",
              "                        <td id=\"T_7f316e26_5410_11eb_b526_0242ac1c0002row1_col4\" class=\"data row1 col4\" >-0.310000</td>\n",
              "                        <td id=\"T_7f316e26_5410_11eb_b526_0242ac1c0002row1_col5\" class=\"data row1 col5\" >0.310000</td>\n",
              "                        <td id=\"T_7f316e26_5410_11eb_b526_0242ac1c0002row1_col6\" class=\"data row1 col6\" >0.470000</td>\n",
              "            </tr>\n",
              "            <tr>\n",
              "                        <th id=\"T_7f316e26_5410_11eb_b526_0242ac1c0002level0_row2\" class=\"row_heading level0 row2\" >opted_in_to_mailing_list</th>\n",
              "                        <td id=\"T_7f316e26_5410_11eb_b526_0242ac1c0002row2_col0\" class=\"data row2 col0\" >0.000000</td>\n",
              "                        <td id=\"T_7f316e26_5410_11eb_b526_0242ac1c0002row2_col1\" class=\"data row2 col1\" >0.000000</td>\n",
              "                        <td id=\"T_7f316e26_5410_11eb_b526_0242ac1c0002row2_col2\" class=\"data row2 col2\" >1.000000</td>\n",
              "                        <td id=\"T_7f316e26_5410_11eb_b526_0242ac1c0002row2_col3\" class=\"data row2 col3\" >0.500000</td>\n",
              "                        <td id=\"T_7f316e26_5410_11eb_b526_0242ac1c0002row2_col4\" class=\"data row2 col4\" >0.000000</td>\n",
              "                        <td id=\"T_7f316e26_5410_11eb_b526_0242ac1c0002row2_col5\" class=\"data row2 col5\" >-0.000000</td>\n",
              "                        <td id=\"T_7f316e26_5410_11eb_b526_0242ac1c0002row2_col6\" class=\"data row2 col6\" >-0.000000</td>\n",
              "            </tr>\n",
              "            <tr>\n",
              "                        <th id=\"T_7f316e26_5410_11eb_b526_0242ac1c0002level0_row3\" class=\"row_heading level0 row3\" >enabled_for_marketing_drip</th>\n",
              "                        <td id=\"T_7f316e26_5410_11eb_b526_0242ac1c0002row3_col0\" class=\"data row3 col0\" >-0.010000</td>\n",
              "                        <td id=\"T_7f316e26_5410_11eb_b526_0242ac1c0002row3_col1\" class=\"data row3 col1\" >-0.020000</td>\n",
              "                        <td id=\"T_7f316e26_5410_11eb_b526_0242ac1c0002row3_col2\" class=\"data row3 col2\" >0.500000</td>\n",
              "                        <td id=\"T_7f316e26_5410_11eb_b526_0242ac1c0002row3_col3\" class=\"data row3 col3\" >1.000000</td>\n",
              "                        <td id=\"T_7f316e26_5410_11eb_b526_0242ac1c0002row3_col4\" class=\"data row3 col4\" >-0.020000</td>\n",
              "                        <td id=\"T_7f316e26_5410_11eb_b526_0242ac1c0002row3_col5\" class=\"data row3 col5\" >0.020000</td>\n",
              "                        <td id=\"T_7f316e26_5410_11eb_b526_0242ac1c0002row3_col6\" class=\"data row3 col6\" >0.020000</td>\n",
              "            </tr>\n",
              "            <tr>\n",
              "                        <th id=\"T_7f316e26_5410_11eb_b526_0242ac1c0002level0_row4\" class=\"row_heading level0 row4\" >days</th>\n",
              "                        <td id=\"T_7f316e26_5410_11eb_b526_0242ac1c0002row4_col0\" class=\"data row4 col0\" >-0.350000</td>\n",
              "                        <td id=\"T_7f316e26_5410_11eb_b526_0242ac1c0002row4_col1\" class=\"data row4 col1\" >-0.310000</td>\n",
              "                        <td id=\"T_7f316e26_5410_11eb_b526_0242ac1c0002row4_col2\" class=\"data row4 col2\" >0.000000</td>\n",
              "                        <td id=\"T_7f316e26_5410_11eb_b526_0242ac1c0002row4_col3\" class=\"data row4 col3\" >-0.020000</td>\n",
              "                        <td id=\"T_7f316e26_5410_11eb_b526_0242ac1c0002row4_col4\" class=\"data row4 col4\" >1.000000</td>\n",
              "                        <td id=\"T_7f316e26_5410_11eb_b526_0242ac1c0002row4_col5\" class=\"data row4 col5\" >-1.000000</td>\n",
              "                        <td id=\"T_7f316e26_5410_11eb_b526_0242ac1c0002row4_col6\" class=\"data row4 col6\" >-0.770000</td>\n",
              "            </tr>\n",
              "            <tr>\n",
              "                        <th id=\"T_7f316e26_5410_11eb_b526_0242ac1c0002level0_row5\" class=\"row_heading level0 row5\" >days_since_creation</th>\n",
              "                        <td id=\"T_7f316e26_5410_11eb_b526_0242ac1c0002row5_col0\" class=\"data row5 col0\" >0.350000</td>\n",
              "                        <td id=\"T_7f316e26_5410_11eb_b526_0242ac1c0002row5_col1\" class=\"data row5 col1\" >0.310000</td>\n",
              "                        <td id=\"T_7f316e26_5410_11eb_b526_0242ac1c0002row5_col2\" class=\"data row5 col2\" >-0.000000</td>\n",
              "                        <td id=\"T_7f316e26_5410_11eb_b526_0242ac1c0002row5_col3\" class=\"data row5 col3\" >0.020000</td>\n",
              "                        <td id=\"T_7f316e26_5410_11eb_b526_0242ac1c0002row5_col4\" class=\"data row5 col4\" >-1.000000</td>\n",
              "                        <td id=\"T_7f316e26_5410_11eb_b526_0242ac1c0002row5_col5\" class=\"data row5 col5\" >1.000000</td>\n",
              "                        <td id=\"T_7f316e26_5410_11eb_b526_0242ac1c0002row5_col6\" class=\"data row5 col6\" >0.770000</td>\n",
              "            </tr>\n",
              "            <tr>\n",
              "                        <th id=\"T_7f316e26_5410_11eb_b526_0242ac1c0002level0_row6\" class=\"row_heading level0 row6\" >duration</th>\n",
              "                        <td id=\"T_7f316e26_5410_11eb_b526_0242ac1c0002row6_col0\" class=\"data row6 col0\" >0.500000</td>\n",
              "                        <td id=\"T_7f316e26_5410_11eb_b526_0242ac1c0002row6_col1\" class=\"data row6 col1\" >0.470000</td>\n",
              "                        <td id=\"T_7f316e26_5410_11eb_b526_0242ac1c0002row6_col2\" class=\"data row6 col2\" >-0.000000</td>\n",
              "                        <td id=\"T_7f316e26_5410_11eb_b526_0242ac1c0002row6_col3\" class=\"data row6 col3\" >0.020000</td>\n",
              "                        <td id=\"T_7f316e26_5410_11eb_b526_0242ac1c0002row6_col4\" class=\"data row6 col4\" >-0.770000</td>\n",
              "                        <td id=\"T_7f316e26_5410_11eb_b526_0242ac1c0002row6_col5\" class=\"data row6 col5\" >0.770000</td>\n",
              "                        <td id=\"T_7f316e26_5410_11eb_b526_0242ac1c0002row6_col6\" class=\"data row6 col6\" >1.000000</td>\n",
              "            </tr>\n",
              "    </tbody></table>"
            ],
            "text/plain": [
              "<pandas.io.formats.style.Styler at 0x7f0fec36f550>"
            ]
          },
          "metadata": {
            "tags": []
          },
          "execution_count": 260
        }
      ]
    },
    {
      "cell_type": "code",
      "metadata": {
        "colab": {
          "base_uri": "https://localhost:8080/",
          "height": 204
        },
        "id": "v4q_Mhoca3Sq",
        "outputId": "ba8a0dab-758d-448b-dee2-6cf888a55771"
      },
      "source": [
        "#'days' and 'days_since_creation' are correlated. There is no point of using both in our model. Let us drop 'days'.\r\n",
        "df_merge=df_merge.drop(columns='days', axis=1)\r\n",
        "df_merge.head()"
      ],
      "execution_count": 261,
      "outputs": [
        {
          "output_type": "execute_result",
          "data": {
            "text/html": [
              "<div>\n",
              "<style scoped>\n",
              "    .dataframe tbody tr th:only-of-type {\n",
              "        vertical-align: middle;\n",
              "    }\n",
              "\n",
              "    .dataframe tbody tr th {\n",
              "        vertical-align: top;\n",
              "    }\n",
              "\n",
              "    .dataframe thead th {\n",
              "        text-align: right;\n",
              "    }\n",
              "</style>\n",
              "<table border=\"1\" class=\"dataframe\">\n",
              "  <thead>\n",
              "    <tr style=\"text-align: right;\">\n",
              "      <th></th>\n",
              "      <th>visited</th>\n",
              "      <th>adopted_user</th>\n",
              "      <th>opted_in_to_mailing_list</th>\n",
              "      <th>enabled_for_marketing_drip</th>\n",
              "      <th>days_since_creation</th>\n",
              "      <th>duration</th>\n",
              "    </tr>\n",
              "  </thead>\n",
              "  <tbody>\n",
              "    <tr>\n",
              "      <th>0</th>\n",
              "      <td>1</td>\n",
              "      <td>0</td>\n",
              "      <td>0</td>\n",
              "      <td>0</td>\n",
              "      <td>729.0</td>\n",
              "      <td>3.0</td>\n",
              "    </tr>\n",
              "    <tr>\n",
              "      <th>1</th>\n",
              "      <td>1</td>\n",
              "      <td>0</td>\n",
              "      <td>0</td>\n",
              "      <td>0</td>\n",
              "      <td>729.0</td>\n",
              "      <td>1.0</td>\n",
              "    </tr>\n",
              "    <tr>\n",
              "      <th>2</th>\n",
              "      <td>1</td>\n",
              "      <td>0</td>\n",
              "      <td>0</td>\n",
              "      <td>0</td>\n",
              "      <td>729.0</td>\n",
              "      <td>81.0</td>\n",
              "    </tr>\n",
              "    <tr>\n",
              "      <th>3</th>\n",
              "      <td>0</td>\n",
              "      <td>0</td>\n",
              "      <td>0</td>\n",
              "      <td>0</td>\n",
              "      <td>729.0</td>\n",
              "      <td>81.0</td>\n",
              "    </tr>\n",
              "    <tr>\n",
              "      <th>4</th>\n",
              "      <td>0</td>\n",
              "      <td>0</td>\n",
              "      <td>0</td>\n",
              "      <td>0</td>\n",
              "      <td>729.0</td>\n",
              "      <td>81.0</td>\n",
              "    </tr>\n",
              "  </tbody>\n",
              "</table>\n",
              "</div>"
            ],
            "text/plain": [
              "   visited  adopted_user  ...  days_since_creation  duration\n",
              "0        1             0  ...                729.0       3.0\n",
              "1        1             0  ...                729.0       1.0\n",
              "2        1             0  ...                729.0      81.0\n",
              "3        0             0  ...                729.0      81.0\n",
              "4        0             0  ...                729.0      81.0\n",
              "\n",
              "[5 rows x 6 columns]"
            ]
          },
          "metadata": {
            "tags": []
          },
          "execution_count": 261
        }
      ]
    },
    {
      "cell_type": "markdown",
      "metadata": {
        "id": "1zuD21BXrScb"
      },
      "source": [
        "# **Pre-Processing and Training Data Development**"
      ]
    },
    {
      "cell_type": "code",
      "metadata": {
        "colab": {
          "base_uri": "https://localhost:8080/"
        },
        "id": "l9sCaXmcrG3z",
        "outputId": "b3566853-a098-4a88-8c9c-d11cfc46451a"
      },
      "source": [
        "# X is our prodictor variable\r\n",
        "X=df_merge.drop(['adopted_user'], axis=1)\r\n",
        "X.info()"
      ],
      "execution_count": 262,
      "outputs": [
        {
          "output_type": "stream",
          "text": [
            "<class 'pandas.core.frame.DataFrame'>\n",
            "RangeIndex: 82282 entries, 0 to 82281\n",
            "Data columns (total 5 columns):\n",
            " #   Column                      Non-Null Count  Dtype  \n",
            "---  ------                      --------------  -----  \n",
            " 0   visited                     82282 non-null  int64  \n",
            " 1   opted_in_to_mailing_list    82282 non-null  int64  \n",
            " 2   enabled_for_marketing_drip  82282 non-null  int64  \n",
            " 3   days_since_creation         82282 non-null  float64\n",
            " 4   duration                    82282 non-null  float64\n",
            "dtypes: float64(2), int64(3)\n",
            "memory usage: 3.1 MB\n"
          ],
          "name": "stdout"
        }
      ]
    },
    {
      "cell_type": "code",
      "metadata": {
        "id": "tBoer6cUrHBY"
      },
      "source": [
        "# y is our target variable which is the 'adopted_user' column\r\n",
        "y=df_merge['adopted_user']"
      ],
      "execution_count": 263,
      "outputs": []
    },
    {
      "cell_type": "code",
      "metadata": {
        "id": "pFsxO7FO5QlP"
      },
      "source": [
        "#Let us flatenned our variable y by calling the ravel() function on y\r\n",
        "y=y.ravel()"
      ],
      "execution_count": 264,
      "outputs": []
    },
    {
      "cell_type": "code",
      "metadata": {
        "id": "Q-TxGVFTzIaD"
      },
      "source": [
        "from sklearn import preprocessing\r\n",
        "from sklearn.model_selection import train_test_split"
      ],
      "execution_count": 265,
      "outputs": []
    },
    {
      "cell_type": "code",
      "metadata": {
        "id": "cmdtI_oWrHF5"
      },
      "source": [
        "# we use the StandardScaler() method of the preprocessing package\r\n",
        "# and call the fit() mehtod with X as parameter.\r\n",
        "scaler = preprocessing.StandardScaler().fit(X)"
      ],
      "execution_count": 266,
      "outputs": []
    },
    {
      "cell_type": "code",
      "metadata": {
        "id": "Q8yrr3O7rHK8"
      },
      "source": [
        "# We declare a variable called X_scaled \r\n",
        "X_scaled=scaler.transform(X)"
      ],
      "execution_count": 267,
      "outputs": []
    },
    {
      "cell_type": "code",
      "metadata": {
        "id": "OGYdmSPxrHOl"
      },
      "source": [
        "#Let us split our data into training and testing\r\n",
        "X_train, X_test, y_train, y_test=train_test_split(X_scaled,y, test_size=0.2, random_state=1, stratify=y)"
      ],
      "execution_count": 268,
      "outputs": []
    },
    {
      "cell_type": "markdown",
      "metadata": {
        "id": "R-cFeUmB53HW"
      },
      "source": [
        "#**MODELING**"
      ]
    },
    {
      "cell_type": "code",
      "metadata": {
        "colab": {
          "base_uri": "https://localhost:8080/"
        },
        "id": "yzHnPdS61yjJ",
        "outputId": "1febae7e-aeff-43b2-8550-423394e0ee51"
      },
      "source": [
        "#We will use sklearn logistic regression to fit the model on our training data\r\n",
        "cls=LogisticRegression()\r\n",
        "cls.fit(X_train,y_train)"
      ],
      "execution_count": 269,
      "outputs": [
        {
          "output_type": "execute_result",
          "data": {
            "text/plain": [
              "LogisticRegression(C=1.0, class_weight=None, dual=False, fit_intercept=True,\n",
              "                   intercept_scaling=1, l1_ratio=None, max_iter=100,\n",
              "                   multi_class='auto', n_jobs=None, penalty='l2',\n",
              "                   random_state=None, solver='lbfgs', tol=0.0001, verbose=0,\n",
              "                   warm_start=False)"
            ]
          },
          "metadata": {
            "tags": []
          },
          "execution_count": 269
        }
      ]
    },
    {
      "cell_type": "code",
      "metadata": {
        "colab": {
          "base_uri": "https://localhost:8080/",
          "height": 738
        },
        "id": "vQdl3dOg58Fs",
        "outputId": "3da81e58-5c56-4593-9ab3-9c68fcd24fbb"
      },
      "source": [
        "#Let us plot the coeficient of our model\r\n",
        "X_train_pd=pd.DataFrame(data=X_train, index=None, columns=['visited',\t'last_session_creation_time',\t'opted_in_to_mailing_list',\t'enabled_for_marketing_drip',\t'days_since_creation'])\r\n",
        "coefs=pd.Series(cls.coef_[0], index=X_train_pd.columns)\r\n",
        "plt.figure(figsize=(20,10))\r\n",
        "coefs.plot(kind='bar')"
      ],
      "execution_count": 270,
      "outputs": [
        {
          "output_type": "execute_result",
          "data": {
            "text/plain": [
              "<matplotlib.axes._subplots.AxesSubplot at 0x7f0fed3a80b8>"
            ]
          },
          "metadata": {
            "tags": []
          },
          "execution_count": 270
        },
        {
          "output_type": "display_data",
          "data": {
            "image/png": "[encoded data removed]",
            "text/plain": [
              "<Figure size 1440x720 with 1 Axes>"
            ]
          },
          "metadata": {
            "tags": [],
            "needs_background": "light"
          }
        }
      ]
    },
    {
      "cell_type": "code",
      "metadata": {
        "id": "NUHOUmKY76io"
      },
      "source": [
        ""
      ],
      "execution_count": null,
      "outputs": []
    },
    {
      "cell_type": "markdown",
      "metadata": {
        "id": "GpTlYswN883s"
      },
      "source": [
        "##**The plot of coefficient shows us that the column 'visited' is the major factor predicting 'adopted_user' values.**"
      ]
    },
    {
      "cell_type": "code",
      "metadata": {
        "colab": {
          "base_uri": "https://localhost:8080/"
        },
        "id": "IemuInXN7Syr",
        "outputId": "10a45196-9814-41c6-d148-7ad72d0ec98c"
      },
      "source": [
        "#Let us see the coefficient\r\n",
        "#coef=coefs.sort_values(by=['Coefficient'],ascending=False)\r\n",
        "coefs"
      ],
      "execution_count": 271,
      "outputs": [
        {
          "output_type": "execute_result",
          "data": {
            "text/plain": [
              "visited                       22.294337\n",
              "last_session_creation_time    -0.003195\n",
              "opted_in_to_mailing_list      -0.017951\n",
              "enabled_for_marketing_drip    -0.151777\n",
              "days_since_creation            0.317804\n",
              "dtype: float64"
            ]
          },
          "metadata": {
            "tags": []
          },
          "execution_count": 271
        }
      ]
    },
    {
      "cell_type": "markdown",
      "metadata": {
        "id": "CaoIhqgOAxB6"
      },
      "source": [
        "## **Almost all the other predictors are almost negligeable compare to the predictor 'visited' since their coefficient is almost zero but 22.29 for the 'visited' factor.**"
      ]
    },
    {
      "cell_type": "code",
      "metadata": {
        "id": "YHh-qFOrXSVi"
      },
      "source": [
        ""
      ],
      "execution_count": null,
      "outputs": []
    }
  ]
}