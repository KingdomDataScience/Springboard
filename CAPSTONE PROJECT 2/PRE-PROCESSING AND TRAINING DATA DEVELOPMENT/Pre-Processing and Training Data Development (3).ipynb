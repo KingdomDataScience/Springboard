{
 "cells": [
  {
   "cell_type": "markdown",
   "metadata": {},
   "source": [
    "# Capstone II: Pre_processing and Training Data Development"
   ]
  },
  {
   "cell_type": "markdown",
   "metadata": {},
   "source": [
    "**The different steps we will take are:**"
   ]
  },
  {
   "cell_type": "markdown",
   "metadata": {},
   "source": [
    "* Standardize the magnitude of numeric features\n",
    "* Split into testing and training datasets\n",
    "* Apply scaler to the testing set"
   ]
  },
  {
   "cell_type": "markdown",
   "metadata": {},
   "source": [
    "We will start by loading the necessary packages "
   ]
  },
  {
   "cell_type": "code",
   "execution_count": 122,
   "metadata": {},
   "outputs": [],
   "source": [
    "import os\n",
    "import pandas as pd\n",
    "import datetime\n",
    "import seaborn as sns\n",
    "import matplotlib.pyplot as plt\n",
    "import numpy as np\n",
    "%matplotlib inline\n",
    "from sklearn import preprocessing\n",
    "from sklearn.linear_model import LogisticRegression\n",
    "import sklearn.metrics as metrics\n",
    "from sklearn.model_selection import cross_val_score, GridSearchCV"
   ]
  },
  {
   "cell_type": "markdown",
   "metadata": {},
   "source": [
    "We need to know what is our curent working directory."
   ]
  },
  {
   "cell_type": "code",
   "execution_count": 28,
   "metadata": {},
   "outputs": [
    {
     "data": {
      "text/plain": [
       "'C:\\\\Users\\\\meteu\\\\Desktop\\\\SPRINGBOARD\\\\PROJECT 2\\\\data'"
      ]
     },
     "execution_count": 28,
     "metadata": {},
     "output_type": "execute_result"
    }
   ],
   "source": [
    "os.getcwd()"
   ]
  },
  {
   "cell_type": "code",
   "execution_count": 29,
   "metadata": {},
   "outputs": [
    {
     "name": "stdout",
     "output_type": "stream",
     "text": [
      "None\n"
     ]
    }
   ],
   "source": [
    "path=\"C:/Users/meteu/Desktop/SPRINGBOARD/PROJECT 2/data\"\n",
    "print(os.chdir(path))"
   ]
  },
  {
   "cell_type": "code",
   "execution_count": 30,
   "metadata": {},
   "outputs": [
    {
     "name": "stdout",
     "output_type": "stream",
     "text": [
      " Volume in drive C is Windows\n",
      " Volume Serial Number is 603D-12C6\n",
      "\n",
      " Directory of C:\\Users\\meteu\\Desktop\\SPRINGBOARD\\PROJECT 2\\data\n",
      "\n",
      "07/03/2020  10:34 AM    <DIR>          .\n",
      "07/03/2020  10:34 AM    <DIR>          ..\n",
      "07/03/2020  09:05 AM            89,556 BMI.PNG\n",
      "06/30/2020  07:50 PM           125,900 chart.PNG\n",
      "06/27/2020  11:24 AM         3,420,416 clean_data.csv\n",
      "07/06/2020  08:49 PM         4,040,522 ready_data.csv\n",
      "               4 File(s)      7,676,394 bytes\n",
      "               2 Dir(s)  347,228,979,200 bytes free\n"
     ]
    }
   ],
   "source": [
    "!dir"
   ]
  },
  {
   "cell_type": "markdown",
   "metadata": {},
   "source": [
    "Let us now load the data we created at the end of EDA."
   ]
  },
  {
   "cell_type": "code",
   "execution_count": 31,
   "metadata": {},
   "outputs": [
    {
     "data": {
      "text/html": [
       "<div>\n",
       "<style scoped>\n",
       "    .dataframe tbody tr th:only-of-type {\n",
       "        vertical-align: middle;\n",
       "    }\n",
       "\n",
       "    .dataframe tbody tr th {\n",
       "        vertical-align: top;\n",
       "    }\n",
       "\n",
       "    .dataframe thead th {\n",
       "        text-align: right;\n",
       "    }\n",
       "</style>\n",
       "<table border=\"1\" class=\"dataframe\">\n",
       "  <thead>\n",
       "    <tr style=\"text-align: right;\">\n",
       "      <th></th>\n",
       "      <th>Unnamed: 0</th>\n",
       "      <th>age</th>\n",
       "      <th>gender</th>\n",
       "      <th>height</th>\n",
       "      <th>weight</th>\n",
       "      <th>ap_hi</th>\n",
       "      <th>ap_lo</th>\n",
       "      <th>cholesterol</th>\n",
       "      <th>gluc</th>\n",
       "      <th>smoke</th>\n",
       "      <th>alco</th>\n",
       "      <th>active</th>\n",
       "      <th>cardio</th>\n",
       "      <th>BMI</th>\n",
       "    </tr>\n",
       "  </thead>\n",
       "  <tbody>\n",
       "    <tr>\n",
       "      <th>0</th>\n",
       "      <td>0</td>\n",
       "      <td>18393</td>\n",
       "      <td>2</td>\n",
       "      <td>168</td>\n",
       "      <td>62.0</td>\n",
       "      <td>110</td>\n",
       "      <td>80</td>\n",
       "      <td>1</td>\n",
       "      <td>1</td>\n",
       "      <td>0</td>\n",
       "      <td>0</td>\n",
       "      <td>1</td>\n",
       "      <td>0</td>\n",
       "      <td>21.967120</td>\n",
       "    </tr>\n",
       "    <tr>\n",
       "      <th>1</th>\n",
       "      <td>1</td>\n",
       "      <td>20228</td>\n",
       "      <td>1</td>\n",
       "      <td>156</td>\n",
       "      <td>85.0</td>\n",
       "      <td>140</td>\n",
       "      <td>90</td>\n",
       "      <td>3</td>\n",
       "      <td>1</td>\n",
       "      <td>0</td>\n",
       "      <td>0</td>\n",
       "      <td>1</td>\n",
       "      <td>1</td>\n",
       "      <td>34.927679</td>\n",
       "    </tr>\n",
       "    <tr>\n",
       "      <th>2</th>\n",
       "      <td>2</td>\n",
       "      <td>18857</td>\n",
       "      <td>1</td>\n",
       "      <td>165</td>\n",
       "      <td>64.0</td>\n",
       "      <td>130</td>\n",
       "      <td>70</td>\n",
       "      <td>3</td>\n",
       "      <td>1</td>\n",
       "      <td>0</td>\n",
       "      <td>0</td>\n",
       "      <td>0</td>\n",
       "      <td>1</td>\n",
       "      <td>23.507805</td>\n",
       "    </tr>\n",
       "    <tr>\n",
       "      <th>3</th>\n",
       "      <td>3</td>\n",
       "      <td>17623</td>\n",
       "      <td>2</td>\n",
       "      <td>169</td>\n",
       "      <td>82.0</td>\n",
       "      <td>150</td>\n",
       "      <td>100</td>\n",
       "      <td>1</td>\n",
       "      <td>1</td>\n",
       "      <td>0</td>\n",
       "      <td>0</td>\n",
       "      <td>1</td>\n",
       "      <td>1</td>\n",
       "      <td>28.710479</td>\n",
       "    </tr>\n",
       "    <tr>\n",
       "      <th>4</th>\n",
       "      <td>4</td>\n",
       "      <td>17474</td>\n",
       "      <td>1</td>\n",
       "      <td>156</td>\n",
       "      <td>56.0</td>\n",
       "      <td>100</td>\n",
       "      <td>60</td>\n",
       "      <td>1</td>\n",
       "      <td>1</td>\n",
       "      <td>0</td>\n",
       "      <td>0</td>\n",
       "      <td>0</td>\n",
       "      <td>0</td>\n",
       "      <td>23.011177</td>\n",
       "    </tr>\n",
       "  </tbody>\n",
       "</table>\n",
       "</div>"
      ],
      "text/plain": [
       "   Unnamed: 0    age  gender  height  weight  ap_hi  ap_lo  cholesterol  gluc  \\\n",
       "0           0  18393       2     168    62.0    110     80            1     1   \n",
       "1           1  20228       1     156    85.0    140     90            3     1   \n",
       "2           2  18857       1     165    64.0    130     70            3     1   \n",
       "3           3  17623       2     169    82.0    150    100            1     1   \n",
       "4           4  17474       1     156    56.0    100     60            1     1   \n",
       "\n",
       "   smoke  alco  active  cardio        BMI  \n",
       "0      0     0       1       0  21.967120  \n",
       "1      0     0       1       1  34.927679  \n",
       "2      0     0       0       1  23.507805  \n",
       "3      0     0       1       1  28.710479  \n",
       "4      0     0       0       0  23.011177  "
      ]
     },
     "execution_count": 31,
     "metadata": {},
     "output_type": "execute_result"
    }
   ],
   "source": [
    "df=pd.read_csv('ready_data.csv')\n",
    "df.head()"
   ]
  },
  {
   "cell_type": "code",
   "execution_count": 32,
   "metadata": {},
   "outputs": [
    {
     "data": {
      "text/html": [
       "<div>\n",
       "<style scoped>\n",
       "    .dataframe tbody tr th:only-of-type {\n",
       "        vertical-align: middle;\n",
       "    }\n",
       "\n",
       "    .dataframe tbody tr th {\n",
       "        vertical-align: top;\n",
       "    }\n",
       "\n",
       "    .dataframe thead th {\n",
       "        text-align: right;\n",
       "    }\n",
       "</style>\n",
       "<table border=\"1\" class=\"dataframe\">\n",
       "  <thead>\n",
       "    <tr style=\"text-align: right;\">\n",
       "      <th></th>\n",
       "      <th>age</th>\n",
       "      <th>gender</th>\n",
       "      <th>height</th>\n",
       "      <th>weight</th>\n",
       "      <th>ap_hi</th>\n",
       "      <th>ap_lo</th>\n",
       "      <th>cholesterol</th>\n",
       "      <th>gluc</th>\n",
       "      <th>smoke</th>\n",
       "      <th>alco</th>\n",
       "      <th>active</th>\n",
       "      <th>cardio</th>\n",
       "      <th>BMI</th>\n",
       "    </tr>\n",
       "  </thead>\n",
       "  <tbody>\n",
       "    <tr>\n",
       "      <th>0</th>\n",
       "      <td>18393</td>\n",
       "      <td>2</td>\n",
       "      <td>168</td>\n",
       "      <td>62.0</td>\n",
       "      <td>110</td>\n",
       "      <td>80</td>\n",
       "      <td>1</td>\n",
       "      <td>1</td>\n",
       "      <td>0</td>\n",
       "      <td>0</td>\n",
       "      <td>1</td>\n",
       "      <td>0</td>\n",
       "      <td>21.967120</td>\n",
       "    </tr>\n",
       "    <tr>\n",
       "      <th>1</th>\n",
       "      <td>20228</td>\n",
       "      <td>1</td>\n",
       "      <td>156</td>\n",
       "      <td>85.0</td>\n",
       "      <td>140</td>\n",
       "      <td>90</td>\n",
       "      <td>3</td>\n",
       "      <td>1</td>\n",
       "      <td>0</td>\n",
       "      <td>0</td>\n",
       "      <td>1</td>\n",
       "      <td>1</td>\n",
       "      <td>34.927679</td>\n",
       "    </tr>\n",
       "    <tr>\n",
       "      <th>2</th>\n",
       "      <td>18857</td>\n",
       "      <td>1</td>\n",
       "      <td>165</td>\n",
       "      <td>64.0</td>\n",
       "      <td>130</td>\n",
       "      <td>70</td>\n",
       "      <td>3</td>\n",
       "      <td>1</td>\n",
       "      <td>0</td>\n",
       "      <td>0</td>\n",
       "      <td>0</td>\n",
       "      <td>1</td>\n",
       "      <td>23.507805</td>\n",
       "    </tr>\n",
       "    <tr>\n",
       "      <th>3</th>\n",
       "      <td>17623</td>\n",
       "      <td>2</td>\n",
       "      <td>169</td>\n",
       "      <td>82.0</td>\n",
       "      <td>150</td>\n",
       "      <td>100</td>\n",
       "      <td>1</td>\n",
       "      <td>1</td>\n",
       "      <td>0</td>\n",
       "      <td>0</td>\n",
       "      <td>1</td>\n",
       "      <td>1</td>\n",
       "      <td>28.710479</td>\n",
       "    </tr>\n",
       "    <tr>\n",
       "      <th>4</th>\n",
       "      <td>17474</td>\n",
       "      <td>1</td>\n",
       "      <td>156</td>\n",
       "      <td>56.0</td>\n",
       "      <td>100</td>\n",
       "      <td>60</td>\n",
       "      <td>1</td>\n",
       "      <td>1</td>\n",
       "      <td>0</td>\n",
       "      <td>0</td>\n",
       "      <td>0</td>\n",
       "      <td>0</td>\n",
       "      <td>23.011177</td>\n",
       "    </tr>\n",
       "  </tbody>\n",
       "</table>\n",
       "</div>"
      ],
      "text/plain": [
       "     age  gender  height  weight  ap_hi  ap_lo  cholesterol  gluc  smoke  \\\n",
       "0  18393       2     168    62.0    110     80            1     1      0   \n",
       "1  20228       1     156    85.0    140     90            3     1      0   \n",
       "2  18857       1     165    64.0    130     70            3     1      0   \n",
       "3  17623       2     169    82.0    150    100            1     1      0   \n",
       "4  17474       1     156    56.0    100     60            1     1      0   \n",
       "\n",
       "   alco  active  cardio        BMI  \n",
       "0     0       1       0  21.967120  \n",
       "1     0       1       1  34.927679  \n",
       "2     0       0       1  23.507805  \n",
       "3     0       1       1  28.710479  \n",
       "4     0       0       0  23.011177  "
      ]
     },
     "execution_count": 32,
     "metadata": {},
     "output_type": "execute_result"
    }
   ],
   "source": [
    "df=df.drop(columns=['Unnamed: 0'])\n",
    "df.head()"
   ]
  },
  {
   "cell_type": "markdown",
   "metadata": {},
   "source": [
    "Let us check the data type of each columns"
   ]
  },
  {
   "cell_type": "code",
   "execution_count": 33,
   "metadata": {},
   "outputs": [
    {
     "name": "stdout",
     "output_type": "stream",
     "text": [
      "<class 'pandas.core.frame.DataFrame'>\n",
      "RangeIndex: 66478 entries, 0 to 66477\n",
      "Data columns (total 13 columns):\n",
      " #   Column       Non-Null Count  Dtype  \n",
      "---  ------       --------------  -----  \n",
      " 0   age          66478 non-null  int64  \n",
      " 1   gender       66478 non-null  int64  \n",
      " 2   height       66478 non-null  int64  \n",
      " 3   weight       66478 non-null  float64\n",
      " 4   ap_hi        66478 non-null  int64  \n",
      " 5   ap_lo        66478 non-null  int64  \n",
      " 6   cholesterol  66478 non-null  int64  \n",
      " 7   gluc         66478 non-null  int64  \n",
      " 8   smoke        66478 non-null  int64  \n",
      " 9   alco         66478 non-null  int64  \n",
      " 10  active       66478 non-null  int64  \n",
      " 11  cardio       66478 non-null  int64  \n",
      " 12  BMI          66478 non-null  float64\n",
      "dtypes: float64(2), int64(11)\n",
      "memory usage: 6.6 MB\n"
     ]
    }
   ],
   "source": [
    "df.info()"
   ]
  },
  {
   "cell_type": "markdown",
   "metadata": {},
   "source": [
    "# Split into training and testing datasets"
   ]
  },
  {
   "cell_type": "markdown",
   "metadata": {},
   "source": [
    "We will be using sklearn preprocessing to standardize the scale of features of our dataframe.\n",
    "We will set `cardio` as our `y` variable (or response variable) and our `X` varibale will be all our dataframe exept `cardio`."
   ]
  },
  {
   "cell_type": "code",
   "execution_count": 34,
   "metadata": {},
   "outputs": [],
   "source": [
    "X=df.drop(columns=['cardio'])\n",
    "y=df['cardio']"
   ]
  },
  {
   "cell_type": "markdown",
   "metadata": {},
   "source": [
    "Using sklearn model selection import train_test_split, and create a 80/20 split with the y=`cardio`."
   ]
  },
  {
   "cell_type": "code",
   "execution_count": 35,
   "metadata": {},
   "outputs": [],
   "source": [
    "from sklearn.model_selection import train_test_split"
   ]
  },
  {
   "cell_type": "markdown",
   "metadata": {},
   "source": [
    "Let us flatenned our variable y by calling the `ravel()` function on `y`."
   ]
  },
  {
   "cell_type": "code",
   "execution_count": 36,
   "metadata": {},
   "outputs": [],
   "source": [
    "y=y.ravel()"
   ]
  },
  {
   "cell_type": "markdown",
   "metadata": {},
   "source": [
    "We will call `train_test_split()` function with the first two parameters set to `X` and `y`."
   ]
  },
  {
   "cell_type": "markdown",
   "metadata": {},
   "source": [
    "But before doing that let us display the proportion among the classes in cardio."
   ]
  },
  {
   "cell_type": "code",
   "execution_count": 78,
   "metadata": {},
   "outputs": [
    {
     "data": {
      "text/plain": [
       "0    33728\n",
       "1    32750\n",
       "Name: cardio, dtype: int64"
      ]
     },
     "execution_count": 78,
     "metadata": {},
     "output_type": "execute_result"
    }
   ],
   "source": [
    "df['cardio'].value_counts()"
   ]
  },
  {
   "cell_type": "code",
   "execution_count": 86,
   "metadata": {},
   "outputs": [],
   "source": [
    "a=df['cardio'].value_counts()[0]\n",
    "b=df['cardio'].value_counts()[1]"
   ]
  },
  {
   "cell_type": "code",
   "execution_count": 87,
   "metadata": {},
   "outputs": [
    {
     "name": "stdout",
     "output_type": "stream",
     "text": [
      "The proportion of patient not having cardiovascular desease in our dataset is  0.5073558169620025\n"
     ]
    }
   ],
   "source": [
    "print(\"The proportion of patient not having cardiovascular disease in our dataset is \", a/(a+b))"
   ]
  },
  {
   "cell_type": "code",
   "execution_count": 88,
   "metadata": {},
   "outputs": [
    {
     "name": "stdout",
     "output_type": "stream",
     "text": [
      "The proportion of patient having cardiovascular desease in our dataset is  0.4926441830379975\n"
     ]
    }
   ],
   "source": [
    "print(\"The proportion of patient having cardiovascular disease in our dataset is \", b/(a+b))"
   ]
  },
  {
   "cell_type": "markdown",
   "metadata": {},
   "source": [
    "We can see that the our response variable is a little bit unbalance. Therefore we will introduce in the `train_test_plit` function the parameter `stratify`. What that parameter will do is when splitting the data it will keep the same class proportion as in the original dataset. "
   ]
  },
  {
   "cell_type": "code",
   "execution_count": 37,
   "metadata": {},
   "outputs": [],
   "source": [
    "X_train, X_test, y_train, y_test=train_test_split(X, y, test_size=0.2, random_state=1, stratify=y)"
   ]
  },
  {
   "cell_type": "markdown",
   "metadata": {},
   "source": [
    "Let us check to see if the proportion is still the same in the `y_train` and `y_test`"
   ]
  },
  {
   "cell_type": "code",
   "execution_count": 93,
   "metadata": {},
   "outputs": [
    {
     "name": "stdout",
     "output_type": "stream",
     "text": [
      "The proportion of patient not having cardiovascular desease in the training dataset is  0.5073521116167125\n",
      "The proportion of patient not having cardiovascular desease in the training dataset is  0.4926478883832876\n"
     ]
    }
   ],
   "source": [
    "a=np. count_nonzero(y_train== 0)\n",
    "b=np. count_nonzero(y_train== 1)\n",
    "print(\"The proportion of patient not having cardiovascular disease in the training dataset is \", a/(a+b))\n",
    "print(\"The proportion of patient not having cardiovascular disease in the training dataset is \", b/(a+b))"
   ]
  },
  {
   "cell_type": "code",
   "execution_count": 94,
   "metadata": {},
   "outputs": [
    {
     "name": "stdout",
     "output_type": "stream",
     "text": [
      "The proportion of patient not having cardiovascular desease in the testing dataset is  0.5073706377858003\n",
      "The proportion of patient not having cardiovascular desease in the testing dataset is  0.4926293622141998\n"
     ]
    }
   ],
   "source": [
    "a=np. count_nonzero(y_test== 0)\n",
    "b=np. count_nonzero(y_test== 1)\n",
    "print(\"The proportion of patient not having cardiovascular disease in the testing dataset is \", a/(a+b))\n",
    "print(\"The proportion of patient not having cardiovascular disease in the testing dataset is \", b/(a+b))"
   ]
  },
  {
   "cell_type": "markdown",
   "metadata": {},
   "source": [
    "# Standardize the magnitude of our features"
   ]
  },
  {
   "cell_type": "markdown",
   "metadata": {},
   "source": [
    "We use StandardScaler() method of the preprocessing package and then call the fit() method with parameter X."
   ]
  },
  {
   "cell_type": "code",
   "execution_count": 38,
   "metadata": {},
   "outputs": [],
   "source": [
    "scaler=preprocessing.StandardScaler().fit(X)"
   ]
  },
  {
   "cell_type": "markdown",
   "metadata": {},
   "source": [
    "We declare 2 variables called X_scaled_train and X_scaled_test and assign them the result of calling the transform() method with respectively parameter X_train and X_test."
   ]
  },
  {
   "cell_type": "code",
   "execution_count": 39,
   "metadata": {},
   "outputs": [],
   "source": [
    "X_scaled_train=scaler.transform(X_train)\n",
    "X_scaled_test=scaler.transform(X_test)"
   ]
  },
  {
   "cell_type": "code",
   "execution_count": 40,
   "metadata": {},
   "outputs": [
    {
     "data": {
      "text/plain": [
       "array([[ 0.67067983, -0.73274923,  0.45501257, ..., -0.2362407 ,\n",
       "         0.49551603,  1.69760911],\n",
       "       [ 0.65202169, -0.73274923,  0.45501257, ..., -0.2362407 ,\n",
       "         0.49551603, -0.91664924],\n",
       "       [ 1.28234248,  1.36472336,  0.84022541, ..., -0.2362407 ,\n",
       "         0.49551603, -0.50874539],\n",
       "       ...,\n",
       "       [-1.48676955, -0.73274923,  0.45501257, ..., -0.2362407 ,\n",
       "        -2.0180982 , -1.29011472],\n",
       "       [ 0.90917959,  1.36472336,  2.25267253, ..., -0.2362407 ,\n",
       "         0.49551603,  0.01988727],\n",
       "       [ 0.12675435, -0.73274923, -0.18700885, ..., -0.2362407 ,\n",
       "         0.49551603, -0.61422499]])"
      ]
     },
     "execution_count": 40,
     "metadata": {},
     "output_type": "execute_result"
    }
   ],
   "source": [
    "X_scaled_train"
   ]
  },
  {
   "cell_type": "code",
   "execution_count": 41,
   "metadata": {},
   "outputs": [
    {
     "data": {
      "text/plain": [
       "array([[-1.17809894, -0.73274923,  0.71182113, ..., -0.2362407 ,\n",
       "         0.49551603, -0.66548401],\n",
       "       [-1.20973666,  1.36472336,  1.35384255, ...,  4.23297084,\n",
       "         0.49551603,  0.76782946],\n",
       "       [ 1.55572486,  1.36472336,  1.99586396, ..., -0.2362407 ,\n",
       "         0.49551603, -0.24109168],\n",
       "       ...,\n",
       "       [ 0.15433596, -0.73274923, -1.85626453, ..., -0.2362407 ,\n",
       "         0.49551603, -0.80586444],\n",
       "       [-0.82278296, -0.73274923, -0.95743455, ..., -0.2362407 ,\n",
       "         0.49551603, -1.49538512],\n",
       "       [ 0.99273563, -0.73274923, -0.70062598, ..., -0.2362407 ,\n",
       "         0.49551603,  1.73324057]])"
      ]
     },
     "execution_count": 41,
     "metadata": {},
     "output_type": "execute_result"
    }
   ],
   "source": [
    "X_scaled_test"
   ]
  },
  {
   "cell_type": "markdown",
   "metadata": {},
   "source": [
    "# Capstone II: Modeling"
   ]
  },
  {
   "cell_type": "markdown",
   "metadata": {},
   "source": [
    "**The different steps we will take are:**"
   ]
  },
  {
   "cell_type": "markdown",
   "metadata": {},
   "source": [
    "* Fit Models with Training Data Set\n",
    "* Review Model Outcomes — Iterate over additional models as needed.\n",
    "* Identify the Final Model"
   ]
  },
  {
   "cell_type": "markdown",
   "metadata": {},
   "source": [
    "## Fit Models with Training Dataset"
   ]
  },
  {
   "cell_type": "markdown",
   "metadata": {},
   "source": [
    "Let us define certain term and use those term to avaluate how well our model perform.\n",
    "\n",
    "* `Precision` is the ratio of correctly predicted positive observations to the total predicted positive observations. The question that this metric answer is of all patient that have cardiovascular disease, how many actually have it?\n",
    "\n",
    "\n",
    "* `Accuracy` is the most intuitive performance measure and it is simply a ratio of correctly predicted observation to the total observations.\n",
    "\n",
    "\n",
    "* `Recall` calculates the percentage of actual positives a model correctly identified (True Positive).\n",
    "\n",
    "\n",
    "* `An ROC` curve (receiver operating characteristic curve) is a graph showing the performance of a classification model at all classification thresholds. This curve plots two parameters: True Positive Rate and False Positive Rate.\n",
    "\n",
    "\n",
    "* `AUC` stands for \"Area under the ROC Curve.\" That is, AUC measures the entire two-dimensional area underneath the entire ROC curve (think integral calculus) from (0,0) to (1,1). AUC provides an aggregate measure of performance across all possible classification thresholds.\n",
    "\n",
    "\n",
    "* `F1 Score` is the weighted average of Precision and Recall. Therefore, this score takes both false positives and false negatives into account. Intuitively it is not as easy to understand as accuracy, but F1 is usually more useful than accuracy, especially if you have an uneven class distribution.\n"
   ]
  },
  {
   "cell_type": "markdown",
   "metadata": {},
   "source": [
    "### Logistic Regression"
   ]
  },
  {
   "cell_type": "markdown",
   "metadata": {},
   "source": [
    "We will use sklearn to fit the model on our training dataset and we will use predict() method to predict our model."
   ]
  },
  {
   "cell_type": "code",
   "execution_count": 110,
   "metadata": {},
   "outputs": [
    {
     "data": {
      "text/plain": [
       "LogisticRegression(C=1.0, class_weight=None, dual=False, fit_intercept=True,\n",
       "                   intercept_scaling=1, l1_ratio=None, max_iter=100,\n",
       "                   multi_class='auto', n_jobs=None, penalty='l2',\n",
       "                   random_state=None, solver='lbfgs', tol=0.0001, verbose=0,\n",
       "                   warm_start=False)"
      ]
     },
     "execution_count": 110,
     "metadata": {},
     "output_type": "execute_result"
    }
   ],
   "source": [
    "cls = LogisticRegression()\n",
    "cls.fit(X_scaled_train, y_train)"
   ]
  },
  {
   "cell_type": "markdown",
   "metadata": {},
   "source": [
    "Let us plot the coeficient of our model"
   ]
  },
  {
   "cell_type": "code",
   "execution_count": 148,
   "metadata": {},
   "outputs": [
    {
     "data": {
      "text/plain": [
       "<matplotlib.axes._subplots.AxesSubplot at 0x1eab905a7c8>"
      ]
     },
     "execution_count": 148,
     "metadata": {},
     "output_type": "execute_result"
    },
    {
     "data": {
      "image/png": "[encoded data removed]",
      "text/plain": [
       "<Figure size 1440x720 with 1 Axes>"
      ]
     },
     "metadata": {
      "needs_background": "light"
     },
     "output_type": "display_data"
    }
   ],
   "source": [
    "X_scaled_train_pd=pd.DataFrame(data=X_scaled_train, index=None, columns=['age', 'gender', 'height', 'weight', 'ap_hi', 'ap_lo', 'cholesterol', 'gluc', 'smoke', 'alco', 'active', 'BMI'])\n",
    "coefs = pd.Series(cls.coef_[0], index=X_scaled_train_pd.columns)\n",
    "coefs.sort_values(inplace=True)\n",
    "plt.figure(figsize=(20,10))\n",
    "coefs.plot(kind=\"bar\")"
   ]
  },
  {
   "cell_type": "markdown",
   "metadata": {},
   "source": [
    "Let us find the `Accuracy`, `F1 score`, `AUC`, `Precision` on the training set"
   ]
  },
  {
   "cell_type": "code",
   "execution_count": 116,
   "metadata": {},
   "outputs": [
    {
     "name": "stdout",
     "output_type": "stream",
     "text": [
      " [Train] F1 score: 0.702882\n",
      " [Train] Accuracy: 0.724380\n",
      " [Train]  AUC: 0.723473\n",
      " [Train] Precision: 0.749460\n"
     ]
    }
   ],
   "source": [
    "y_pred_train = cls.predict(X_scaled_train)\n",
    "print(\" [Train] F1 score: {:6f}\".format(metrics.f1_score(y_train, y_pred_train)))\n",
    "print(\" [Train] Accuracy: {:6f}\".format(metrics.accuracy_score(y_train, y_pred_train)))\n",
    "print(\" [Train]  AUC: {:6f}\".format(metrics.roc_auc_score(y_train, y_pred_train)))\n",
    "print(\" [Train] Precision: {:6f}\".format(metrics.precision_score(y_train, y_pred_train)))"
   ]
  },
  {
   "cell_type": "markdown",
   "metadata": {},
   "source": [
    "Let us draw the confusion matrix for the training data."
   ]
  },
  {
   "cell_type": "code",
   "execution_count": 112,
   "metadata": {},
   "outputs": [
    {
     "data": {
      "text/plain": [
       "Text(0.5, 15.0, 'Predicted value')"
      ]
     },
     "execution_count": 112,
     "metadata": {},
     "output_type": "execute_result"
    },
    {
     "data": {
      "image/png": "[encoded data removed]",
      "text/plain": [
       "<Figure size 432x288 with 2 Axes>"
      ]
     },
     "metadata": {
      "needs_background": "light"
     },
     "output_type": "display_data"
    }
   ],
   "source": [
    "cm = metrics.confusion_matrix(y_train, y_pred_train)\n",
    "sns.heatmap(cm, annot=True, fmt=\"d\")\n",
    "plt.ylabel(\"Real value\")\n",
    "plt.xlabel(\"Predicted value\")"
   ]
  },
  {
   "cell_type": "code",
   "execution_count": 118,
   "metadata": {},
   "outputs": [
    {
     "name": "stdout",
     "output_type": "stream",
     "text": [
      "              precision    recall  f1-score   support\n",
      "\n",
      "           0       0.00      0.00      0.00     26982\n",
      "           1       0.49      1.00      0.66     26200\n",
      "\n",
      "    accuracy                           0.49     53182\n",
      "   macro avg       0.25      0.50      0.33     53182\n",
      "weighted avg       0.24      0.49      0.33     53182\n",
      "\n"
     ]
    },
    {
     "name": "stderr",
     "output_type": "stream",
     "text": [
      "C:\\Users\\meteu\\anaconda3\\lib\\site-packages\\sklearn\\metrics\\_classification.py:1272: UndefinedMetricWarning: Precision and F-score are ill-defined and being set to 0.0 in labels with no predicted samples. Use `zero_division` parameter to control this behavior.\n",
      "  _warn_prf(average, modifier, msg_start, len(result))\n"
     ]
    }
   ],
   "source": [
    "from sklearn.metrics import classification_report\n",
    "print(classification_report(y_train, y_predict_training))"
   ]
  },
  {
   "cell_type": "markdown",
   "metadata": {},
   "source": [
    "Let us now find the `Accuracy`, `F1 score`, `AUC`, `Precision` on the test set"
   ]
  },
  {
   "cell_type": "code",
   "execution_count": 113,
   "metadata": {},
   "outputs": [
    {
     "name": "stdout",
     "output_type": "stream",
     "text": [
      " [Test] F1 score: 0.708189\n",
      " [Test] Accuracy: 0.727963\n",
      " [Test]  AUC: 0.727122\n",
      " [Test] Precision: 0.750898\n"
     ]
    }
   ],
   "source": [
    "y_pred_test = cls.predict(X_scaled_test)\n",
    "print(\" [Test] F1 score: {:6f}\".format(metrics.f1_score(y_test, y_pred_test)))\n",
    "print(\" [Test] Accuracy: {:6f}\".format(metrics.accuracy_score(y_test, y_pred_test)))\n",
    "print(\" [Test]  AUC: {:6f}\".format(metrics.roc_auc_score(y_test, y_pred_test)))\n",
    "print(\" [Test] Precision: {:6f}\".format(metrics.precision_score(y_test, y_pred_test)))"
   ]
  },
  {
   "cell_type": "markdown",
   "metadata": {},
   "source": [
    "Let us draw the confusion matrix for testing data."
   ]
  },
  {
   "cell_type": "code",
   "execution_count": 114,
   "metadata": {},
   "outputs": [
    {
     "data": {
      "text/plain": [
       "Text(0.5, 15.0, 'Predicted value')"
      ]
     },
     "execution_count": 114,
     "metadata": {},
     "output_type": "execute_result"
    },
    {
     "data": {
      "image/png": "[encoded data removed]",
      "text/plain": [
       "<Figure size 432x288 with 2 Axes>"
      ]
     },
     "metadata": {
      "needs_background": "light"
     },
     "output_type": "display_data"
    }
   ],
   "source": [
    "cm = metrics.confusion_matrix(y_test, y_pred_test)\n",
    "sns.heatmap(cm, annot=True, fmt=\"d\")\n",
    "plt.ylabel(\"Real value\")\n",
    "plt.xlabel(\"Predicted value\")"
   ]
  },
  {
   "cell_type": "markdown",
   "metadata": {},
   "source": [
    "These performance metrics are global. Let us go in detail and see how well the model perform per class. We will use the `classification_report` function for that. "
   ]
  },
  {
   "cell_type": "code",
   "execution_count": 169,
   "metadata": {},
   "outputs": [
    {
     "name": "stdout",
     "output_type": "stream",
     "text": [
      "[Training Classification Report]\n",
      "              precision    recall  f1-score   support\n",
      "\n",
      "           0       0.71      0.79      0.74     26982\n",
      "           1       0.75      0.66      0.70     26200\n",
      "\n",
      "    accuracy                           0.72     53182\n",
      "   macro avg       0.73      0.72      0.72     53182\n",
      "weighted avg       0.73      0.72      0.72     53182\n",
      "\n",
      "\n",
      "\n",
      "[Test Classification Report]\n",
      "              precision    recall  f1-score   support\n",
      "\n",
      "           0       0.71      0.78      0.75      6746\n",
      "           1       0.75      0.67      0.71      6550\n",
      "\n",
      "    accuracy                           0.73     13296\n",
      "   macro avg       0.73      0.73      0.73     13296\n",
      "weighted avg       0.73      0.73      0.73     13296\n",
      "\n"
     ]
    }
   ],
   "source": [
    "#print(classification_report(y_test, y_predict_test))\n",
    "\n",
    "print(\"[Training Classification Report]\")\n",
    "print(classification_report(y_train, y_pred_train))\n",
    "\n",
    "print(\"\\n\")\n",
    "\n",
    "print(\"[Test Classification Report]\")\n",
    "print(classification_report(y_test, y_pred_test))"
   ]
  },
  {
   "cell_type": "markdown",
   "metadata": {},
   "source": [
    "<div class=\"span5 alert alert-info\">\n",
    "<h3>In the training dataset:</h3>\n",
    "\n",
    "<ul>\n",
    "<li> We can observe that:\n",
    "    \n",
    "   <ol>\n",
    "   <li>The precision of patient not having cardiovascular disease is less than those having cardiovascular disease.\n",
    "   <li>The recall of patient not having cardiovascular disease is higher than those haivng cardiovascular disease.\n",
    "   <li>The f1-score of patient not having cardiovascular disease is higher than those haivng cardiovascular disease.\n",
    "   </ol>\n",
    "\n",
    "\n"
   ]
  },
  {
   "cell_type": "markdown",
   "metadata": {},
   "source": [
    "<div class=\"span5 alert alert-info\">\n",
    "<h3>In the testing dataset:</h3>\n",
    "\n",
    "<ul>\n",
    "<li>We can observe that:\n",
    "    \n",
    "   <ol>\n",
    "   <li>The precision of patient not having cardiovascular disease is less than those having cardiovascular disease.       \n",
    "   <li>The recall of patient not having cardiovascular disease is higher than those haivng cardiovascular disease.\n",
    "   <li>The f1-score of patient not having cardiovascular disease is higher than those haivng cardiovascular disease."
   ]
  },
  {
   "cell_type": "markdown",
   "metadata": {},
   "source": [
    "When comparing the performance metrics in the testing dataset and in the training dataset, we can see that they are either equals ore one is slighly higher than the other.\n",
    "Since the performance metrics in training and testing are closed to each other respectively, we can say that our model is fitting well."
   ]
  },
  {
   "cell_type": "markdown",
   "metadata": {},
   "source": [
    "Let use another method called Model Tuning and see if thr performance metrics will improve."
   ]
  },
  {
   "cell_type": "markdown",
   "metadata": {},
   "source": [
    "### Tuning the Model"
   ]
  },
  {
   "cell_type": "markdown",
   "metadata": {},
   "source": [
    "The idea here is that if we tune some hyperparameters of our model, we might have better performance metrics"
   ]
  },
  {
   "cell_type": "markdown",
   "metadata": {},
   "source": [
    "We will build `cv_score` function to perform 10-fold cross-validation and apply  a scoring function to each test fold."
   ]
  },
  {
   "cell_type": "code",
   "execution_count": 170,
   "metadata": {},
   "outputs": [],
   "source": [
    "from sklearn.model_selection import KFold\n",
    "from sklearn.metrics import accuracy_score\n",
    "\n",
    "def cv_score(clf, x, y, score_func=accuracy_score):\n",
    "    result = 0\n",
    "    number_of_fold = 10\n",
    "    for train, test in KFold(number_of_fold).split(x): # split data into train/test groups, 10 times\n",
    "        clf.fit(x[train], y[train]) # fit\n",
    "        result += score_func(clf.predict(x[test]), y[test]) # evaluate score function on held-out data\n",
    "    return result / number_of_fold # average"
   ]
  },
  {
   "cell_type": "code",
   "execution_count": 171,
   "metadata": {},
   "outputs": [
    {
     "name": "stdout",
     "output_type": "stream",
     "text": [
      "0.7247000064553896\n"
     ]
    }
   ],
   "source": [
    "score=cv_score(cls, X_scaled_train, y_train)\n",
    "print(score)"
   ]
  },
  {
   "cell_type": "markdown",
   "metadata": {},
   "source": [
    "<div class=\"span5 alert alert-info\">\n",
    "\n",
    "<ul>\n",
    "<li> Let us  take a list of possible parameters to search over ie `Cs=[0.001, 0.1, 1, 10, 100]`\n",
    "<li> For each parameters C in Cs:\n",
    "  <ol>\n",
    "  <li> We will build a logistic regression model with that value of C\n",
    "  <li> We will find the average score for this model using the `cv_score` function **only on the training set** `(X_scaled_train, y_train)`\n",
    "  </ol>\n",
    "<li> Pick the C with the highest average score\n",
    "</ul>\n",
    "Our goal is to find the best model parameters based *only* on the training set, without showing the model test set at all (which is why the test set is also called a *hold-out* set).\n",
    "</div>"
   ]
  },
  {
   "cell_type": "code",
   "execution_count": 172,
   "metadata": {},
   "outputs": [
    {
     "name": "stdout",
     "output_type": "stream",
     "text": [
      "0.7247000064553896 0.001\n"
     ]
    }
   ],
   "source": [
    "#the grid of parameters to search over\n",
    "Cs = [0.001, 0.1, 1, 10, 100]\n",
    "\n",
    "# your turn\n",
    "max_score = 0\n",
    "\n",
    "for C in Cs:\n",
    "        clf = LogisticRegression(C=C)\n",
    "        score = cv_score(cls, X_scaled_train, y_train)\n",
    "\n",
    "        if score > max_score:\n",
    "            max_score = score\n",
    "            thebest_C =C\n",
    "print(max_score, thebest_C)"
   ]
  },
  {
   "cell_type": "markdown",
   "metadata": {},
   "source": [
    "Let us use the the best parameter `C` to train a logistic regression on the training data."
   ]
  },
  {
   "cell_type": "code",
   "execution_count": 173,
   "metadata": {},
   "outputs": [
    {
     "data": {
      "text/plain": [
       "0.7240795757963221"
      ]
     },
     "execution_count": 173,
     "metadata": {},
     "output_type": "execute_result"
    }
   ],
   "source": [
    "clfs=LogisticRegression(C=thebest_C)\n",
    "clfs.fit(X_scaled_train, y_train)\n",
    "y_pred_train2=clfs.predict(X_scaled_train)\n",
    "accuracy_score(y_pred_train2,y_train)"
   ]
  },
  {
   "cell_type": "code",
   "execution_count": 174,
   "metadata": {},
   "outputs": [
    {
     "data": {
      "text/plain": [
       "0.7283393501805054"
      ]
     },
     "execution_count": 174,
     "metadata": {},
     "output_type": "execute_result"
    }
   ],
   "source": [
    "y_pred_test2=clfs.predict(X_scaled_test)\n",
    "accuracy_score(y_pred_test2,y_test)"
   ]
  },
  {
   "cell_type": "markdown",
   "metadata": {},
   "source": [
    "Let us see in detail our performances using the classification report."
   ]
  },
  {
   "cell_type": "code",
   "execution_count": 175,
   "metadata": {},
   "outputs": [
    {
     "name": "stdout",
     "output_type": "stream",
     "text": [
      "[Training Classification Report]\n",
      "              precision    recall  f1-score   support\n",
      "\n",
      "           0       0.71      0.78      0.74     26982\n",
      "           1       0.75      0.66      0.70     26200\n",
      "\n",
      "    accuracy                           0.72     53182\n",
      "   macro avg       0.73      0.72      0.72     53182\n",
      "weighted avg       0.73      0.72      0.72     53182\n",
      "\n",
      "\n",
      "\n",
      "[Test Classification Report]\n",
      "              precision    recall  f1-score   support\n",
      "\n",
      "           0       0.71      0.79      0.75      6746\n",
      "           1       0.75      0.67      0.71      6550\n",
      "\n",
      "    accuracy                           0.73     13296\n",
      "   macro avg       0.73      0.73      0.73     13296\n",
      "weighted avg       0.73      0.73      0.73     13296\n",
      "\n"
     ]
    }
   ],
   "source": [
    "#print(classification_report(y_test, y_predict_test))\n",
    "\n",
    "print(\"[Training Classification Report]\")\n",
    "print(classification_report(y_train, y_pred_train2))\n",
    "\n",
    "print(\"\\n\")\n",
    "\n",
    "print(\"[Test Classification Report]\")\n",
    "print(classification_report(y_test, y_pred_test2))"
   ]
  },
  {
   "cell_type": "markdown",
   "metadata": {},
   "source": [
    "There no a significant change in our performance metrics. Let us use the GridSearchCV tool to perform cross validation and grid search."
   ]
  },
  {
   "cell_type": "code",
   "execution_count": 176,
   "metadata": {},
   "outputs": [
    {
     "data": {
      "text/plain": [
       "(LogisticRegression(C=1, class_weight=None, dual=False, fit_intercept=True,\n",
       "                    intercept_scaling=1, l1_ratio=None, max_iter=100,\n",
       "                    multi_class='auto', n_jobs=None, penalty='l2',\n",
       "                    random_state=None, solver='lbfgs', tol=0.0001, verbose=0,\n",
       "                    warm_start=False),\n",
       " {'C': 1},\n",
       " 0.724511951697566,\n",
       " {'mean_fit_time': array([0.02491972, 0.04066374, 0.05013211, 0.052722  , 0.04296417,\n",
       "         0.04615445]),\n",
       "  'std_fit_time': array([0.00248012, 0.0080822 , 0.00584641, 0.01359711, 0.00700275,\n",
       "         0.00920688]),\n",
       "  'mean_score_time': array([0.00070233, 0.00089753, 0.00049858, 0.00079818, 0.00079892,\n",
       "         0.00089819]),\n",
       "  'std_score_time': array([0.00045995, 0.00029918, 0.00049858, 0.00039909, 0.00039948,\n",
       "         0.0002994 ]),\n",
       "  'param_C': masked_array(data=[0.0001, 0.001, 0.1, 1, 10, 100],\n",
       "               mask=[False, False, False, False, False, False],\n",
       "         fill_value='?',\n",
       "              dtype=object),\n",
       "  'params': [{'C': 0.0001},\n",
       "   {'C': 0.001},\n",
       "   {'C': 0.1},\n",
       "   {'C': 1},\n",
       "   {'C': 10},\n",
       "   {'C': 100}],\n",
       "  'split0_test_score': array([0.72607633, 0.72758037, 0.72532431, 0.72551231, 0.72551231,\n",
       "         0.72551231]),\n",
       "  'split1_test_score': array([0.72833239, 0.72927242, 0.72889641, 0.72889641, 0.72889641,\n",
       "         0.72889641]),\n",
       "  'split2_test_score': array([0.72339225, 0.72809327, 0.72809327, 0.72809327, 0.72809327,\n",
       "         0.72809327]),\n",
       "  'split3_test_score': array([0.7185032 , 0.7245205 , 0.72677698, 0.72696502, 0.72696502,\n",
       "         0.72696502]),\n",
       "  'split4_test_score': array([0.71135765, 0.71643475, 0.71831516, 0.7185032 , 0.7185032 ,\n",
       "         0.7185032 ]),\n",
       "  'split5_test_score': array([0.7194434 , 0.72470854, 0.72865739, 0.72865739, 0.72865739,\n",
       "         0.72865739]),\n",
       "  'split6_test_score': array([0.71474238, 0.71793907, 0.72075968, 0.72094772, 0.72094772,\n",
       "         0.72094772]),\n",
       "  'split7_test_score': array([0.71549455, 0.72395637, 0.72489658, 0.7245205 , 0.7245205 ,\n",
       "         0.7245205 ]),\n",
       "  'split8_test_score': array([0.71963144, 0.72414442, 0.72470854, 0.72489658, 0.72489658,\n",
       "         0.72489658]),\n",
       "  'split9_test_score': array([0.71887928, 0.71963144, 0.71812712, 0.71812712, 0.71812712,\n",
       "         0.71812712]),\n",
       "  'mean_test_score': array([0.71958529, 0.72362811, 0.72445554, 0.72451195, 0.72451195,\n",
       "         0.72451195]),\n",
       "  'std_test_score': array([0.00492658, 0.00412113, 0.0038526 , 0.00382067, 0.00382067,\n",
       "         0.00382067]),\n",
       "  'rank_test_score': array([6, 5, 4, 1, 1, 1])})"
      ]
     },
     "execution_count": 176,
     "metadata": {},
     "output_type": "execute_result"
    }
   ],
   "source": [
    "param = {\"C\": [0.0001, 0.001, 0.1, 1, 10, 100]}\n",
    "fitmodel = GridSearchCV(clf, param_grid=param, cv=10, scoring=\"accuracy\", refit=True)\n",
    "fitmodel.fit(X_scaled_train, y_train)\n",
    "fitmodel.best_estimator_, fitmodel.best_params_, fitmodel.best_score_, fitmodel.cv_results_"
   ]
  },
  {
   "cell_type": "code",
   "execution_count": 177,
   "metadata": {},
   "outputs": [
    {
     "data": {
      "text/plain": [
       "0.7243804294686172"
      ]
     },
     "execution_count": 177,
     "metadata": {},
     "output_type": "execute_result"
    }
   ],
   "source": [
    "y_pred_train3=fitmodel.predict(X_scaled_train)\n",
    "accuracy_score(y_pred_train3,y_train)"
   ]
  },
  {
   "cell_type": "code",
   "execution_count": 178,
   "metadata": {},
   "outputs": [
    {
     "data": {
      "text/plain": [
       "0.7279632972322503"
      ]
     },
     "execution_count": 178,
     "metadata": {},
     "output_type": "execute_result"
    }
   ],
   "source": [
    "y_pred_test3=fitmodel.predict(X_scaled_test)\n",
    "accuracy_score(y_pred_test3,y_test)"
   ]
  },
  {
   "cell_type": "code",
   "execution_count": 179,
   "metadata": {},
   "outputs": [
    {
     "name": "stdout",
     "output_type": "stream",
     "text": [
      "[Training Classification Report]\n",
      "              precision    recall  f1-score   support\n",
      "\n",
      "           0       0.71      0.79      0.74     26982\n",
      "           1       0.75      0.66      0.70     26200\n",
      "\n",
      "    accuracy                           0.72     53182\n",
      "   macro avg       0.73      0.72      0.72     53182\n",
      "weighted avg       0.73      0.72      0.72     53182\n",
      "\n",
      "\n",
      "\n",
      "[Test Classification Report]\n",
      "              precision    recall  f1-score   support\n",
      "\n",
      "           0       0.71      0.78      0.75      6746\n",
      "           1       0.75      0.67      0.71      6550\n",
      "\n",
      "    accuracy                           0.73     13296\n",
      "   macro avg       0.73      0.73      0.73     13296\n",
      "weighted avg       0.73      0.73      0.73     13296\n",
      "\n"
     ]
    }
   ],
   "source": [
    "print(\"[Training Classification Report]\")\n",
    "print(classification_report(y_train, y_pred_train3))\n",
    "\n",
    "print(\"\\n\")\n",
    "\n",
    "print(\"[Test Classification Report]\")\n",
    "print(classification_report(y_test, y_pred_test3))"
   ]
  },
  {
   "cell_type": "code",
   "execution_count": null,
   "metadata": {},
   "outputs": [],
   "source": []
  }
 ],
 "metadata": {
  "kernelspec": {
   "display_name": "Python 3",
   "language": "python",
   "name": "python3"
  },
  "language_info": {
   "codemirror_mode": {
    "name": "ipython",
    "version": 3
   },
   "file_extension": ".py",
   "mimetype": "text/x-python",
   "name": "python",
   "nbconvert_exporter": "python",
   "pygments_lexer": "ipython3",
   "version": "3.7.6"
  }
 },
 "nbformat": 4,
 "nbformat_minor": 4
}
