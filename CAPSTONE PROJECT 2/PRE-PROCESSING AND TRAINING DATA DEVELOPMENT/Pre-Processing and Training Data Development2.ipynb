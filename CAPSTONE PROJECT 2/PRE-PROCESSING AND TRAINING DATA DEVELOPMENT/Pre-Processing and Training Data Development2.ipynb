{
 "cells": [
  {
   "cell_type": "markdown",
   "metadata": {},
   "source": [
    "# Capstone II: Pre_processing and Training Data Development"
   ]
  },
  {
   "cell_type": "markdown",
   "metadata": {},
   "source": [
    "**The different steps we will take are:**"
   ]
  },
  {
   "cell_type": "markdown",
   "metadata": {},
   "source": [
    "* Standardize the magnitude of numeric features\n",
    "* Split into testing and training datasets\n",
    "* Apply scaler to the testing set"
   ]
  },
  {
   "cell_type": "markdown",
   "metadata": {},
   "source": [
    "We will start by loading the necessary packages "
   ]
  },
  {
   "cell_type": "code",
   "execution_count": 30,
   "metadata": {},
   "outputs": [],
   "source": [
    "import os\n",
    "import pandas as pd\n",
    "import datetime\n",
    "import seaborn as sns\n",
    "import matplotlib.pyplot as plt\n",
    "import numpy as np\n",
    "%matplotlib inline\n",
    "from sklearn import preprocessing\n",
    "from sklearn.linear_model import LogisticRegression\n",
    "import sklearn.metrics as metrics\n",
    "from sklearn.model_selection import cross_val_score, GridSearchCV"
   ]
  },
  {
   "cell_type": "markdown",
   "metadata": {},
   "source": [
    "We need to know what is our curent working directory."
   ]
  },
  {
   "cell_type": "code",
   "execution_count": 31,
   "metadata": {},
   "outputs": [
    {
     "data": {
      "text/plain": [
       "'C:\\\\Users\\\\meteu\\\\Desktop\\\\SPRINGBOARD\\\\PROJECT 2\\\\data'"
      ]
     },
     "execution_count": 31,
     "metadata": {},
     "output_type": "execute_result"
    }
   ],
   "source": [
    "os.getcwd()"
   ]
  },
  {
   "cell_type": "code",
   "execution_count": 32,
   "metadata": {},
   "outputs": [
    {
     "name": "stdout",
     "output_type": "stream",
     "text": [
      "None\n"
     ]
    }
   ],
   "source": [
    "path=\"C:/Users/meteu/Desktop/SPRINGBOARD/PROJECT 2/data\"\n",
    "print(os.chdir(path))"
   ]
  },
  {
   "cell_type": "code",
   "execution_count": 33,
   "metadata": {},
   "outputs": [
    {
     "name": "stdout",
     "output_type": "stream",
     "text": [
      " Volume in drive C is Windows\n",
      " Volume Serial Number is 603D-12C6\n",
      "\n",
      " Directory of C:\\Users\\meteu\\Desktop\\SPRINGBOARD\\PROJECT 2\\data\n",
      "\n",
      "07/03/2020  10:34 AM    <DIR>          .\n",
      "07/03/2020  10:34 AM    <DIR>          ..\n",
      "07/03/2020  09:05 AM            89,556 BMI.PNG\n",
      "06/30/2020  07:50 PM           125,900 chart.PNG\n",
      "06/27/2020  11:24 AM         3,420,416 clean_data.csv\n",
      "07/06/2020  08:49 PM         4,040,522 ready_data.csv\n",
      "               4 File(s)      7,676,394 bytes\n",
      "               2 Dir(s)  376,437,776,384 bytes free\n"
     ]
    }
   ],
   "source": [
    "!dir"
   ]
  },
  {
   "cell_type": "markdown",
   "metadata": {},
   "source": [
    "Let us now load the data we created at the end of EDA."
   ]
  },
  {
   "cell_type": "code",
   "execution_count": 34,
   "metadata": {},
   "outputs": [
    {
     "data": {
      "text/html": [
       "<div>\n",
       "<style scoped>\n",
       "    .dataframe tbody tr th:only-of-type {\n",
       "        vertical-align: middle;\n",
       "    }\n",
       "\n",
       "    .dataframe tbody tr th {\n",
       "        vertical-align: top;\n",
       "    }\n",
       "\n",
       "    .dataframe thead th {\n",
       "        text-align: right;\n",
       "    }\n",
       "</style>\n",
       "<table border=\"1\" class=\"dataframe\">\n",
       "  <thead>\n",
       "    <tr style=\"text-align: right;\">\n",
       "      <th></th>\n",
       "      <th>Unnamed: 0</th>\n",
       "      <th>age</th>\n",
       "      <th>gender</th>\n",
       "      <th>height</th>\n",
       "      <th>weight</th>\n",
       "      <th>ap_hi</th>\n",
       "      <th>ap_lo</th>\n",
       "      <th>cholesterol</th>\n",
       "      <th>gluc</th>\n",
       "      <th>smoke</th>\n",
       "      <th>alco</th>\n",
       "      <th>active</th>\n",
       "      <th>cardio</th>\n",
       "      <th>BMI</th>\n",
       "    </tr>\n",
       "  </thead>\n",
       "  <tbody>\n",
       "    <tr>\n",
       "      <th>0</th>\n",
       "      <td>0</td>\n",
       "      <td>18393</td>\n",
       "      <td>2</td>\n",
       "      <td>168</td>\n",
       "      <td>62.0</td>\n",
       "      <td>110</td>\n",
       "      <td>80</td>\n",
       "      <td>1</td>\n",
       "      <td>1</td>\n",
       "      <td>0</td>\n",
       "      <td>0</td>\n",
       "      <td>1</td>\n",
       "      <td>0</td>\n",
       "      <td>21.967120</td>\n",
       "    </tr>\n",
       "    <tr>\n",
       "      <th>1</th>\n",
       "      <td>1</td>\n",
       "      <td>20228</td>\n",
       "      <td>1</td>\n",
       "      <td>156</td>\n",
       "      <td>85.0</td>\n",
       "      <td>140</td>\n",
       "      <td>90</td>\n",
       "      <td>3</td>\n",
       "      <td>1</td>\n",
       "      <td>0</td>\n",
       "      <td>0</td>\n",
       "      <td>1</td>\n",
       "      <td>1</td>\n",
       "      <td>34.927679</td>\n",
       "    </tr>\n",
       "    <tr>\n",
       "      <th>2</th>\n",
       "      <td>2</td>\n",
       "      <td>18857</td>\n",
       "      <td>1</td>\n",
       "      <td>165</td>\n",
       "      <td>64.0</td>\n",
       "      <td>130</td>\n",
       "      <td>70</td>\n",
       "      <td>3</td>\n",
       "      <td>1</td>\n",
       "      <td>0</td>\n",
       "      <td>0</td>\n",
       "      <td>0</td>\n",
       "      <td>1</td>\n",
       "      <td>23.507805</td>\n",
       "    </tr>\n",
       "    <tr>\n",
       "      <th>3</th>\n",
       "      <td>3</td>\n",
       "      <td>17623</td>\n",
       "      <td>2</td>\n",
       "      <td>169</td>\n",
       "      <td>82.0</td>\n",
       "      <td>150</td>\n",
       "      <td>100</td>\n",
       "      <td>1</td>\n",
       "      <td>1</td>\n",
       "      <td>0</td>\n",
       "      <td>0</td>\n",
       "      <td>1</td>\n",
       "      <td>1</td>\n",
       "      <td>28.710479</td>\n",
       "    </tr>\n",
       "    <tr>\n",
       "      <th>4</th>\n",
       "      <td>4</td>\n",
       "      <td>17474</td>\n",
       "      <td>1</td>\n",
       "      <td>156</td>\n",
       "      <td>56.0</td>\n",
       "      <td>100</td>\n",
       "      <td>60</td>\n",
       "      <td>1</td>\n",
       "      <td>1</td>\n",
       "      <td>0</td>\n",
       "      <td>0</td>\n",
       "      <td>0</td>\n",
       "      <td>0</td>\n",
       "      <td>23.011177</td>\n",
       "    </tr>\n",
       "  </tbody>\n",
       "</table>\n",
       "</div>"
      ],
      "text/plain": [
       "   Unnamed: 0    age  gender  height  weight  ap_hi  ap_lo  cholesterol  gluc  \\\n",
       "0           0  18393       2     168    62.0    110     80            1     1   \n",
       "1           1  20228       1     156    85.0    140     90            3     1   \n",
       "2           2  18857       1     165    64.0    130     70            3     1   \n",
       "3           3  17623       2     169    82.0    150    100            1     1   \n",
       "4           4  17474       1     156    56.0    100     60            1     1   \n",
       "\n",
       "   smoke  alco  active  cardio        BMI  \n",
       "0      0     0       1       0  21.967120  \n",
       "1      0     0       1       1  34.927679  \n",
       "2      0     0       0       1  23.507805  \n",
       "3      0     0       1       1  28.710479  \n",
       "4      0     0       0       0  23.011177  "
      ]
     },
     "execution_count": 34,
     "metadata": {},
     "output_type": "execute_result"
    }
   ],
   "source": [
    "df=pd.read_csv('ready_data.csv')\n",
    "df.head()"
   ]
  },
  {
   "cell_type": "code",
   "execution_count": 35,
   "metadata": {},
   "outputs": [
    {
     "data": {
      "text/html": [
       "<div>\n",
       "<style scoped>\n",
       "    .dataframe tbody tr th:only-of-type {\n",
       "        vertical-align: middle;\n",
       "    }\n",
       "\n",
       "    .dataframe tbody tr th {\n",
       "        vertical-align: top;\n",
       "    }\n",
       "\n",
       "    .dataframe thead th {\n",
       "        text-align: right;\n",
       "    }\n",
       "</style>\n",
       "<table border=\"1\" class=\"dataframe\">\n",
       "  <thead>\n",
       "    <tr style=\"text-align: right;\">\n",
       "      <th></th>\n",
       "      <th>age</th>\n",
       "      <th>gender</th>\n",
       "      <th>height</th>\n",
       "      <th>weight</th>\n",
       "      <th>ap_hi</th>\n",
       "      <th>ap_lo</th>\n",
       "      <th>cholesterol</th>\n",
       "      <th>gluc</th>\n",
       "      <th>smoke</th>\n",
       "      <th>alco</th>\n",
       "      <th>active</th>\n",
       "      <th>cardio</th>\n",
       "      <th>BMI</th>\n",
       "    </tr>\n",
       "  </thead>\n",
       "  <tbody>\n",
       "    <tr>\n",
       "      <th>0</th>\n",
       "      <td>18393</td>\n",
       "      <td>2</td>\n",
       "      <td>168</td>\n",
       "      <td>62.0</td>\n",
       "      <td>110</td>\n",
       "      <td>80</td>\n",
       "      <td>1</td>\n",
       "      <td>1</td>\n",
       "      <td>0</td>\n",
       "      <td>0</td>\n",
       "      <td>1</td>\n",
       "      <td>0</td>\n",
       "      <td>21.967120</td>\n",
       "    </tr>\n",
       "    <tr>\n",
       "      <th>1</th>\n",
       "      <td>20228</td>\n",
       "      <td>1</td>\n",
       "      <td>156</td>\n",
       "      <td>85.0</td>\n",
       "      <td>140</td>\n",
       "      <td>90</td>\n",
       "      <td>3</td>\n",
       "      <td>1</td>\n",
       "      <td>0</td>\n",
       "      <td>0</td>\n",
       "      <td>1</td>\n",
       "      <td>1</td>\n",
       "      <td>34.927679</td>\n",
       "    </tr>\n",
       "    <tr>\n",
       "      <th>2</th>\n",
       "      <td>18857</td>\n",
       "      <td>1</td>\n",
       "      <td>165</td>\n",
       "      <td>64.0</td>\n",
       "      <td>130</td>\n",
       "      <td>70</td>\n",
       "      <td>3</td>\n",
       "      <td>1</td>\n",
       "      <td>0</td>\n",
       "      <td>0</td>\n",
       "      <td>0</td>\n",
       "      <td>1</td>\n",
       "      <td>23.507805</td>\n",
       "    </tr>\n",
       "    <tr>\n",
       "      <th>3</th>\n",
       "      <td>17623</td>\n",
       "      <td>2</td>\n",
       "      <td>169</td>\n",
       "      <td>82.0</td>\n",
       "      <td>150</td>\n",
       "      <td>100</td>\n",
       "      <td>1</td>\n",
       "      <td>1</td>\n",
       "      <td>0</td>\n",
       "      <td>0</td>\n",
       "      <td>1</td>\n",
       "      <td>1</td>\n",
       "      <td>28.710479</td>\n",
       "    </tr>\n",
       "    <tr>\n",
       "      <th>4</th>\n",
       "      <td>17474</td>\n",
       "      <td>1</td>\n",
       "      <td>156</td>\n",
       "      <td>56.0</td>\n",
       "      <td>100</td>\n",
       "      <td>60</td>\n",
       "      <td>1</td>\n",
       "      <td>1</td>\n",
       "      <td>0</td>\n",
       "      <td>0</td>\n",
       "      <td>0</td>\n",
       "      <td>0</td>\n",
       "      <td>23.011177</td>\n",
       "    </tr>\n",
       "  </tbody>\n",
       "</table>\n",
       "</div>"
      ],
      "text/plain": [
       "     age  gender  height  weight  ap_hi  ap_lo  cholesterol  gluc  smoke  \\\n",
       "0  18393       2     168    62.0    110     80            1     1      0   \n",
       "1  20228       1     156    85.0    140     90            3     1      0   \n",
       "2  18857       1     165    64.0    130     70            3     1      0   \n",
       "3  17623       2     169    82.0    150    100            1     1      0   \n",
       "4  17474       1     156    56.0    100     60            1     1      0   \n",
       "\n",
       "   alco  active  cardio        BMI  \n",
       "0     0       1       0  21.967120  \n",
       "1     0       1       1  34.927679  \n",
       "2     0       0       1  23.507805  \n",
       "3     0       1       1  28.710479  \n",
       "4     0       0       0  23.011177  "
      ]
     },
     "execution_count": 35,
     "metadata": {},
     "output_type": "execute_result"
    }
   ],
   "source": [
    "df=df.drop(columns=['Unnamed: 0'])\n",
    "df.head()"
   ]
  },
  {
   "cell_type": "markdown",
   "metadata": {},
   "source": [
    "Let us check the data type of each columns"
   ]
  },
  {
   "cell_type": "code",
   "execution_count": 36,
   "metadata": {},
   "outputs": [
    {
     "name": "stdout",
     "output_type": "stream",
     "text": [
      "<class 'pandas.core.frame.DataFrame'>\n",
      "RangeIndex: 66478 entries, 0 to 66477\n",
      "Data columns (total 13 columns):\n",
      " #   Column       Non-Null Count  Dtype  \n",
      "---  ------       --------------  -----  \n",
      " 0   age          66478 non-null  int64  \n",
      " 1   gender       66478 non-null  int64  \n",
      " 2   height       66478 non-null  int64  \n",
      " 3   weight       66478 non-null  float64\n",
      " 4   ap_hi        66478 non-null  int64  \n",
      " 5   ap_lo        66478 non-null  int64  \n",
      " 6   cholesterol  66478 non-null  int64  \n",
      " 7   gluc         66478 non-null  int64  \n",
      " 8   smoke        66478 non-null  int64  \n",
      " 9   alco         66478 non-null  int64  \n",
      " 10  active       66478 non-null  int64  \n",
      " 11  cardio       66478 non-null  int64  \n",
      " 12  BMI          66478 non-null  float64\n",
      "dtypes: float64(2), int64(11)\n",
      "memory usage: 6.6 MB\n"
     ]
    }
   ],
   "source": [
    "df.info()"
   ]
  },
  {
   "cell_type": "markdown",
   "metadata": {},
   "source": [
    "# Split into training and testing datasets"
   ]
  },
  {
   "cell_type": "markdown",
   "metadata": {},
   "source": [
    "We will be using sklearn preprocessing to standardize the scale of features of our dataframe.\n",
    "We will set `cardio` as our `y` variable (or response variable) and our `X` varibale will be all our dataframe exept `cardio`."
   ]
  },
  {
   "cell_type": "code",
   "execution_count": 48,
   "metadata": {},
   "outputs": [],
   "source": [
    "X=df.drop(columns=['cardio'])\n",
    "y=df['cardio']"
   ]
  },
  {
   "cell_type": "markdown",
   "metadata": {},
   "source": [
    "Using sklearn model selection import train_test_split, and create a 80/20 split with the y=`cardio`."
   ]
  },
  {
   "cell_type": "code",
   "execution_count": 49,
   "metadata": {},
   "outputs": [],
   "source": [
    "from sklearn.model_selection import train_test_split"
   ]
  },
  {
   "cell_type": "markdown",
   "metadata": {},
   "source": [
    "Let us flatenned our variable y by calling the `ravel()` function on `y`."
   ]
  },
  {
   "cell_type": "code",
   "execution_count": 50,
   "metadata": {},
   "outputs": [],
   "source": [
    "y=y.ravel()"
   ]
  },
  {
   "cell_type": "markdown",
   "metadata": {},
   "source": [
    "We will call `train_test_split()` function with the first two parameters set to `X` and `y`."
   ]
  },
  {
   "cell_type": "code",
   "execution_count": 51,
   "metadata": {},
   "outputs": [],
   "source": [
    "X_train, X_test, y_train, y_test=train_test_split(X, y, test_size=0.2, random_state=1, stratify=y)"
   ]
  },
  {
   "cell_type": "markdown",
   "metadata": {},
   "source": [
    "change do the split train test first then do the standardization of the training set and and the standardization of the testing set"
   ]
  },
  {
   "cell_type": "markdown",
   "metadata": {},
   "source": [
    "# Standardize the magnitude of our features"
   ]
  },
  {
   "cell_type": "markdown",
   "metadata": {},
   "source": [
    "We use StandardScaler() method of the preprocessing package and then call the fit() method with parameter X."
   ]
  },
  {
   "cell_type": "code",
   "execution_count": 52,
   "metadata": {},
   "outputs": [],
   "source": [
    "scaler=preprocessing.StandardScaler().fit(X)"
   ]
  },
  {
   "cell_type": "markdown",
   "metadata": {},
   "source": [
    "We declare 2 variables called X_scaled_train and X_scaled_test and assign them the result of calling the transform() method with respectively parameter X_train and X_test."
   ]
  },
  {
   "cell_type": "code",
   "execution_count": 53,
   "metadata": {},
   "outputs": [],
   "source": [
    "X_scaled_train=scaler.transform(X_train)\n",
    "X_scaled_test=scaler.transform(X_test)"
   ]
  },
  {
   "cell_type": "code",
   "execution_count": 54,
   "metadata": {},
   "outputs": [
    {
     "data": {
      "text/plain": [
       "array([[ 0.67067983, -0.73274923,  0.45501257, ..., -0.2362407 ,\n",
       "         0.49551603,  1.69760911],\n",
       "       [ 0.65202169, -0.73274923,  0.45501257, ..., -0.2362407 ,\n",
       "         0.49551603, -0.91664924],\n",
       "       [ 1.28234248,  1.36472336,  0.84022541, ..., -0.2362407 ,\n",
       "         0.49551603, -0.50874539],\n",
       "       ...,\n",
       "       [-1.48676955, -0.73274923,  0.45501257, ..., -0.2362407 ,\n",
       "        -2.0180982 , -1.29011472],\n",
       "       [ 0.90917959,  1.36472336,  2.25267253, ..., -0.2362407 ,\n",
       "         0.49551603,  0.01988727],\n",
       "       [ 0.12675435, -0.73274923, -0.18700885, ..., -0.2362407 ,\n",
       "         0.49551603, -0.61422499]])"
      ]
     },
     "execution_count": 54,
     "metadata": {},
     "output_type": "execute_result"
    }
   ],
   "source": [
    "X_scaled_train"
   ]
  },
  {
   "cell_type": "code",
   "execution_count": 55,
   "metadata": {},
   "outputs": [
    {
     "data": {
      "text/plain": [
       "array([[-1.17809894, -0.73274923,  0.71182113, ..., -0.2362407 ,\n",
       "         0.49551603, -0.66548401],\n",
       "       [-1.20973666,  1.36472336,  1.35384255, ...,  4.23297084,\n",
       "         0.49551603,  0.76782946],\n",
       "       [ 1.55572486,  1.36472336,  1.99586396, ..., -0.2362407 ,\n",
       "         0.49551603, -0.24109168],\n",
       "       ...,\n",
       "       [ 0.15433596, -0.73274923, -1.85626453, ..., -0.2362407 ,\n",
       "         0.49551603, -0.80586444],\n",
       "       [-0.82278296, -0.73274923, -0.95743455, ..., -0.2362407 ,\n",
       "         0.49551603, -1.49538512],\n",
       "       [ 0.99273563, -0.73274923, -0.70062598, ..., -0.2362407 ,\n",
       "         0.49551603,  1.73324057]])"
      ]
     },
     "execution_count": 55,
     "metadata": {},
     "output_type": "execute_result"
    }
   ],
   "source": [
    "X_scaled_test"
   ]
  },
  {
   "cell_type": "markdown",
   "metadata": {},
   "source": [
    "# Capstone II: Modeling"
   ]
  },
  {
   "cell_type": "markdown",
   "metadata": {},
   "source": [
    "**The different steps we will take are:**"
   ]
  },
  {
   "cell_type": "markdown",
   "metadata": {},
   "source": [
    "* Fit Models with Training Data Set\n",
    "* Review Model Outcomes — Iterate over additional models as needed.\n",
    "* Identify the Final Model"
   ]
  },
  {
   "cell_type": "markdown",
   "metadata": {},
   "source": [
    "## Fit Models with Training Dataset"
   ]
  },
  {
   "cell_type": "markdown",
   "metadata": {},
   "source": [
    "Let us define certain term and use those term to avaluate how well our model perform.\n",
    "\n",
    "* `Precision` is the ratio of correctly predicted positive observations to the total predicted positive observations. The question that this metric answer is of all patient that have cardiovascular disease, how many actually have it?\n",
    "\n",
    "\n",
    "* `Accuracy` is the most intuitive performance measure and it is simply a ratio of correctly predicted observation to the total observations.\n",
    "\n",
    "\n",
    "* `Recall` calculates the percentage of actual positives a model correctly identified (True Positive).\n",
    "\n",
    "\n",
    "* `An ROC` curve (receiver operating characteristic curve) is a graph showing the performance of a classification model at all classification thresholds. This curve plots two parameters: True Positive Rate and False Positive Rate.\n",
    "\n",
    "\n",
    "* `AUC` stands for \"Area under the ROC Curve.\" That is, AUC measures the entire two-dimensional area underneath the entire ROC curve (think integral calculus) from (0,0) to (1,1). AUC provides an aggregate measure of performance across all possible classification thresholds.\n",
    "\n",
    "\n",
    "* `F1 Score` is the weighted average of Precision and Recall. Therefore, this score takes both false positives and false negatives into account. Intuitively it is not as easy to understand as accuracy, but F1 is usually more useful than accuracy, especially if you have an uneven class distribution.\n"
   ]
  },
  {
   "cell_type": "markdown",
   "metadata": {},
   "source": [
    "### Model 1: Logistic Regression"
   ]
  },
  {
   "cell_type": "markdown",
   "metadata": {},
   "source": [
    "We will use sklearn to fit the model on our training dataset and we will use predict() method to predict our model."
   ]
  },
  {
   "cell_type": "code",
   "execution_count": 56,
   "metadata": {},
   "outputs": [],
   "source": [
    "cls = LogisticRegression(solver='lbfgs')\n",
    "cls.fit(X_scaled_train, y_train)\n",
    "y_pred = cls.predict(X_scaled_test)"
   ]
  },
  {
   "cell_type": "code",
   "execution_count": 57,
   "metadata": {},
   "outputs": [
    {
     "name": "stdout",
     "output_type": "stream",
     "text": [
      "F1 score: 0.708189\n",
      "Accuracy: 0.727963\n",
      "AUC: 0.727122\n",
      "Precision: 0.750898\n"
     ]
    }
   ],
   "source": [
    "print(\"F1 score: {:6f}\".format(metrics.f1_score(y_test, y_pred)))\n",
    "print(\"Accuracy: {:6f}\".format(metrics.accuracy_score(y_test, y_pred)))\n",
    "print(\"AUC: {:6f}\".format(metrics.roc_auc_score(y_test, y_pred)))\n",
    "print(\"Precision: {:6f}\".format(metrics.precision_score(y_test, y_pred)))"
   ]
  },
  {
   "cell_type": "markdown",
   "metadata": {},
   "source": [
    "Let us draw the confusion matrix."
   ]
  },
  {
   "cell_type": "code",
   "execution_count": 58,
   "metadata": {},
   "outputs": [
    {
     "data": {
      "text/plain": [
       "Text(0.5, 15.0, 'Predicted value')"
      ]
     },
     "execution_count": 58,
     "metadata": {},
     "output_type": "execute_result"
    },
    {
     "data": {
      "image/png": "[encoded data removed]",
      "text/plain": [
       "<Figure size 432x288 with 2 Axes>"
      ]
     },
     "metadata": {
      "needs_background": "light"
     },
     "output_type": "display_data"
    }
   ],
   "source": [
    "cm = metrics.confusion_matrix(y_test, y_pred)\n",
    "sns.heatmap(cm, annot=True, fmt=\"d\")\n",
    "plt.ylabel(\"Real value\")\n",
    "plt.xlabel(\"Predicted value\")"
   ]
  },
  {
   "cell_type": "markdown",
   "metadata": {},
   "source": [
    "Let us plot the coeficient of our model"
   ]
  },
  {
   "cell_type": "code",
   "execution_count": 59,
   "metadata": {},
   "outputs": [
    {
     "data": {
      "text/plain": [
       "<matplotlib.axes._subplots.AxesSubplot at 0x21e345c5688>"
      ]
     },
     "execution_count": 59,
     "metadata": {},
     "output_type": "execute_result"
    },
    {
     "data": {
      "image/png": "[encoded data removed]",
      "text/plain": [
       "<Figure size 1440x720 with 1 Axes>"
      ]
     },
     "metadata": {
      "needs_background": "light"
     },
     "output_type": "display_data"
    }
   ],
   "source": [
    "X_scaled_train_pd=pd.DataFrame(data=X_scaled_train, index=None, columns=['age', 'gender', 'height', 'weight', 'ap_hi', 'ap_lo', 'cholesterol', 'gluc', 'smoke', 'alco', 'active', 'BMI'])\n",
    "coefs = pd.Series(cls.coef_[0], index=X_scaled_train_pd.columns)\n",
    "coefs.sort_values(inplace=True)\n",
    "plt.figure(figsize=(20,10))\n",
    "coefs.plot(kind=\"bar\")"
   ]
  },
  {
   "cell_type": "markdown",
   "metadata": {},
   "source": [
    "Let us remove `height` and `weight` columns from our data and let see how our model perform."
   ]
  },
  {
   "cell_type": "code",
   "execution_count": 60,
   "metadata": {},
   "outputs": [],
   "source": [
    "X1=X.drop(columns=['height', 'weight'])"
   ]
  },
  {
   "cell_type": "code",
   "execution_count": 61,
   "metadata": {},
   "outputs": [],
   "source": [
    "X1_train, X1_test, y_train, y_test=train_test_split(X1, y, test_size=0.2, random_state=1, stratify=y)\n",
    "scaler=preprocessing.StandardScaler().fit(X1)\n",
    "X1_scaled_train=scaler.transform(X1_train)\n",
    "X1_scaled_test=scaler.transform(X1_test)\n",
    "cls.fit(X1_scaled_train, y_train)\n",
    "y_pred1 = cls.predict(X1_scaled_test)"
   ]
  },
  {
   "cell_type": "code",
   "execution_count": 62,
   "metadata": {},
   "outputs": [
    {
     "name": "stdout",
     "output_type": "stream",
     "text": [
      "F1 score: 0.708730\n",
      "Accuracy: 0.728490\n",
      "AUC: 0.727648\n",
      "Precision: 0.751540\n"
     ]
    }
   ],
   "source": [
    "print(\"F1 score: {:6f}\".format(metrics.f1_score(y_test, y_pred1)))\n",
    "print(\"Accuracy: {:6f}\".format(metrics.accuracy_score(y_test, y_pred1)))\n",
    "print(\"AUC: {:6f}\".format(metrics.roc_auc_score(y_test, y_pred1)))\n",
    "print(\"Precision: {:6f}\".format(metrics.precision_score(y_test, y_pred1)))"
   ]
  },
  {
   "cell_type": "markdown",
   "metadata": {},
   "source": [
    "We can see that our model just improve by a little bit. From now on we will X1 to build future model.\n",
    "\n",
    "Let us use support Vector Machine for the following model"
   ]
  },
  {
   "cell_type": "markdown",
   "metadata": {},
   "source": [
    "## Model 2: Support Vector Machine"
   ]
  },
  {
   "cell_type": "code",
   "execution_count": 61,
   "metadata": {},
   "outputs": [],
   "source": [
    "from sklearn.svm import SVC"
   ]
  },
  {
   "cell_type": "code",
   "execution_count": null,
   "metadata": {},
   "outputs": [
    {
     "name": "stdout",
     "output_type": "stream",
     "text": [
      "Kernel LINEAR\n",
      "\tAccuracy: 0.718487\n",
      "\tF1 score: 0.682447\n",
      "\tAUC: 0.7169695358063471\n",
      "Confusion matrix\n",
      "[[5531 1215]\n",
      " [2528 4022]]\n",
      "\n",
      "\n",
      "Kernel SIGMOID\n",
      "\tAccuracy: 0.507371\n",
      "\tF1 score: 0.000000\n",
      "\tAUC: 0.5\n",
      "Confusion matrix\n",
      "[[6746    0]\n",
      " [6550    0]]\n",
      "\n",
      "\n",
      "Kernel POLY\n"
     ]
    }
   ],
   "source": [
    "for i, kernel in enumerate(['linear', 'sigmoid', 'poly', 'rbf']):\n",
    "  print('Kernel', kernel.upper())\n",
    "  svc = SVC(kernel=kernel, C=1, gamma='auto')\n",
    "  svc.fit(X1_train, y_train)\n",
    "  y_pred = svc.predict(X1_test)\n",
    "  print(\"\\tAccuracy: {:6f}\".format(metrics.accuracy_score(y_test, y_pred)))\n",
    "  print(\"\\tF1 score: {:6f}\".format(metrics.f1_score(y_test, y_pred)))\n",
    "  fig = plt.figure(figsize=(6,10))\n",
    "  ax = fig.add_subplot(4, 1, i + 1)\n",
    "  ax.set_title(\"SVM {}\".format(kernel))\n",
    "  fpr, tpr, thresh = metrics.roc_curve(y_test, y_pred)\n",
    "  auc = metrics.roc_auc_score(y_test, y_pred)\n",
    "  print('\\tAUC:', auc)\n",
    "  print(\"Confusion matrix\\n{}\\n\\n\".format(metrics.confusion_matrix(y_test, y_pred)))\n",
    "  \n",
    "  plt.plot(fpr, tpr)"
   ]
  },
  {
   "cell_type": "code",
   "execution_count": 63,
   "metadata": {},
   "outputs": [],
   "source": [
    "from sklearn.tree import DecisionTreeClassifier\n",
    "from sklearn.ensemble import RandomForestClassifier"
   ]
  },
  {
   "cell_type": "code",
   "execution_count": 64,
   "metadata": {},
   "outputs": [
    {
     "name": "stdout",
     "output_type": "stream",
     "text": [
      "\tAccuracy: 0.732626\n",
      "\tF1 score: 0.712495\n"
     ]
    }
   ],
   "source": [
    "tree = DecisionTreeClassifier(max_depth=5)\n",
    "tree.fit(X1_train, y_train)\n",
    "y_pred = tree.predict(X1_test)\n",
    "print(\"\\tAccuracy: {:6f}\".format(metrics.accuracy_score(y_test, y_pred)))\n",
    "print(\"\\tF1 score: {:6f}\".format(metrics.f1_score(y_test, y_pred)))\n"
   ]
  },
  {
   "cell_type": "code",
   "execution_count": 65,
   "metadata": {},
   "outputs": [
    {
     "ename": "NameError",
     "evalue": "name 'ax' is not defined",
     "output_type": "error",
     "traceback": [
      "\u001b[1;31m---------------------------------------------------------------------------\u001b[0m",
      "\u001b[1;31mNameError\u001b[0m                                 Traceback (most recent call last)",
      "\u001b[1;32m<ipython-input-65-68d5b0ef79dd>\u001b[0m in \u001b[0;36m<module>\u001b[1;34m\u001b[0m\n\u001b[0;32m      1\u001b[0m \u001b[0mfig\u001b[0m \u001b[1;33m=\u001b[0m \u001b[0mplt\u001b[0m\u001b[1;33m.\u001b[0m\u001b[0mfigure\u001b[0m\u001b[1;33m(\u001b[0m\u001b[0mfigsize\u001b[0m\u001b[1;33m=\u001b[0m\u001b[1;33m(\u001b[0m\u001b[1;36m6\u001b[0m\u001b[1;33m,\u001b[0m\u001b[1;36m6\u001b[0m\u001b[1;33m)\u001b[0m\u001b[1;33m)\u001b[0m\u001b[1;33m\u001b[0m\u001b[1;33m\u001b[0m\u001b[0m\n\u001b[1;32m----> 2\u001b[1;33m \u001b[0max\u001b[0m\u001b[1;33m.\u001b[0m\u001b[0mset_title\u001b[0m\u001b[1;33m(\u001b[0m\u001b[1;34m\"DT\"\u001b[0m\u001b[1;33m)\u001b[0m\u001b[1;33m\u001b[0m\u001b[1;33m\u001b[0m\u001b[0m\n\u001b[0m\u001b[0;32m      3\u001b[0m \u001b[0mfpr\u001b[0m\u001b[1;33m,\u001b[0m \u001b[0mtpr\u001b[0m\u001b[1;33m,\u001b[0m \u001b[0mthresh\u001b[0m \u001b[1;33m=\u001b[0m \u001b[0mmetrics\u001b[0m\u001b[1;33m.\u001b[0m\u001b[0mroc_curve\u001b[0m\u001b[1;33m(\u001b[0m\u001b[0my_test\u001b[0m\u001b[1;33m,\u001b[0m \u001b[0my_pred\u001b[0m\u001b[1;33m)\u001b[0m\u001b[1;33m\u001b[0m\u001b[1;33m\u001b[0m\u001b[0m\n\u001b[0;32m      4\u001b[0m \u001b[0mauc\u001b[0m \u001b[1;33m=\u001b[0m \u001b[0mmetrics\u001b[0m\u001b[1;33m.\u001b[0m\u001b[0mroc_auc_score\u001b[0m\u001b[1;33m(\u001b[0m\u001b[0my_test\u001b[0m\u001b[1;33m,\u001b[0m \u001b[0my_pred\u001b[0m\u001b[1;33m)\u001b[0m\u001b[1;33m\u001b[0m\u001b[1;33m\u001b[0m\u001b[0m\n\u001b[0;32m      5\u001b[0m \u001b[0mprint\u001b[0m\u001b[1;33m(\u001b[0m\u001b[1;34m'\\tAUC:'\u001b[0m\u001b[1;33m,\u001b[0m \u001b[0mauc\u001b[0m\u001b[1;33m)\u001b[0m\u001b[1;33m\u001b[0m\u001b[1;33m\u001b[0m\u001b[0m\n",
      "\u001b[1;31mNameError\u001b[0m: name 'ax' is not defined"
     ]
    },
    {
     "data": {
      "text/plain": [
       "<Figure size 432x432 with 0 Axes>"
      ]
     },
     "metadata": {},
     "output_type": "display_data"
    }
   ],
   "source": [
    "fig = plt.figure(figsize=(6,6))\n",
    "ax.set_title(\"DT\")\n",
    "fpr, tpr, thresh = metrics.roc_curve(y_test, y_pred)\n",
    "auc = metrics.roc_auc_score(y_test, y_pred)\n",
    "print('\\tAUC:', auc)\n",
    "plt.plot(fpr, tpr)\n",
    "print(\"Confusion matrix\\n{}\\n\\n\".format(metrics.confusion_matrix(y_test, y_pred)))"
   ]
  },
  {
   "cell_type": "code",
   "execution_count": null,
   "metadata": {},
   "outputs": [],
   "source": []
  }
 ],
 "metadata": {
  "kernelspec": {
   "display_name": "Python 3",
   "language": "python",
   "name": "python3"
  },
  "language_info": {
   "codemirror_mode": {
    "name": "ipython",
    "version": 3
   },
   "file_extension": ".py",
   "mimetype": "text/x-python",
   "name": "python",
   "nbconvert_exporter": "python",
   "pygments_lexer": "ipython3",
   "version": "3.7.6"
  }
 },
 "nbformat": 4,
 "nbformat_minor": 4
}
